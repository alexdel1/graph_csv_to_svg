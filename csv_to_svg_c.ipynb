{
  "nbformat": 4,
  "nbformat_minor": 0,
  "metadata": {
    "colab": {
      "provenance": [],
      "authorship_tag": "ABX9TyOzfhrqi+4aPfjpvIhe6s/C",
      "include_colab_link": true
    },
    "kernelspec": {
      "name": "python3",
      "display_name": "Python 3"
    },
    "language_info": {
      "name": "python"
    }
  },
  "cells": [
    {
      "cell_type": "markdown",
      "metadata": {
        "id": "view-in-github",
        "colab_type": "text"
      },
      "source": [
        "<a href=\"https://colab.research.google.com/github/alexdel1/graph_csv_to_svg/blob/main/csv_to_svg_c.ipynb\" target=\"_parent\"><img src=\"https://colab.research.google.com/assets/colab-badge.svg\" alt=\"Open In Colab\"/></a>"
      ]
    },
    {
      "cell_type": "code",
      "execution_count": 18,
      "metadata": {
        "id": "8YtLVtz5UzKK"
      },
      "outputs": [],
      "source": [
        "# Parse the CSV data\n",
        "csv_data = r\"\"\"source,target,label,style\n",
        "éq. déc.,déc.,3.1.23\n",
        "éq. irr.,irr.,3.1.24\n",
        "éq. comp. réd.,comp. réd.,3.1.25\n",
        "unit.,irr.,3.2.3,dashed\n",
        "éq. unit.,éq. irr.,éq. 3.2.3,dashed\n",
        "unit.,déc.,3.2.3,dashed\n",
        "éq. unit.,éq. déc.,éq. 3.2.3,dashed\n",
        "fini,éq. unit.,3.2.4\n",
        "fini,irr.,3.2.5,dashed\n",
        "fini,déc.,3.2.5,dashed\n",
        "fini,irr. ou déc.,3.2.5\n",
        "irr. ou déc.,irr.\n",
        "irr. ou déc.,déc.\n",
        "irr.,indéc.,3.2.7 pas la réciproque\n",
        "#fini,comp. réd.,3.2.8 Maschke\n",
        "fini,comp. réd.,3.2.8 Mascuyuddrgv\n",
        "\"\"\"\n",
        "csv_node=r\"\"\"name,texlbl,shape\n",
        "#fini,$\\mathrm{card}(G)<\\infty$\n",
        "fini,$\\mathrm{card}(A)<\\infty$\n",
        "#irr. ou déc.,$\\mathrm{ou}$,diamond\n",
        "\"\"\""
      ]
    },
    {
      "cell_type": "markdown",
      "source": [
        "!sudo apt update\n",
        "!sudo apt install graphviz libgraphviz-dev\n",
        "#ne pas oublier la version dev de graphviz\n",
        "\n",
        "!pip install pygraphviz"
      ],
      "metadata": {
        "id": "yJWekLjPYHHa"
      }
    },
    {
      "cell_type": "code",
      "source": [
        "\n",
        "\n",
        "%%capture\n",
        "!pip install git+https://github.com/alexdel1/graph_csv_to_svg.git\n",
        "!sudo apt update\n",
        "!sudo apt install graphviz libgraphviz-dev\n",
        "!pip install pygraphviz\n",
        "!pip install dot2tex\n",
        "!sudo apt install pdf2svg\n",
        "!sudo apt update\n",
        "!sudo apt install texlive-xetex"
      ],
      "metadata": {
        "id": "ZmWI8upy2-7E"
      },
      "execution_count": 2,
      "outputs": []
    },
    {
      "cell_type": "code",
      "source": [
        "import pandas as pd\n",
        "import io\n",
        "import unicodedata\n",
        "import re\n",
        "import networkx as nx\n",
        "import pygraphviz # Import the Graph class\n",
        "from networkx.drawing.nx_pydot import to_pydot\n",
        "from IPython.display import SVG\n",
        "import subprocess"
      ],
      "metadata": {
        "id": "e1UUxWOBWGEX"
      },
      "execution_count": 3,
      "outputs": []
    },
    {
      "cell_type": "code",
      "source": [
        "\n",
        "# Function to convert text to a valid Python variable name\n",
        "def to_variable_name(text):\n",
        "    # Normalize the text to decompose accented characters\n",
        "    text = unicodedata.normalize('NFKD', str(text))\n",
        "\n",
        "    # Remove non-ASCII characters and replace with their base letters\n",
        "    text = text.encode('ascii', 'ignore').decode('ascii')\n",
        "\n",
        "    # Remove remaining special characters and replace spaces with underscores\n",
        "    text = re.sub(r'[^\\w\\s]', '', text)\n",
        "    text = text.replace(' ', '_')\n",
        "\n",
        "    return text\n",
        "\n",
        "\n",
        "'''\n",
        "(B,C)=csv_to_pd(csv_data,csv_node)\n",
        "\n",
        "print(\"\\nDataFrame B:\")\n",
        "print(B)\n",
        "print(\"\\nDataFrame C:\")\n",
        "print(C)\n",
        "'''"
      ],
      "metadata": {
        "id": "e9b7a_atVx-g",
        "colab": {
          "base_uri": "https://localhost:8080/",
          "height": 87
        },
        "outputId": "765d6cc3-7a32-4d9f-b5a9-11770a67c853"
      },
      "execution_count": 9,
      "outputs": [
        {
          "output_type": "execute_result",
          "data": {
            "text/plain": [
              "'\\n(B,C)=csv_to_pd(csv_data,csv_node)\\n\\nprint(\"\\nDataFrame B:\")\\nprint(B)\\nprint(\"\\nDataFrame C:\")\\nprint(C)\\n'"
            ],
            "application/vnd.google.colaboratory.intrinsic+json": {
              "type": "string"
            }
          },
          "metadata": {},
          "execution_count": 9
        }
      ]
    },
    {
      "cell_type": "code",
      "source": [
        "\n",
        "def pd_to_nx(B,C):\n",
        "    # Assuming B and C DataFrames are already created from the previous code\n",
        "\n",
        "    # Create an empty graph\n",
        "    G = nx.DiGraph()  # Using DiGraph for a directed graph\n",
        "\n",
        "    # Add nodes from table B\n",
        "    # Use the 'name' column as node identifier and 'texlbl' as a node attribute\n",
        "    for _, row in B.iterrows():\n",
        "        G.add_node(\n",
        "            row['name'],  # Use the converted variable name as node identifier\n",
        "            texlbl=row['texlbl'],  # Original label as a node attribute\n",
        "            shape=row['shape']\n",
        "        )\n",
        "\n",
        "    # Add edges from table C\n",
        "    for _, row in C.iterrows():\n",
        "        # Add an edge using the converted source and target names\n",
        "        G.add_edge(\n",
        "            row['source_name'],  # Source node\n",
        "            row['target_name'],  # Target node\n",
        "            style=row.get('style', ''),  # Style attribute\n",
        "            texlbl=row.get('label', '')  # Label attribute\n",
        "        )\n",
        "    return G\n",
        "'''\n",
        "G = pd_to_nx(B,C)\n",
        "# Optional: Verify the graph\n",
        "print(\"Number of nodes:\", G.number_of_nodes())\n",
        "print(\"Number of edges:\", G.number_of_edges())\n",
        "\n",
        "# Optional: Print node and edge details\n",
        "print(\"\\nNodes:\")\n",
        "for node in G.nodes(data=True):\n",
        "    print(node)\n",
        "\n",
        "print(\"\\nEdges:\")\n",
        "for edge in G.edges(data=True):\n",
        "    print(edge)\n",
        "'''"
      ],
      "metadata": {
        "id": "VMZcYDCaW2O8",
        "colab": {
          "base_uri": "https://localhost:8080/",
          "height": 209
        },
        "outputId": "0911f398-00f9-4fd5-9faa-836e35c970a7"
      },
      "execution_count": 13,
      "outputs": [
        {
          "output_type": "execute_result",
          "data": {
            "text/plain": [
              "'\\nG = pd_to_nx(B,C)\\n# Optional: Verify the graph\\nprint(\"Number of nodes:\", G.number_of_nodes())\\nprint(\"Number of edges:\", G.number_of_edges())\\n\\n# Optional: Print node and edge details\\nprint(\"\\nNodes:\")\\nfor node in G.nodes(data=True):\\n    print(node)\\n\\nprint(\"\\nEdges:\")\\nfor edge in G.edges(data=True):\\n    print(edge)\\n'"
            ],
            "application/vnd.google.colaboratory.intrinsic+json": {
              "type": "string"
            }
          },
          "metadata": {},
          "execution_count": 13
        }
      ]
    },
    {
      "cell_type": "code",
      "source": [
        "# Convertir le graphe en pygraphviz AGraph\n",
        "#A = to_agraph(G)\n",
        "\n",
        "# Personnaliser le style\n",
        "#A.graph_attr.update(rankdir=\"LR\")  # Orientation de gauche à droite\n",
        "#A.node_attr.update(fontsize=\"10\", style=\"filled\")\n",
        "#A.edge_attr.update(color=\"black\", arrowsize=\"0.5\")\n",
        "#A.graph_attr.update(encoding=\"utf-8\")\n",
        "\n",
        "# Écrire directement dans un fichier DOT\n",
        "#A.write(\"graph.dot\")\n",
        "\n",
        "def nx_to_dot(G,tex_file_path=\"graph\"):\n",
        "    dot_graph = to_pydot(G)\n",
        "\n",
        "    # Save the DOT file\n",
        "    with open(tex_file_path+\".dot\", \"w\", encoding=\"utf-8\") as f:\n",
        "        f.write(dot_graph.to_string())\n",
        "    return(dot_graph)\n",
        "'''\n",
        "dot_graph=nx_to_dot(G)\n",
        "print(dot_graph.to_string())\n",
        "'''\n",
        "\n",
        "\n",
        "# Écrire directement dans un fichier DOT\n",
        "#A.write(\"graph.dot\")\n",
        "\n",
        "\n",
        "'''\n",
        "# Method 3: Using read().splitlines()\n",
        "with open('graph.dot', 'r') as file:\n",
        "    lines = file.read().splitlines()\n",
        "    for line in lines:\n",
        "        print(line)\n",
        "# Method 3: Using read().splitlines()\n",
        "with open('graph.dot', 'r') as file:\n",
        "    lines = file.read().splitlines()\n",
        "    for line in lines:\n",
        "        print(line)\n",
        "'''"
      ],
      "metadata": {
        "id": "vFeUmZ3FXNI2",
        "colab": {
          "base_uri": "https://localhost:8080/",
          "height": 209
        },
        "outputId": "f87296f1-38a8-4888-b1e4-b8717bd36b6c"
      },
      "execution_count": 12,
      "outputs": [
        {
          "output_type": "execute_result",
          "data": {
            "text/plain": [
              "\"\\n# Method 3: Using read().splitlines()\\nwith open('graph.dot', 'r') as file:\\n    lines = file.read().splitlines()\\n    for line in lines:\\n        print(line)\\n# Method 3: Using read().splitlines()\\nwith open('graph.dot', 'r') as file:\\n    lines = file.read().splitlines()\\n    for line in lines:\\n        print(line)\\n\""
            ],
            "application/vnd.google.colaboratory.intrinsic+json": {
              "type": "string"
            }
          },
          "metadata": {},
          "execution_count": 12
        }
      ]
    },
    {
      "cell_type": "markdown",
      "source": [
        "!pip install dot2tex"
      ],
      "metadata": {
        "id": "oXFLE56xfKmA"
      }
    },
    {
      "cell_type": "markdown",
      "source": [
        "!sudo apt install pdf2svg"
      ],
      "metadata": {
        "id": "4UvADon4gSnn"
      }
    },
    {
      "cell_type": "markdown",
      "source": [
        "!sudo apt update\n",
        "!sudo apt install texlive-xetex"
      ],
      "metadata": {
        "id": "tWp-RKB_gaXO"
      }
    },
    {
      "cell_type": "markdown",
      "source": [
        "\n",
        "!dot2tex  --docpreamble \"\\usepackage[utf8]{inputenc} \\usepackage[T1]{fontenc} \\usepackage{amssymb}\" -tmath --autosize graph.dot > graph.tex\n",
        "#!latex"
      ],
      "metadata": {
        "id": "7DJTd4FIfGFC"
      }
    },
    {
      "cell_type": "markdown",
      "source": [
        "# Parse the CSV data\n",
        "csv_data = r\"\"\"source,target,label,style\n",
        "twts,$t^2$,$w_4$\n",
        "éq. déc.,déc.,3.1.23\n",
        "éq. irr.,irr.,3.1.24\n",
        "éq. comp. réd.,comp. réd.,3.1.25\n",
        "unit.,irr.,3.2.3,dashed\n",
        "éq. unit.,éq. irr.,éq. 3.2.3,dashed\n",
        "unit.,déc.,3.2.3,dashed\n",
        "éq. unit.,éq. déc.,éq. 3.2.3,dashed\n",
        "fini,éq. unit.,3.2.4\n",
        "fini,irr.,3.2.5,dashed\n",
        "fini,déc.,3.2.5,dashed\n",
        "irr.,indéc.,3.2.7 pas la réciproque\n",
        "fini,comp. réd.,3.2.8 Maschke\n",
        "$\\phi \\nsim \\rho$,$\\frac{\\gamma}{x^2}$,test\n",
        "\"\"\""
      ],
      "metadata": {
        "id": "q1riEzmz0Dve"
      }
    },
    {
      "cell_type": "code",
      "source": [
        "#\n",
        "#!dot2tex  --docpreamble \"\\usepackage[utf8]{inputenc} \\usepackage[T1]{fontenc} \\usepackage{amssymb}\" -tmath --autosize testnode.dot > testnode.tex\n",
        "#!latex"
      ],
      "metadata": {
        "id": "nwyIUbI-Iza-"
      },
      "execution_count": null,
      "outputs": []
    },
    {
      "cell_type": "code",
      "source": [
        "#!xelatex testnode.tex\n",
        "#!pdf2svg testnode.pdf testnode.svg\n",
        "\n",
        "#SVG(\"testnode.svg\")"
      ],
      "metadata": {
        "id": "O6Tf5M-9J_7-"
      },
      "execution_count": null,
      "outputs": []
    },
    {
      "cell_type": "markdown",
      "source": [
        "csv_node=r\"\"\"name,texlbl\n",
        "fini,$\\text{card}(G)<\\infty$\n",
        "\"\"\""
      ],
      "metadata": {
        "id": "O9eOxhYje-P_"
      }
    },
    {
      "cell_type": "code",
      "source": [
        "'''\n",
        "def text_to_dot(dot_text: str, file_name: str):\n",
        "    \"\"\"\n",
        "    Save the given DOT text to a file.\n",
        "\n",
        "    :param dot_text: The text content in DOT format.\n",
        "    :param file_name: The name of the file to save the content (e.g., \"graph.dot\").\n",
        "    \"\"\"\n",
        "    try:\n",
        "        with open(file_name, 'w', encoding='utf-8') as file:\n",
        "            file.write(dot_text)\n",
        "        print(f\"DOT file saved successfully as '{file_name}'\")\n",
        "    except Exception as e:\n",
        "        print(f\"An error occurred while saving the file: {e}\")\n",
        "\n",
        "# Example usage:\n",
        "dot_text = \"\"\"\n",
        "digraph G {\n",
        "    rankdir=LR;\n",
        "    node [shape=rectangle];\n",
        "\n",
        "    // Rectangle central\n",
        "    rect [label=\"Rectangle central\", shape=rect];\n",
        "\n",
        "    // Entrées\n",
        "    in1 [label=\"Entrée 1\", shape=circle];\n",
        "    in2 [label=\"Entrée 2\", shape=circle];\n",
        "    in3 [label=\"Entrée 3\", shape=circle];\n",
        "\n",
        "    // Sorties\n",
        "    out1 [label=\"Sortie 1\", shape=circle];\n",
        "    out2 [label=\"Sortie 2\", shape=circle];\n",
        "    out3 [label=\"Sortie 3\", shape=circle];\n",
        "\n",
        "    // Connexions vers le rectangle\n",
        "    in1 -> rect;\n",
        "    in2 -> rect;\n",
        "    in3 -> rect;\n",
        "\n",
        "    // Connexions depuis le rectangle\n",
        "    rect -> out1;\n",
        "    rect -> out2;\n",
        "    rect -> out3;\n",
        "}\n",
        "\"\"\"\n",
        "text_to_dot(dot_text, \"graphorand.dot\")\n",
        "'''"
      ],
      "metadata": {
        "colab": {
          "base_uri": "https://localhost:8080/",
          "height": 574
        },
        "id": "Stl9uZFMfnaw",
        "outputId": "ebbe1250-0d93-4dd9-fed5-dcd1c0ce2b3d"
      },
      "execution_count": null,
      "outputs": [
        {
          "output_type": "execute_result",
          "data": {
            "text/plain": [
              "'\\ndef text_to_dot(dot_text: str, file_name: str):\\n    \"\"\"\\n    Save the given DOT text to a file.\\n\\n    :param dot_text: The text content in DOT format.\\n    :param file_name: The name of the file to save the content (e.g., \"graph.dot\").\\n    \"\"\"\\n    try:\\n        with open(file_name, \\'w\\', encoding=\\'utf-8\\') as file:\\n            file.write(dot_text)\\n        print(f\"DOT file saved successfully as \\'{file_name}\\'\")\\n    except Exception as e:\\n        print(f\"An error occurred while saving the file: {e}\")\\n\\n# Example usage:\\ndot_text = \"\"\"\\ndigraph G {\\n    rankdir=LR;\\n    node [shape=rectangle];\\n\\n    // Rectangle central\\n    rect [label=\"Rectangle central\", shape=rect];\\n\\n    // Entrées\\n    in1 [label=\"Entrée 1\", shape=circle];\\n    in2 [label=\"Entrée 2\", shape=circle];\\n    in3 [label=\"Entrée 3\", shape=circle];\\n\\n    // Sorties\\n    out1 [label=\"Sortie 1\", shape=circle];\\n    out2 [label=\"Sortie 2\", shape=circle];\\n    out3 [label=\"Sortie 3\", shape=circle];\\n\\n    // Connexions vers le rectangle\\n    in1 -> rect;\\n    in2 -> rect;\\n    in3 -> rect;\\n\\n    // Connexions depuis le rectangle\\n    rect -> out1;\\n    rect -> out2;\\n    rect -> out3;\\n}\\n\"\"\"\\ntext_to_dot(dot_text, \"graphorand.dot\")\\n'"
            ],
            "application/vnd.google.colaboratory.intrinsic+json": {
              "type": "string"
            }
          },
          "metadata": {},
          "execution_count": 104
        }
      ]
    },
    {
      "cell_type": "code",
      "source": [
        "def dot_to_svg(tex_file_path):\n",
        "    # Using subprocess for shell commands\n",
        "    subprocess.run(f'dot2tex --docpreamble \"\\\\usepackage[utf8]{{inputenc}} \\\\usepackage[T1]{{fontenc}} \\\\usepackage{{amssymb}}\" -tmath --autosize \"{tex_file_path}.dot\" > \"{tex_file_path}.tex\"', shell=True)\n",
        "    insert_resizebox(f\"{tex_file_path}.tex\")\n",
        "    subprocess.run(f'xelatex \"{tex_file_path}.tex\"', shell=True)\n",
        "\n",
        "    subprocess.run(f'pdf2svg \"{tex_file_path}.pdf\" \"{tex_file_path}.svg\"', shell=True)\n",
        "\n",
        "    SVG(f\"{tex_file_path}.svg\")\n",
        "\n",
        "#dot_to_svg(\"graphorand\")"
      ],
      "metadata": {
        "id": "AkdVpOGFf7E_"
      },
      "execution_count": null,
      "outputs": []
    },
    {
      "cell_type": "code",
      "source": [
        "# Parse the CSV data\n",
        "csv_data = r\"\"\"source,target,label,style\n",
        "éq. déc.,déc.,3.1.23\n",
        "éq. irr.,irr.,3.1.24\n",
        "éq. comp. réd.,comp. réd.,3.1.25\n",
        "unit.,irr. ou déc.2,3.2.3\n",
        "éq. unit.,éq. irr. ou éq. déc.,éq. 3.2.3\n",
        "éq. irr. ou éq. déc.,éq. irr.,\n",
        "éq. irr. ou éq. déc.,éq. déc.,\n",
        "fini,éq. unit.,3.2.4\n",
        "fini,irr. ou déc.1,3.2.5\n",
        "irr. ou déc.1,irr., ,\n",
        "irr. ou déc.1,déc., ,\n",
        "irr. ou déc.2,irr., ,\n",
        "irr. ou déc.2,déc., ,\n",
        "irr.,indéc.,3.2.7 pas la réciproque\n",
        "fini,comp. réd.,3.2.8 Th. Maschke\n",
        "phinsimrho,homgphirho0,4.1.6 Lemme Schur\n",
        "phiegalrho,Thomothetie,4.1.6 Lemme Schur\n",
        "irr.,phirho,\n",
        "phirho,phirho irr.,\n",
        "phirho irr.,phinsimrho ou phiegalrho,4.1.6 Lemme Schur\n",
        "phinsimrho ou phiegalrho,phinsimrho\n",
        "phinsimrho ou phiegalrho,phiegalrho\n",
        "phinsimrho ou phiegalrho,phisimrho\"\"\"\n",
        "\n",
        "csv_node=r\"\"\"name,texlbl,shape\n",
        "fini,$\\mathrm{card}(G)<\\infty$\n",
        "irr. ou déc.1,$\\mathrm{ou}$,diamond\n",
        "éq. irr. ou éq. déc.,$\\mathrm{ou}$,diamond\n",
        "irr. ou déc.2,$\\mathrm{ou}$,diamond\n",
        "phinsimrho,$\\phi\\nsim\\rho$\n",
        "phisimrho,$\\phi\\sim\\rho$\n",
        "phiegalrho,$\\phi = \\rho$\n",
        "homgphirho0,\"$\\mathrm{Hom}_G(\\phi, \\rho)=0$\"\n",
        "Thomothetie,$T=\\lambda I$\n",
        "phirho,\"$\\phi,\\rho$\",diamond\n",
        "phirho irr.,\"$\\phi,\\rho\\quad\\mathrm{irr.}$\"\n",
        "\"\"\"\n",
        "'''\n",
        "\n",
        "phinsimrho ou phiegalrho,phinsimrho\n",
        "\n",
        "\n",
        "phirho irr.,phinsimrho ou phiegalrho,4.1.6 Lemme Schur\n",
        "phinsimrho ou phiegalrho,phinsimrho\n",
        "phinsimrho ou phiegalrho,phiegalrho\n",
        "phinsimrho ou phiegalrho,phisimrhophinsimrho,$\\phi \\nsym \\rho$\n",
        "\n",
        "homgphirho0,$\\mathrm{Hom}_G(\\phi \\rho)=0$\n",
        "Thomothetie,$T=\\lambda I$\n",
        "'''"
      ],
      "metadata": {
        "colab": {
          "base_uri": "https://localhost:8080/",
          "height": 209
        },
        "id": "iBuP4WO73o_m",
        "outputId": "6701e71d-5341-4c06-a08a-e8052f85e3bd"
      },
      "execution_count": null,
      "outputs": [
        {
          "output_type": "execute_result",
          "data": {
            "text/plain": [
              "'\\n\\nphinsimrho ou phiegalrho,phinsimrho\\n\\n\\nphirho irr.,phinsimrho ou phiegalrho,4.1.6 Lemme Schur\\nphinsimrho ou phiegalrho,phinsimrho\\nphinsimrho ou phiegalrho,phiegalrho\\nphinsimrho ou phiegalrho,phisimrhophinsimrho,$\\\\phi \\nsym \\rho$\\n\\nhomgphirho0,$\\\\mathrm{Hom}_G(\\\\phi \\rho)=0$\\nThomothetie,$T=\\\\lambda I$\\n'"
            ],
            "application/vnd.google.colaboratory.intrinsic+json": {
              "type": "string"
            }
          },
          "metadata": {},
          "execution_count": 109
        }
      ]
    },
    {
      "cell_type": "code",
      "source": [
        "'''\n",
        "tex_file_path=\"graphsim\"\n",
        "(B,C)=csv_to_pd(csv_data,csv_node)\n",
        "G = pd_to_nx(B,C)\n",
        "nx_to_dot(G,tex_file_path)\n",
        "\n",
        "!dot2tex --docpreamble \"\\\\usepackage[utf8]{{inputenc}} \\\\usepackage[T1]{{fontenc}} \\\\usepackage{{amssymb}}\" -tmath --autosize \"{tex_file_path}.dot\" > \"{tex_file_path}.tex\"\n",
        "insert_resizebox(f\"{tex_file_path}.tex\")\n",
        "!xelatex \"{tex_file_path}.tex\"\n",
        "subprocess.run(f'pdf2svg \"{tex_file_path}.pdf\" \"{tex_file_path}.svg\"', shell=True)\n",
        "SVG(f\"{tex_file_path}.svg\")\n",
        "'''"
      ],
      "metadata": {
        "colab": {
          "base_uri": "https://localhost:8080/",
          "height": 296
        },
        "id": "ahh0BWU6VT5I",
        "outputId": "d7083ed5-ec80-44d3-98a0-e867164cf7b4"
      },
      "execution_count": null,
      "outputs": [
        {
          "output_type": "execute_result",
          "data": {
            "text/plain": [
              "'\\ntex_file_path=\"graphsim\"\\n(B,C)=csv_to_pd(csv_data,csv_node)\\nG = pd_to_nx(B,C)\\nnx_to_dot(G,tex_file_path)\\n\\n!dot2tex --docpreamble \"\\\\usepackage[utf8]{{inputenc}} \\\\usepackage[T1]{{fontenc}} \\\\usepackage{{amssymb}}\" -tmath --autosize \"{tex_file_path}.dot\" > \"{tex_file_path}.tex\"\\ninsert_resizebox(f\"{tex_file_path}.tex\")\\n!xelatex \"{tex_file_path}.tex\"\\nsubprocess.run(f\\'pdf2svg \"{tex_file_path}.pdf\" \"{tex_file_path}.svg\"\\', shell=True)\\nSVG(f\"{tex_file_path}.svg\")\\n'"
            ],
            "application/vnd.google.colaboratory.intrinsic+json": {
              "type": "string"
            }
          },
          "metadata": {},
          "execution_count": 108
        }
      ]
    },
    {
      "cell_type": "code",
      "source": [
        "\n",
        "def insert_standalone(tex_file_path):\n",
        "    with open(tex_file_path, 'r') as f:\n",
        "        lines = f.readlines()\n",
        "\n",
        "    for i, line in enumerate(lines):\n",
        "        if line.startswith(r\"\\documentclass{article}\"):\n",
        "            lines[i] = r\"\\documentclass[border=0pt]{standalone}\" + \"\\n\"\n",
        "            break\n",
        "    for i, line in enumerate(lines):\n",
        "        if line.startswith(r\"\\enlargethispage{100cm}\"):\n",
        "            lines[i] = r\"\" + \"\\n\"\n",
        "            break\n",
        "\n",
        "\n",
        "    with open(tex_file_path, 'w') as f:\n",
        "        f.writelines(lines)\n",
        "\n",
        "\n",
        "def test():\n",
        "    print(f\"ipynb version test\")\n",
        "#csv_to_svg(csv_data)\n",
        "#csv_to_svg(csv_data,csv_node,\"testor\")\n",
        "\n",
        "def csv_to_pd(csv_data,csv_node=\"\"):\n",
        "    # Create DataFrame A\n",
        "    A = pd.read_csv(io.StringIO(csv_data), comment='#')\n",
        "    D = \"\"\n",
        "       # Create DataFrame B with distinct elements from first two columns\n",
        "    B = pd.concat([A['source'], A['target']]).drop_duplicates()\n",
        "    B = pd.DataFrame({\n",
        "        'texlbl': B,\n",
        "        'name': B\n",
        "    })\n",
        "    print(\"here 1\",B)\n",
        "    #If a node CSV is provided, update texlbl in B with node labels\n",
        "    if csv_node:\n",
        "        D = pd.read_csv(io.StringIO(csv_node), comment='#')\n",
        "        print(D)\n",
        "        print(B)\n",
        "        # Merge B with D to update texlbl\n",
        "        B = B.merge(D[['name', 'texlbl','shape']], on='name', how='left')\n",
        "        #print(B)\n",
        "        # Update texlbl column, keeping original if no match in D\n",
        "        B['texlbl'] = B['texlbl_y'].fillna(B['texlbl_x'])\n",
        "\n",
        "        # Drop the temporary merge columns\n",
        "        B = B.drop(columns=['texlbl_x', 'texlbl_y'])\n",
        "        #print(B)\n",
        "    print(\"here2\",B)\n",
        "    B = pd.DataFrame({\n",
        "        'texlbl': B['texlbl'],\n",
        "        'name': B['name'].apply(to_variable_name),\n",
        "        'shape':B['shape']})\n",
        "    # Create DataFrame C\n",
        "    print(\"here3\",B)\n",
        "    # Create DataFrame C\n",
        "    C = pd.DataFrame({\n",
        "        'source_name': A['source'].apply(to_variable_name),\n",
        "        'target_name': A['target'].apply(to_variable_name),\n",
        "        'label': A['label'],\n",
        "        'style': A.iloc[:, 3]\n",
        "    })\n",
        "\n",
        "    C.fillna(\"solid\", inplace=True)\n",
        "    return (B,C)\n",
        "def csv_to_svg(csv_data,csv_node=\"\",tex_file_path = \"graph\"):\n",
        "    (B,C)=csv_to_pd(csv_data,csv_node)\n",
        "    G = pd_to_nx(B,C)\n",
        "    nx_to_dot(G,tex_file_path)\n",
        "\n",
        "\n",
        "    # Using subprocess for shell commands\n",
        "    subprocess.run(f'dot2tex --docpreamble \"\\\\usepackage[utf8]{{inputenc}} \\\\usepackage[T1]{{fontenc}} \\\\usepackage{{amssymb}}\" -tmath --autosize \"{tex_file_path}.dot\" > \"{tex_file_path}.tex\"', shell=True)\n",
        "    insert_standalone(f\"{tex_file_path}.tex\")\n",
        "    subprocess.run(f'xelatex \"{tex_file_path}.tex\"', shell=True)\n",
        "\n",
        "    subprocess.run(f'pdf2svg \"{tex_file_path}.pdf\" \"{tex_file_path}.svg\"', shell=True)\n",
        "    print(f\"ipynb version\")\n",
        "    display(SVG(f\"{tex_file_path}.svg\"))\n",
        "\n",
        "'''\n",
        "\n",
        "(B,C)=csv_to_pd(csv_data,csv_node)\n",
        "display(B)\n",
        "G = pd_to_nx(B,C)\n",
        "nx_to_dot(G,tex_file_path)\n",
        "display(B)\n",
        "C\n",
        "'''\n",
        "csv_to_svg(csv_data,csv_node,\"teststandalone\")"
      ],
      "metadata": {
        "id": "tTKfkBFv7-zA",
        "colab": {
          "base_uri": "https://localhost:8080/",
          "height": 1000
        },
        "outputId": "1cbbea94-12a5-4fa3-a77f-83f877b842e4"
      },
      "execution_count": 19,
      "outputs": [
        {
          "output_type": "stream",
          "name": "stdout",
          "text": [
            "here 1             texlbl            name\n",
            "0         éq. déc.        éq. déc.\n",
            "1         éq. irr.        éq. irr.\n",
            "2   éq. comp. réd.  éq. comp. réd.\n",
            "3            unit.           unit.\n",
            "4        éq. unit.       éq. unit.\n",
            "7             fini            fini\n",
            "11    irr. ou déc.    irr. ou déc.\n",
            "13            irr.            irr.\n",
            "0             déc.            déc.\n",
            "2       comp. réd.      comp. réd.\n",
            "13          indéc.          indéc.\n",
            "   name                     texlbl  shape\n",
            "0  fini  $\\mathrm{card}(A)<\\infty$    NaN\n",
            "            texlbl            name\n",
            "0         éq. déc.        éq. déc.\n",
            "1         éq. irr.        éq. irr.\n",
            "2   éq. comp. réd.  éq. comp. réd.\n",
            "3            unit.           unit.\n",
            "4        éq. unit.       éq. unit.\n",
            "7             fini            fini\n",
            "11    irr. ou déc.    irr. ou déc.\n",
            "13            irr.            irr.\n",
            "0             déc.            déc.\n",
            "2       comp. réd.      comp. réd.\n",
            "13          indéc.          indéc.\n",
            "here2               name  shape                     texlbl\n",
            "0         éq. déc.    NaN                   éq. déc.\n",
            "1         éq. irr.    NaN                   éq. irr.\n",
            "2   éq. comp. réd.    NaN             éq. comp. réd.\n",
            "3            unit.    NaN                      unit.\n",
            "4        éq. unit.    NaN                  éq. unit.\n",
            "5             fini    NaN  $\\mathrm{card}(A)<\\infty$\n",
            "6     irr. ou déc.    NaN               irr. ou déc.\n",
            "7             irr.    NaN                       irr.\n",
            "8             déc.    NaN                       déc.\n",
            "9       comp. réd.    NaN                 comp. réd.\n",
            "10          indéc.    NaN                     indéc.\n",
            "here3                        texlbl         name  shape\n",
            "0                    éq. déc.       eq_dec    NaN\n",
            "1                    éq. irr.       eq_irr    NaN\n",
            "2              éq. comp. réd.  eq_comp_red    NaN\n",
            "3                       unit.         unit    NaN\n",
            "4                   éq. unit.      eq_unit    NaN\n",
            "5   $\\mathrm{card}(A)<\\infty$         fini    NaN\n",
            "6                irr. ou déc.   irr_ou_dec    NaN\n",
            "7                        irr.          irr    NaN\n",
            "8                        déc.          dec    NaN\n",
            "9                  comp. réd.     comp_red    NaN\n",
            "10                     indéc.        indec    NaN\n",
            "ipynb version\n"
          ]
        },
        {
          "output_type": "display_data",
          "data": {
            "text/plain": [
              "<IPython.core.display.SVG object>"
            ],
            "image/svg+xml": "<svg xmlns=\"http://www.w3.org/2000/svg\" xmlns:xlink=\"http://www.w3.org/1999/xlink\" width=\"558.99pt\" height=\"403pt\" viewBox=\"0 0 558.99 403\" version=\"1.1\">\n<defs>\n<g>\n<symbol overflow=\"visible\" id=\"glyph0-0\">\n<path style=\"stroke:none;\" d=\"\"/>\n</symbol>\n<symbol overflow=\"visible\" id=\"glyph0-1\">\n<path style=\"stroke:none;\" d=\"M 4.5625 -1.703125 C 4.5625 -2.515625 3.921875 -3.296875 2.890625 -3.515625 C 3.703125 -3.78125 4.28125 -4.46875 4.28125 -5.265625 C 4.28125 -6.078125 3.40625 -6.640625 2.453125 -6.640625 C 1.453125 -6.640625 0.6875 -6.046875 0.6875 -5.28125 C 0.6875 -4.953125 0.90625 -4.765625 1.203125 -4.765625 C 1.5 -4.765625 1.703125 -4.984375 1.703125 -5.28125 C 1.703125 -5.765625 1.234375 -5.765625 1.09375 -5.765625 C 1.390625 -6.265625 2.046875 -6.390625 2.40625 -6.390625 C 2.828125 -6.390625 3.375 -6.171875 3.375 -5.28125 C 3.375 -5.15625 3.34375 -4.578125 3.09375 -4.140625 C 2.796875 -3.65625 2.453125 -3.625 2.203125 -3.625 C 2.125 -3.609375 1.890625 -3.59375 1.8125 -3.59375 C 1.734375 -3.578125 1.671875 -3.5625 1.671875 -3.46875 C 1.671875 -3.359375 1.734375 -3.359375 1.90625 -3.359375 L 2.34375 -3.359375 C 3.15625 -3.359375 3.53125 -2.6875 3.53125 -1.703125 C 3.53125 -0.34375 2.84375 -0.0625 2.40625 -0.0625 C 1.96875 -0.0625 1.21875 -0.234375 0.875 -0.8125 C 1.21875 -0.765625 1.53125 -0.984375 1.53125 -1.359375 C 1.53125 -1.71875 1.265625 -1.921875 0.984375 -1.921875 C 0.734375 -1.921875 0.421875 -1.78125 0.421875 -1.34375 C 0.421875 -0.4375 1.34375 0.21875 2.4375 0.21875 C 3.65625 0.21875 4.5625 -0.6875 4.5625 -1.703125 Z M 4.5625 -1.703125 \"/>\n</symbol>\n<symbol overflow=\"visible\" id=\"glyph0-2\">\n<path style=\"stroke:none;\" d=\"M 1.90625 -0.53125 C 1.90625 -0.8125 1.671875 -1.0625 1.390625 -1.0625 C 1.09375 -1.0625 0.859375 -0.8125 0.859375 -0.53125 C 0.859375 -0.234375 1.09375 0 1.390625 0 C 1.671875 0 1.90625 -0.234375 1.90625 -0.53125 Z M 1.90625 -0.53125 \"/>\n</symbol>\n<symbol overflow=\"visible\" id=\"glyph0-3\">\n<path style=\"stroke:none;\" d=\"M 4.171875 0 L 4.171875 -0.3125 L 3.859375 -0.3125 C 2.953125 -0.3125 2.9375 -0.421875 2.9375 -0.78125 L 2.9375 -6.375 C 2.9375 -6.625 2.9375 -6.640625 2.703125 -6.640625 C 2.078125 -6 1.203125 -6 0.890625 -6 L 0.890625 -5.6875 C 1.09375 -5.6875 1.671875 -5.6875 2.1875 -5.953125 L 2.1875 -0.78125 C 2.1875 -0.421875 2.15625 -0.3125 1.265625 -0.3125 L 0.953125 -0.3125 L 0.953125 0 C 1.296875 -0.03125 2.15625 -0.03125 2.5625 -0.03125 C 2.953125 -0.03125 3.828125 -0.03125 4.171875 0 Z M 4.171875 0 \"/>\n</symbol>\n<symbol overflow=\"visible\" id=\"glyph0-4\">\n<path style=\"stroke:none;\" d=\"M 4.46875 -1.734375 L 4.234375 -1.734375 C 4.171875 -1.4375 4.109375 -1 4 -0.84375 C 3.9375 -0.765625 3.28125 -0.765625 3.0625 -0.765625 L 1.265625 -0.765625 L 2.328125 -1.796875 C 3.875 -3.171875 4.46875 -3.703125 4.46875 -4.703125 C 4.46875 -5.84375 3.578125 -6.640625 2.359375 -6.640625 C 1.234375 -6.640625 0.5 -5.71875 0.5 -4.828125 C 0.5 -4.28125 1 -4.28125 1.03125 -4.28125 C 1.203125 -4.28125 1.546875 -4.390625 1.546875 -4.8125 C 1.546875 -5.0625 1.359375 -5.328125 1.015625 -5.328125 C 0.9375 -5.328125 0.921875 -5.328125 0.890625 -5.3125 C 1.109375 -5.96875 1.65625 -6.328125 2.234375 -6.328125 C 3.140625 -6.328125 3.5625 -5.515625 3.5625 -4.703125 C 3.5625 -3.90625 3.078125 -3.125 2.515625 -2.5 L 0.609375 -0.375 C 0.5 -0.265625 0.5 -0.234375 0.5 0 L 4.203125 0 Z M 4.46875 -1.734375 \"/>\n</symbol>\n<symbol overflow=\"visible\" id=\"glyph0-5\">\n<path style=\"stroke:none;\" d=\"M 4.6875 -1.640625 L 4.6875 -1.953125 L 3.703125 -1.953125 L 3.703125 -6.484375 C 3.703125 -6.6875 3.703125 -6.75 3.53125 -6.75 C 3.453125 -6.75 3.421875 -6.75 3.34375 -6.625 L 0.28125 -1.953125 L 0.28125 -1.640625 L 2.9375 -1.640625 L 2.9375 -0.78125 C 2.9375 -0.421875 2.90625 -0.3125 2.171875 -0.3125 L 1.96875 -0.3125 L 1.96875 0 C 2.375 -0.03125 2.890625 -0.03125 3.3125 -0.03125 C 3.734375 -0.03125 4.25 -0.03125 4.671875 0 L 4.671875 -0.3125 L 4.453125 -0.3125 C 3.71875 -0.3125 3.703125 -0.421875 3.703125 -0.78125 L 3.703125 -1.640625 Z M 2.984375 -1.953125 L 0.5625 -1.953125 L 2.984375 -5.671875 Z M 2.984375 -1.953125 \"/>\n</symbol>\n<symbol overflow=\"visible\" id=\"glyph0-6\">\n<path style=\"stroke:none;\" d=\"M 4.46875 -2 C 4.46875 -3.1875 3.65625 -4.1875 2.578125 -4.1875 C 2.109375 -4.1875 1.671875 -4.03125 1.3125 -3.671875 L 1.3125 -5.625 C 1.515625 -5.5625 1.84375 -5.5 2.15625 -5.5 C 3.390625 -5.5 4.09375 -6.40625 4.09375 -6.53125 C 4.09375 -6.59375 4.0625 -6.640625 3.984375 -6.640625 C 3.984375 -6.640625 3.953125 -6.640625 3.90625 -6.609375 C 3.703125 -6.515625 3.21875 -6.3125 2.546875 -6.3125 C 2.15625 -6.3125 1.6875 -6.390625 1.21875 -6.59375 C 1.140625 -6.625 1.109375 -6.625 1.109375 -6.625 C 1 -6.625 1 -6.546875 1 -6.390625 L 1 -3.4375 C 1 -3.265625 1 -3.1875 1.140625 -3.1875 C 1.21875 -3.1875 1.234375 -3.203125 1.28125 -3.265625 C 1.390625 -3.421875 1.75 -3.96875 2.5625 -3.96875 C 3.078125 -3.96875 3.328125 -3.515625 3.40625 -3.328125 C 3.5625 -2.953125 3.59375 -2.578125 3.59375 -2.078125 C 3.59375 -1.71875 3.59375 -1.125 3.34375 -0.703125 C 3.109375 -0.3125 2.734375 -0.0625 2.28125 -0.0625 C 1.5625 -0.0625 0.984375 -0.59375 0.8125 -1.171875 C 0.84375 -1.171875 0.875 -1.15625 0.984375 -1.15625 C 1.3125 -1.15625 1.484375 -1.40625 1.484375 -1.640625 C 1.484375 -1.890625 1.3125 -2.140625 0.984375 -2.140625 C 0.84375 -2.140625 0.5 -2.0625 0.5 -1.609375 C 0.5 -0.75 1.1875 0.21875 2.296875 0.21875 C 3.453125 0.21875 4.46875 -0.734375 4.46875 -2 Z M 4.46875 -2 \"/>\n</symbol>\n<symbol overflow=\"visible\" id=\"glyph0-7\">\n<path style=\"stroke:none;\" d=\"M 4.140625 -1.1875 C 4.140625 -1.28125 4.0625 -1.3125 4 -1.3125 C 3.921875 -1.3125 3.890625 -1.25 3.875 -1.171875 C 3.53125 -0.140625 2.625 -0.140625 2.53125 -0.140625 C 2.03125 -0.140625 1.640625 -0.4375 1.40625 -0.8125 C 1.109375 -1.28125 1.109375 -1.9375 1.109375 -2.296875 L 3.890625 -2.296875 C 4.109375 -2.296875 4.140625 -2.296875 4.140625 -2.515625 C 4.140625 -3.5 3.59375 -4.46875 2.359375 -4.46875 C 1.203125 -4.46875 0.28125 -3.4375 0.28125 -2.1875 C 0.28125 -0.859375 1.328125 0.109375 2.46875 0.109375 C 3.6875 0.109375 4.140625 -1 4.140625 -1.1875 Z M 3.484375 -2.515625 L 1.109375 -2.515625 C 1.171875 -4 2.015625 -4.25 2.359375 -4.25 C 3.375 -4.25 3.484375 -2.90625 3.484375 -2.515625 Z M 3.453125 -6.59375 C 3.453125 -6.78125 3.265625 -6.953125 3.09375 -6.953125 C 2.9375 -6.953125 2.828125 -6.84375 2.796875 -6.78125 L 1.59375 -5.265625 L 1.765625 -5.078125 L 3.28125 -6.296875 C 3.375 -6.375 3.453125 -6.484375 3.453125 -6.59375 Z M 3.453125 -6.59375 \"/>\n</symbol>\n<symbol overflow=\"visible\" id=\"glyph0-8\">\n<path style=\"stroke:none;\" d=\"M 5.25 1.9375 L 5.25 1.625 C 4.578125 1.625 4.46875 1.625 4.46875 1.171875 L 4.46875 -4.40625 L 4.25 -4.40625 L 3.875 -3.5 C 3.75 -3.78125 3.34375 -4.40625 2.546875 -4.40625 C 1.390625 -4.40625 0.34375 -3.4375 0.34375 -2.140625 C 0.34375 -0.890625 1.3125 0.109375 2.46875 0.109375 C 3.15625 0.109375 3.5625 -0.3125 3.78125 -0.609375 L 3.78125 1.171875 C 3.78125 1.625 3.671875 1.625 3.015625 1.625 L 3.015625 1.9375 L 4.125 1.90625 Z M 3.8125 -1.359375 C 3.8125 -1.03125 3.640625 -0.75 3.421875 -0.515625 C 3.296875 -0.375 2.96875 -0.109375 2.5 -0.109375 C 1.78125 -0.109375 1.171875 -1 1.171875 -2.140625 C 1.171875 -3.328125 1.859375 -4.15625 2.609375 -4.15625 C 3.40625 -4.15625 3.8125 -3.296875 3.8125 -2.765625 Z M 3.8125 -1.359375 \"/>\n</symbol>\n<symbol overflow=\"visible\" id=\"glyph0-9\">\n<path style=\"stroke:none;\" d=\"M 4.5625 -1.671875 C 4.5625 -2.03125 4.453125 -2.484375 4.0625 -2.90625 C 3.875 -3.109375 3.71875 -3.203125 3.078125 -3.609375 C 3.796875 -3.984375 4.28125 -4.5 4.28125 -5.15625 C 4.28125 -6.078125 3.40625 -6.640625 2.5 -6.640625 C 1.5 -6.640625 0.6875 -5.90625 0.6875 -4.96875 C 0.6875 -4.796875 0.703125 -4.34375 1.125 -3.875 C 1.234375 -3.765625 1.609375 -3.515625 1.859375 -3.34375 C 1.28125 -3.046875 0.421875 -2.5 0.421875 -1.5 C 0.421875 -0.453125 1.4375 0.21875 2.484375 0.21875 C 3.609375 0.21875 4.5625 -0.609375 4.5625 -1.671875 Z M 3.84375 -5.15625 C 3.84375 -4.578125 3.453125 -4.109375 2.859375 -3.765625 L 1.625 -4.5625 C 1.171875 -4.859375 1.125 -5.1875 1.125 -5.359375 C 1.125 -5.96875 1.78125 -6.390625 2.484375 -6.390625 C 3.203125 -6.390625 3.84375 -5.875 3.84375 -5.15625 Z M 4.0625 -1.3125 C 4.0625 -0.578125 3.3125 -0.0625 2.5 -0.0625 C 1.640625 -0.0625 0.921875 -0.671875 0.921875 -1.5 C 0.921875 -2.078125 1.234375 -2.71875 2.078125 -3.1875 L 3.3125 -2.40625 C 3.59375 -2.21875 4.0625 -1.921875 4.0625 -1.3125 Z M 4.0625 -1.3125 \"/>\n</symbol>\n<symbol overflow=\"visible\" id=\"glyph0-10\">\n<path style=\"stroke:none;\" d=\"M 8.765625 0 L 8.765625 -0.3125 L 8.515625 -0.3125 C 7.75 -0.3125 7.734375 -0.421875 7.734375 -0.78125 L 7.734375 -6.03125 C 7.734375 -6.390625 7.75 -6.5 8.515625 -6.5 L 8.765625 -6.5 L 8.765625 -6.8125 L 7.078125 -6.8125 C 6.8125 -6.8125 6.8125 -6.796875 6.75 -6.625 L 4.5625 -1 L 2.40625 -6.59375 C 2.3125 -6.8125 2.28125 -6.8125 2.046875 -6.8125 L 0.375 -6.8125 L 0.375 -6.5 L 0.609375 -6.5 C 1.375 -6.5 1.390625 -6.390625 1.390625 -6.03125 L 1.390625 -1.046875 C 1.390625 -0.78125 1.390625 -0.3125 0.375 -0.3125 L 0.375 0 L 1.53125 -0.03125 L 2.703125 0 L 2.703125 -0.3125 C 1.671875 -0.3125 1.671875 -0.78125 1.671875 -1.046875 L 1.671875 -6.421875 L 1.6875 -6.421875 L 4.09375 -0.21875 C 4.140625 -0.09375 4.1875 0 4.28125 0 C 4.390625 0 4.421875 -0.078125 4.46875 -0.1875 L 6.921875 -6.5 L 6.921875 -0.78125 C 6.921875 -0.421875 6.90625 -0.3125 6.140625 -0.3125 L 5.90625 -0.3125 L 5.90625 0 C 6.265625 -0.03125 6.953125 -0.03125 7.34375 -0.03125 C 7.71875 -0.03125 8.390625 -0.03125 8.765625 0 Z M 8.765625 0 \"/>\n</symbol>\n<symbol overflow=\"visible\" id=\"glyph0-11\">\n<path style=\"stroke:none;\" d=\"M 4.8125 -0.890625 L 4.8125 -1.453125 L 4.5625 -1.453125 L 4.5625 -0.890625 C 4.5625 -0.3125 4.3125 -0.25 4.203125 -0.25 C 3.875 -0.25 3.84375 -0.703125 3.84375 -0.75 L 3.84375 -2.734375 C 3.84375 -3.15625 3.84375 -3.546875 3.484375 -3.921875 C 3.09375 -4.3125 2.59375 -4.46875 2.109375 -4.46875 C 1.296875 -4.46875 0.609375 -4 0.609375 -3.34375 C 0.609375 -3.046875 0.8125 -2.875 1.0625 -2.875 C 1.34375 -2.875 1.53125 -3.078125 1.53125 -3.328125 C 1.53125 -3.453125 1.46875 -3.78125 1.015625 -3.78125 C 1.28125 -4.140625 1.78125 -4.25 2.09375 -4.25 C 2.578125 -4.25 3.15625 -3.859375 3.15625 -2.96875 L 3.15625 -2.609375 C 2.640625 -2.578125 1.9375 -2.546875 1.3125 -2.25 C 0.5625 -1.90625 0.3125 -1.390625 0.3125 -0.953125 C 0.3125 -0.140625 1.28125 0.109375 1.90625 0.109375 C 2.578125 0.109375 3.03125 -0.296875 3.21875 -0.75 C 3.265625 -0.359375 3.53125 0.0625 4 0.0625 C 4.203125 0.0625 4.8125 -0.078125 4.8125 -0.890625 Z M 3.15625 -1.390625 C 3.15625 -0.453125 2.4375 -0.109375 1.984375 -0.109375 C 1.5 -0.109375 1.09375 -0.453125 1.09375 -0.953125 C 1.09375 -1.5 1.5 -2.328125 3.15625 -2.390625 Z M 3.15625 -1.390625 \"/>\n</symbol>\n<symbol overflow=\"visible\" id=\"glyph0-12\">\n<path style=\"stroke:none;\" d=\"M 3.59375 -1.28125 C 3.59375 -1.796875 3.296875 -2.109375 3.171875 -2.21875 C 2.84375 -2.546875 2.453125 -2.625 2.03125 -2.703125 C 1.46875 -2.8125 0.8125 -2.9375 0.8125 -3.515625 C 0.8125 -3.875 1.0625 -4.28125 1.921875 -4.28125 C 3.015625 -4.28125 3.078125 -3.375 3.09375 -3.078125 C 3.09375 -2.984375 3.203125 -2.984375 3.203125 -2.984375 C 3.34375 -2.984375 3.34375 -3.03125 3.34375 -3.21875 L 3.34375 -4.234375 C 3.34375 -4.390625 3.34375 -4.46875 3.234375 -4.46875 C 3.1875 -4.46875 3.15625 -4.46875 3.03125 -4.34375 C 3 -4.3125 2.90625 -4.21875 2.859375 -4.1875 C 2.484375 -4.46875 2.078125 -4.46875 1.921875 -4.46875 C 0.703125 -4.46875 0.328125 -3.796875 0.328125 -3.234375 C 0.328125 -2.890625 0.484375 -2.609375 0.75 -2.390625 C 1.078125 -2.140625 1.359375 -2.078125 2.078125 -1.9375 C 2.296875 -1.890625 3.109375 -1.734375 3.109375 -1.015625 C 3.109375 -0.515625 2.765625 -0.109375 1.984375 -0.109375 C 1.140625 -0.109375 0.78125 -0.671875 0.59375 -1.53125 C 0.5625 -1.65625 0.5625 -1.6875 0.453125 -1.6875 C 0.328125 -1.6875 0.328125 -1.625 0.328125 -1.453125 L 0.328125 -0.125 C 0.328125 0.046875 0.328125 0.109375 0.4375 0.109375 C 0.484375 0.109375 0.5 0.09375 0.6875 -0.09375 C 0.703125 -0.109375 0.703125 -0.125 0.890625 -0.3125 C 1.328125 0.09375 1.78125 0.109375 1.984375 0.109375 C 3.125 0.109375 3.59375 -0.5625 3.59375 -1.28125 Z M 3.59375 -1.28125 \"/>\n</symbol>\n<symbol overflow=\"visible\" id=\"glyph0-13\">\n<path style=\"stroke:none;\" d=\"M 4.140625 -1.1875 C 4.140625 -1.28125 4.03125 -1.28125 4 -1.28125 C 3.921875 -1.28125 3.890625 -1.25 3.875 -1.1875 C 3.59375 -0.265625 2.9375 -0.140625 2.578125 -0.140625 C 2.046875 -0.140625 1.171875 -0.5625 1.171875 -2.171875 C 1.171875 -3.796875 1.984375 -4.21875 2.515625 -4.21875 C 2.609375 -4.21875 3.234375 -4.203125 3.578125 -3.84375 C 3.171875 -3.8125 3.109375 -3.515625 3.109375 -3.390625 C 3.109375 -3.125 3.296875 -2.9375 3.5625 -2.9375 C 3.828125 -2.9375 4.03125 -3.09375 4.03125 -3.40625 C 4.03125 -4.078125 3.265625 -4.46875 2.5 -4.46875 C 1.25 -4.46875 0.34375 -3.390625 0.34375 -2.15625 C 0.34375 -0.875 1.328125 0.109375 2.484375 0.109375 C 3.8125 0.109375 4.140625 -1.09375 4.140625 -1.1875 Z M 4.140625 -1.1875 \"/>\n</symbol>\n<symbol overflow=\"visible\" id=\"glyph0-14\">\n<path style=\"stroke:none;\" d=\"M 5.328125 0 L 5.328125 -0.3125 C 4.640625 -0.3125 4.5625 -0.375 4.5625 -0.875 L 4.5625 -4.40625 L 3.09375 -4.296875 L 3.09375 -3.984375 C 3.78125 -3.984375 3.875 -3.921875 3.875 -3.421875 L 3.875 -1.65625 C 3.875 -0.78125 3.390625 -0.109375 2.65625 -0.109375 C 1.828125 -0.109375 1.78125 -0.578125 1.78125 -1.09375 L 1.78125 -4.40625 L 0.3125 -4.296875 L 0.3125 -3.984375 C 1.09375 -3.984375 1.09375 -3.953125 1.09375 -3.078125 L 1.09375 -1.578125 C 1.09375 -0.796875 1.09375 0.109375 2.609375 0.109375 C 3.171875 0.109375 3.609375 -0.171875 3.890625 -0.78125 L 3.890625 0.109375 Z M 5.328125 0 \"/>\n</symbol>\n<symbol overflow=\"visible\" id=\"glyph0-15\">\n<path style=\"stroke:none;\" d=\"M 5.0625 -3.984375 L 5.0625 -4.296875 C 4.828125 -4.28125 4.546875 -4.265625 4.3125 -4.265625 L 3.453125 -4.296875 L 3.453125 -3.984375 C 3.765625 -3.984375 3.921875 -3.8125 3.921875 -3.5625 C 3.921875 -3.453125 3.90625 -3.4375 3.859375 -3.3125 L 2.84375 -0.875 L 1.75 -3.546875 C 1.703125 -3.65625 1.6875 -3.6875 1.6875 -3.734375 C 1.6875 -3.984375 2.046875 -3.984375 2.25 -3.984375 L 2.25 -4.296875 L 1.15625 -4.265625 C 0.890625 -4.265625 0.484375 -4.28125 0.1875 -4.296875 L 0.1875 -3.984375 C 0.671875 -3.984375 0.859375 -3.984375 1 -3.640625 L 2.5 0 L 2.25 0.59375 C 2.03125 1.140625 1.75 1.828125 1.109375 1.828125 C 1.0625 1.828125 0.828125 1.828125 0.640625 1.640625 C 0.953125 1.609375 1.03125 1.390625 1.03125 1.21875 C 1.03125 0.96875 0.84375 0.8125 0.609375 0.8125 C 0.40625 0.8125 0.1875 0.9375 0.1875 1.234375 C 0.1875 1.6875 0.609375 2.046875 1.109375 2.046875 C 1.734375 2.046875 2.140625 1.46875 2.375 0.90625 L 4.140625 -3.34375 C 4.390625 -3.984375 4.90625 -3.984375 5.0625 -3.984375 Z M 5.0625 -3.984375 \"/>\n</symbol>\n<symbol overflow=\"visible\" id=\"glyph0-16\">\n<path style=\"stroke:none;\" d=\"M 5.25 0 L 5.25 -0.3125 C 4.5625 -0.3125 4.46875 -0.375 4.46875 -0.875 L 4.46875 -6.921875 L 3.046875 -6.8125 L 3.046875 -6.5 C 3.734375 -6.5 3.8125 -6.4375 3.8125 -5.9375 L 3.8125 -3.78125 C 3.53125 -4.140625 3.09375 -4.40625 2.5625 -4.40625 C 1.390625 -4.40625 0.34375 -3.421875 0.34375 -2.140625 C 0.34375 -0.875 1.3125 0.109375 2.453125 0.109375 C 3.09375 0.109375 3.53125 -0.234375 3.78125 -0.546875 L 3.78125 0.109375 Z M 3.78125 -1.171875 C 3.78125 -1 3.78125 -0.984375 3.671875 -0.8125 C 3.375 -0.328125 2.9375 -0.109375 2.5 -0.109375 C 2.046875 -0.109375 1.6875 -0.375 1.453125 -0.75 C 1.203125 -1.15625 1.171875 -1.71875 1.171875 -2.140625 C 1.171875 -2.5 1.1875 -3.09375 1.46875 -3.546875 C 1.6875 -3.859375 2.0625 -4.1875 2.609375 -4.1875 C 2.953125 -4.1875 3.375 -4.03125 3.671875 -3.59375 C 3.78125 -3.421875 3.78125 -3.40625 3.78125 -3.21875 Z M 3.78125 -1.171875 \"/>\n</symbol>\n<symbol overflow=\"visible\" id=\"glyph0-17\">\n<path style=\"stroke:none;\" d=\"M 3.625 -3.796875 C 3.625 -4.109375 3.3125 -4.40625 2.890625 -4.40625 C 2.15625 -4.40625 1.796875 -3.734375 1.671875 -3.3125 L 1.671875 -4.40625 L 0.28125 -4.296875 L 0.28125 -3.984375 C 0.984375 -3.984375 1.0625 -3.921875 1.0625 -3.421875 L 1.0625 -0.75 C 1.0625 -0.3125 0.953125 -0.3125 0.28125 -0.3125 L 0.28125 0 L 1.421875 -0.03125 C 1.8125 -0.03125 2.28125 -0.03125 2.6875 0 L 2.6875 -0.3125 L 2.46875 -0.3125 C 1.734375 -0.3125 1.71875 -0.421875 1.71875 -0.78125 L 1.71875 -2.3125 C 1.71875 -3.296875 2.140625 -4.1875 2.890625 -4.1875 C 2.953125 -4.1875 2.984375 -4.1875 3 -4.171875 C 2.96875 -4.171875 2.765625 -4.046875 2.765625 -3.78125 C 2.765625 -3.515625 2.984375 -3.359375 3.203125 -3.359375 C 3.375 -3.359375 3.625 -3.484375 3.625 -3.796875 Z M 3.625 -3.796875 \"/>\n</symbol>\n<symbol overflow=\"visible\" id=\"glyph0-18\">\n<path style=\"stroke:none;\" d=\"M 4.828125 -4.03125 C 4.828125 -4.203125 4.71875 -4.515625 4.328125 -4.515625 C 4.125 -4.515625 3.6875 -4.453125 3.265625 -4.046875 C 2.84375 -4.375 2.4375 -4.40625 2.21875 -4.40625 C 1.28125 -4.40625 0.59375 -3.71875 0.59375 -2.953125 C 0.59375 -2.515625 0.8125 -2.140625 1.0625 -1.921875 C 0.9375 -1.78125 0.75 -1.453125 0.75 -1.09375 C 0.75 -0.78125 0.890625 -0.40625 1.203125 -0.203125 C 0.59375 -0.046875 0.28125 0.390625 0.28125 0.78125 C 0.28125 1.5 1.265625 2.046875 2.484375 2.046875 C 3.65625 2.046875 4.6875 1.546875 4.6875 0.765625 C 4.6875 0.421875 4.5625 -0.09375 4.046875 -0.375 C 3.515625 -0.640625 2.9375 -0.640625 2.328125 -0.640625 C 2.078125 -0.640625 1.65625 -0.640625 1.578125 -0.65625 C 1.265625 -0.703125 1.0625 -1 1.0625 -1.328125 C 1.0625 -1.359375 1.0625 -1.59375 1.21875 -1.796875 C 1.609375 -1.515625 2.03125 -1.484375 2.21875 -1.484375 C 3.140625 -1.484375 3.828125 -2.171875 3.828125 -2.9375 C 3.828125 -3.3125 3.671875 -3.671875 3.421875 -3.90625 C 3.78125 -4.25 4.140625 -4.296875 4.3125 -4.296875 C 4.3125 -4.296875 4.390625 -4.296875 4.421875 -4.28125 C 4.3125 -4.25 4.25 -4.140625 4.25 -4.015625 C 4.25 -3.84375 4.390625 -3.734375 4.546875 -3.734375 C 4.640625 -3.734375 4.828125 -3.796875 4.828125 -4.03125 Z M 3.078125 -2.953125 C 3.078125 -2.6875 3.078125 -2.359375 2.921875 -2.109375 C 2.84375 -2 2.609375 -1.71875 2.21875 -1.71875 C 1.34375 -1.71875 1.34375 -2.71875 1.34375 -2.9375 C 1.34375 -3.203125 1.359375 -3.53125 1.5 -3.78125 C 1.578125 -3.890625 1.8125 -4.171875 2.21875 -4.171875 C 3.078125 -4.171875 3.078125 -3.1875 3.078125 -2.953125 Z M 4.171875 0.78125 C 4.171875 1.328125 3.46875 1.828125 2.5 1.828125 C 1.484375 1.828125 0.796875 1.3125 0.796875 0.78125 C 0.796875 0.328125 1.171875 -0.046875 1.609375 -0.0625 L 2.203125 -0.0625 C 3.0625 -0.0625 4.171875 -0.0625 4.171875 0.78125 Z M 4.171875 0.78125 \"/>\n</symbol>\n<symbol overflow=\"visible\" id=\"glyph0-19\">\n<path style=\"stroke:none;\" d=\"M 5.0625 -3.984375 L 5.0625 -4.296875 C 4.828125 -4.28125 4.546875 -4.265625 4.3125 -4.265625 L 3.453125 -4.296875 L 3.453125 -3.984375 C 3.8125 -3.984375 3.921875 -3.75 3.921875 -3.5625 C 3.921875 -3.46875 3.90625 -3.421875 3.875 -3.3125 L 2.84375 -0.78125 L 1.734375 -3.5625 C 1.671875 -3.6875 1.671875 -3.734375 1.671875 -3.734375 C 1.671875 -3.984375 2.0625 -3.984375 2.25 -3.984375 L 2.25 -4.296875 L 1.15625 -4.265625 C 0.890625 -4.265625 0.484375 -4.28125 0.1875 -4.296875 L 0.1875 -3.984375 C 0.8125 -3.984375 0.859375 -3.921875 0.984375 -3.625 L 2.421875 -0.078125 C 2.484375 0.0625 2.5 0.109375 2.625 0.109375 C 2.765625 0.109375 2.796875 0.015625 2.84375 -0.078125 L 4.140625 -3.3125 C 4.234375 -3.546875 4.40625 -3.984375 5.0625 -3.984375 Z M 5.0625 -3.984375 \"/>\n</symbol>\n<symbol overflow=\"visible\" id=\"glyph0-20\">\n<path style=\"stroke:none;\" d=\"M 4.6875 -2.140625 C 4.6875 -3.40625 3.703125 -4.46875 2.5 -4.46875 C 1.25 -4.46875 0.28125 -3.375 0.28125 -2.140625 C 0.28125 -0.84375 1.3125 0.109375 2.484375 0.109375 C 3.6875 0.109375 4.6875 -0.875 4.6875 -2.140625 Z M 3.875 -2.21875 C 3.875 -1.859375 3.875 -1.3125 3.65625 -0.875 C 3.421875 -0.421875 2.984375 -0.140625 2.5 -0.140625 C 2.0625 -0.140625 1.625 -0.34375 1.359375 -0.8125 C 1.109375 -1.25 1.109375 -1.859375 1.109375 -2.21875 C 1.109375 -2.609375 1.109375 -3.140625 1.34375 -3.578125 C 1.609375 -4.03125 2.078125 -4.25 2.484375 -4.25 C 2.921875 -4.25 3.34375 -4.03125 3.609375 -3.59375 C 3.875 -3.171875 3.875 -2.59375 3.875 -2.21875 Z M 3.875 -2.21875 \"/>\n</symbol>\n<symbol overflow=\"visible\" id=\"glyph0-21\">\n<path style=\"stroke:none;\" d=\"M 2.546875 0 L 2.546875 -0.3125 C 1.875 -0.3125 1.765625 -0.3125 1.765625 -0.75 L 1.765625 -6.921875 L 0.328125 -6.8125 L 0.328125 -6.5 C 1.03125 -6.5 1.109375 -6.4375 1.109375 -5.9375 L 1.109375 -0.75 C 1.109375 -0.3125 1 -0.3125 0.328125 -0.3125 L 0.328125 0 L 1.4375 -0.03125 Z M 2.546875 0 \"/>\n</symbol>\n<symbol overflow=\"visible\" id=\"glyph0-22\">\n<path style=\"stroke:none;\" d=\"M 2.46875 0 L 2.46875 -0.3125 C 1.796875 -0.3125 1.765625 -0.359375 1.765625 -0.75 L 1.765625 -4.40625 L 0.375 -4.296875 L 0.375 -3.984375 C 1.015625 -3.984375 1.109375 -3.921875 1.109375 -3.4375 L 1.109375 -0.75 C 1.109375 -0.3125 1 -0.3125 0.328125 -0.3125 L 0.328125 0 L 1.421875 -0.03125 C 1.78125 -0.03125 2.125 -0.015625 2.46875 0 Z M 1.90625 -6.015625 C 1.90625 -6.296875 1.6875 -6.546875 1.390625 -6.546875 C 1.046875 -6.546875 0.84375 -6.265625 0.84375 -6.015625 C 0.84375 -5.75 1.078125 -5.5 1.375 -5.5 C 1.71875 -5.5 1.90625 -5.765625 1.90625 -6.015625 Z M 1.90625 -6.015625 \"/>\n</symbol>\n<symbol overflow=\"visible\" id=\"glyph0-23\">\n<path style=\"stroke:none;\" d=\"M 4.828125 -6.421875 L 2.40625 -6.421875 C 1.203125 -6.421875 1.171875 -6.546875 1.140625 -6.734375 L 0.890625 -6.734375 L 0.5625 -4.6875 L 0.8125 -4.6875 C 0.84375 -4.84375 0.921875 -5.46875 1.0625 -5.59375 C 1.125 -5.65625 1.90625 -5.65625 2.03125 -5.65625 L 4.09375 -5.65625 L 2.984375 -4.078125 C 2.078125 -2.734375 1.75 -1.34375 1.75 -0.328125 C 1.75 -0.234375 1.75 0.21875 2.21875 0.21875 C 2.671875 0.21875 2.671875 -0.234375 2.671875 -0.328125 L 2.671875 -0.84375 C 2.671875 -1.390625 2.703125 -1.9375 2.78125 -2.46875 C 2.828125 -2.703125 2.953125 -3.5625 3.40625 -4.171875 L 4.75 -6.078125 C 4.828125 -6.1875 4.828125 -6.203125 4.828125 -6.421875 Z M 4.828125 -6.421875 \"/>\n</symbol>\n<symbol overflow=\"visible\" id=\"glyph0-24\">\n<path style=\"stroke:none;\" d=\"M 5.1875 -2.15625 C 5.1875 -3.421875 4.234375 -4.40625 3.109375 -4.40625 C 2.328125 -4.40625 1.90625 -3.96875 1.71875 -3.75 L 1.71875 -4.40625 L 0.28125 -4.296875 L 0.28125 -3.984375 C 0.984375 -3.984375 1.0625 -3.921875 1.0625 -3.484375 L 1.0625 1.171875 C 1.0625 1.625 0.953125 1.625 0.28125 1.625 L 0.28125 1.9375 L 1.390625 1.90625 L 2.515625 1.9375 L 2.515625 1.625 C 1.859375 1.625 1.75 1.625 1.75 1.171875 L 1.75 -0.59375 C 1.796875 -0.421875 2.21875 0.109375 2.96875 0.109375 C 4.15625 0.109375 5.1875 -0.875 5.1875 -2.15625 Z M 4.359375 -2.15625 C 4.359375 -0.953125 3.671875 -0.109375 2.9375 -0.109375 C 2.53125 -0.109375 2.15625 -0.3125 1.890625 -0.71875 C 1.75 -0.921875 1.75 -0.9375 1.75 -1.140625 L 1.75 -3.359375 C 2.03125 -3.875 2.515625 -4.15625 3.03125 -4.15625 C 3.765625 -4.15625 4.359375 -3.28125 4.359375 -2.15625 Z M 4.359375 -2.15625 \"/>\n</symbol>\n<symbol overflow=\"visible\" id=\"glyph0-25\">\n<path style=\"stroke:none;\" d=\"M 4.140625 -1.1875 C 4.140625 -1.28125 4.0625 -1.3125 4 -1.3125 C 3.921875 -1.3125 3.890625 -1.25 3.875 -1.171875 C 3.53125 -0.140625 2.625 -0.140625 2.53125 -0.140625 C 2.03125 -0.140625 1.640625 -0.4375 1.40625 -0.8125 C 1.109375 -1.28125 1.109375 -1.9375 1.109375 -2.296875 L 3.890625 -2.296875 C 4.109375 -2.296875 4.140625 -2.296875 4.140625 -2.515625 C 4.140625 -3.5 3.59375 -4.46875 2.359375 -4.46875 C 1.203125 -4.46875 0.28125 -3.4375 0.28125 -2.1875 C 0.28125 -0.859375 1.328125 0.109375 2.46875 0.109375 C 3.6875 0.109375 4.140625 -1 4.140625 -1.1875 Z M 3.484375 -2.515625 L 1.109375 -2.515625 C 1.171875 -4 2.015625 -4.25 2.359375 -4.25 C 3.375 -4.25 3.484375 -2.90625 3.484375 -2.515625 Z M 3.484375 -2.515625 \"/>\n</symbol>\n<symbol overflow=\"visible\" id=\"glyph0-26\">\n<path style=\"stroke:none;\" d=\"M 8.109375 0 L 8.109375 -0.3125 C 7.59375 -0.3125 7.34375 -0.3125 7.328125 -0.609375 L 7.328125 -2.515625 C 7.328125 -3.375 7.328125 -3.671875 7.015625 -4.03125 C 6.875 -4.203125 6.546875 -4.40625 5.96875 -4.40625 C 5.140625 -4.40625 4.6875 -3.8125 4.53125 -3.421875 C 4.390625 -4.296875 3.65625 -4.40625 3.203125 -4.40625 C 2.46875 -4.40625 2 -3.984375 1.71875 -3.359375 L 1.71875 -4.40625 L 0.3125 -4.296875 L 0.3125 -3.984375 C 1.015625 -3.984375 1.09375 -3.921875 1.09375 -3.421875 L 1.09375 -0.75 C 1.09375 -0.3125 0.984375 -0.3125 0.3125 -0.3125 L 0.3125 0 L 1.453125 -0.03125 L 2.5625 0 L 2.5625 -0.3125 C 1.890625 -0.3125 1.78125 -0.3125 1.78125 -0.75 L 1.78125 -2.59375 C 1.78125 -3.625 2.5 -4.1875 3.125 -4.1875 C 3.765625 -4.1875 3.875 -3.65625 3.875 -3.078125 L 3.875 -0.75 C 3.875 -0.3125 3.765625 -0.3125 3.09375 -0.3125 L 3.09375 0 L 4.21875 -0.03125 L 5.328125 0 L 5.328125 -0.3125 C 4.671875 -0.3125 4.5625 -0.3125 4.5625 -0.75 L 4.5625 -2.59375 C 4.5625 -3.625 5.265625 -4.1875 5.90625 -4.1875 C 6.53125 -4.1875 6.640625 -3.65625 6.640625 -3.078125 L 6.640625 -0.75 C 6.640625 -0.3125 6.53125 -0.3125 5.859375 -0.3125 L 5.859375 0 L 6.984375 -0.03125 Z M 8.109375 0 \"/>\n</symbol>\n<symbol overflow=\"visible\" id=\"glyph0-27\">\n<path style=\"stroke:none;\" d=\"M 5.328125 0 L 5.328125 -0.3125 C 4.8125 -0.3125 4.5625 -0.3125 4.5625 -0.609375 L 4.5625 -2.515625 C 4.5625 -3.375 4.5625 -3.671875 4.25 -4.03125 C 4.109375 -4.203125 3.78125 -4.40625 3.203125 -4.40625 C 2.46875 -4.40625 2 -3.984375 1.71875 -3.359375 L 1.71875 -4.40625 L 0.3125 -4.296875 L 0.3125 -3.984375 C 1.015625 -3.984375 1.09375 -3.921875 1.09375 -3.421875 L 1.09375 -0.75 C 1.09375 -0.3125 0.984375 -0.3125 0.3125 -0.3125 L 0.3125 0 L 1.453125 -0.03125 L 2.5625 0 L 2.5625 -0.3125 C 1.890625 -0.3125 1.78125 -0.3125 1.78125 -0.75 L 1.78125 -2.59375 C 1.78125 -3.625 2.5 -4.1875 3.125 -4.1875 C 3.765625 -4.1875 3.875 -3.65625 3.875 -3.078125 L 3.875 -0.75 C 3.875 -0.3125 3.765625 -0.3125 3.09375 -0.3125 L 3.09375 0 L 4.21875 -0.03125 Z M 5.328125 0 \"/>\n</symbol>\n<symbol overflow=\"visible\" id=\"glyph0-28\">\n<path style=\"stroke:none;\" d=\"M 3.3125 -1.234375 L 3.3125 -1.796875 L 3.0625 -1.796875 L 3.0625 -1.25 C 3.0625 -0.515625 2.765625 -0.140625 2.390625 -0.140625 C 1.71875 -0.140625 1.71875 -1.046875 1.71875 -1.21875 L 1.71875 -3.984375 L 3.15625 -3.984375 L 3.15625 -4.296875 L 1.71875 -4.296875 L 1.71875 -6.125 L 1.46875 -6.125 C 1.46875 -5.3125 1.171875 -4.25 0.1875 -4.203125 L 0.1875 -3.984375 L 1.03125 -3.984375 L 1.03125 -1.234375 C 1.03125 -0.015625 1.96875 0.109375 2.328125 0.109375 C 3.03125 0.109375 3.3125 -0.59375 3.3125 -1.234375 Z M 3.3125 -1.234375 \"/>\n</symbol>\n<symbol overflow=\"visible\" id=\"glyph1-0\">\n<path style=\"stroke:none;\" d=\"\"/>\n</symbol>\n<symbol overflow=\"visible\" id=\"glyph1-1\">\n<path style=\"stroke:none;\" d=\"M 1.171875 -2.171875 C 1.171875 -3.796875 1.984375 -4.21875 2.515625 -4.21875 C 2.609375 -4.21875 3.234375 -4.203125 3.578125 -3.84375 C 3.171875 -3.8125 3.109375 -3.515625 3.109375 -3.390625 C 3.109375 -3.125 3.296875 -2.9375 3.5625 -2.9375 C 3.828125 -2.9375 4.03125 -3.09375 4.03125 -3.40625 C 4.03125 -4.078125 3.265625 -4.46875 2.5 -4.46875 C 1.25 -4.46875 0.34375 -3.390625 0.34375 -2.15625 C 0.34375 -0.875 1.328125 0.109375 2.484375 0.109375 C 3.8125 0.109375 4.140625 -1.09375 4.140625 -1.1875 C 4.140625 -1.28125 4.03125 -1.28125 4 -1.28125 C 3.921875 -1.28125 3.890625 -1.25 3.875 -1.1875 C 3.59375 -0.265625 2.9375 -0.140625 2.578125 -0.140625 C 2.046875 -0.140625 1.171875 -0.5625 1.171875 -2.171875 Z M 1.171875 -2.171875 \"/>\n</symbol>\n<symbol overflow=\"visible\" id=\"glyph1-2\">\n<path style=\"stroke:none;\" d=\"M 3.3125 -0.75 C 3.359375 -0.359375 3.625 0.0625 4.09375 0.0625 C 4.3125 0.0625 4.921875 -0.078125 4.921875 -0.890625 L 4.921875 -1.453125 L 4.671875 -1.453125 L 4.671875 -0.890625 C 4.671875 -0.3125 4.421875 -0.25 4.3125 -0.25 C 3.984375 -0.25 3.9375 -0.703125 3.9375 -0.75 L 3.9375 -2.734375 C 3.9375 -3.15625 3.9375 -3.546875 3.578125 -3.921875 C 3.1875 -4.3125 2.6875 -4.46875 2.21875 -4.46875 C 1.390625 -4.46875 0.703125 -4 0.703125 -3.34375 C 0.703125 -3.046875 0.90625 -2.875 1.171875 -2.875 C 1.453125 -2.875 1.625 -3.078125 1.625 -3.328125 C 1.625 -3.453125 1.578125 -3.78125 1.109375 -3.78125 C 1.390625 -4.140625 1.875 -4.25 2.1875 -4.25 C 2.6875 -4.25 3.25 -3.859375 3.25 -2.96875 L 3.25 -2.609375 C 2.734375 -2.578125 2.046875 -2.546875 1.421875 -2.25 C 0.671875 -1.90625 0.421875 -1.390625 0.421875 -0.953125 C 0.421875 -0.140625 1.390625 0.109375 2.015625 0.109375 C 2.671875 0.109375 3.125 -0.296875 3.3125 -0.75 Z M 3.25 -2.390625 L 3.25 -1.390625 C 3.25 -0.453125 2.53125 -0.109375 2.078125 -0.109375 C 1.59375 -0.109375 1.1875 -0.453125 1.1875 -0.953125 C 1.1875 -1.5 1.609375 -2.328125 3.25 -2.390625 Z M 3.25 -2.390625 \"/>\n</symbol>\n<symbol overflow=\"visible\" id=\"glyph1-3\">\n<path style=\"stroke:none;\" d=\"M 1.671875 -3.3125 L 1.671875 -4.40625 L 0.28125 -4.296875 L 0.28125 -3.984375 C 0.984375 -3.984375 1.0625 -3.921875 1.0625 -3.421875 L 1.0625 -0.75 C 1.0625 -0.3125 0.953125 -0.3125 0.28125 -0.3125 L 0.28125 0 C 0.671875 -0.015625 1.140625 -0.03125 1.421875 -0.03125 C 1.8125 -0.03125 2.28125 -0.03125 2.6875 0 L 2.6875 -0.3125 L 2.46875 -0.3125 C 1.734375 -0.3125 1.71875 -0.421875 1.71875 -0.78125 L 1.71875 -2.3125 C 1.71875 -3.296875 2.140625 -4.1875 2.890625 -4.1875 C 2.953125 -4.1875 2.984375 -4.1875 3 -4.171875 C 2.96875 -4.171875 2.765625 -4.046875 2.765625 -3.78125 C 2.765625 -3.515625 2.984375 -3.359375 3.203125 -3.359375 C 3.375 -3.359375 3.625 -3.484375 3.625 -3.796875 C 3.625 -4.109375 3.3125 -4.40625 2.890625 -4.40625 C 2.15625 -4.40625 1.796875 -3.734375 1.671875 -3.3125 Z M 1.671875 -3.3125 \"/>\n</symbol>\n<symbol overflow=\"visible\" id=\"glyph1-4\">\n<path style=\"stroke:none;\" d=\"M 3.78125 -0.546875 L 3.78125 0.109375 L 5.25 0 L 5.25 -0.3125 C 4.5625 -0.3125 4.46875 -0.375 4.46875 -0.875 L 4.46875 -6.921875 L 3.046875 -6.8125 L 3.046875 -6.5 C 3.734375 -6.5 3.8125 -6.4375 3.8125 -5.9375 L 3.8125 -3.78125 C 3.53125 -4.140625 3.09375 -4.40625 2.5625 -4.40625 C 1.390625 -4.40625 0.34375 -3.421875 0.34375 -2.140625 C 0.34375 -0.875 1.3125 0.109375 2.453125 0.109375 C 3.09375 0.109375 3.53125 -0.234375 3.78125 -0.546875 Z M 3.78125 -3.21875 L 3.78125 -1.171875 C 3.78125 -1 3.78125 -0.984375 3.671875 -0.8125 C 3.375 -0.328125 2.9375 -0.109375 2.5 -0.109375 C 2.046875 -0.109375 1.6875 -0.375 1.453125 -0.75 C 1.203125 -1.15625 1.171875 -1.71875 1.171875 -2.140625 C 1.171875 -2.5 1.1875 -3.09375 1.46875 -3.546875 C 1.6875 -3.859375 2.0625 -4.1875 2.609375 -4.1875 C 2.953125 -4.1875 3.375 -4.03125 3.671875 -3.59375 C 3.78125 -3.421875 3.78125 -3.40625 3.78125 -3.21875 Z M 3.78125 -3.21875 \"/>\n</symbol>\n<symbol overflow=\"visible\" id=\"glyph1-5\">\n<path style=\"stroke:none;\" d=\"M 3.296875 2.390625 C 3.296875 2.359375 3.296875 2.34375 3.125 2.171875 C 1.890625 0.921875 1.5625 -0.96875 1.5625 -2.5 C 1.5625 -4.234375 1.9375 -5.96875 3.171875 -7.203125 C 3.296875 -7.328125 3.296875 -7.34375 3.296875 -7.375 C 3.296875 -7.453125 3.265625 -7.484375 3.203125 -7.484375 C 3.09375 -7.484375 2.203125 -6.796875 1.609375 -5.53125 C 1.109375 -4.4375 0.984375 -3.328125 0.984375 -2.5 C 0.984375 -1.71875 1.09375 -0.515625 1.640625 0.625 C 2.25 1.84375 3.09375 2.5 3.203125 2.5 C 3.265625 2.5 3.296875 2.46875 3.296875 2.390625 Z M 3.296875 2.390625 \"/>\n</symbol>\n<symbol overflow=\"visible\" id=\"glyph1-6\">\n<path style=\"stroke:none;\" d=\"M 2.875 -2.5 C 2.875 -3.265625 2.765625 -4.46875 2.21875 -5.609375 C 1.625 -6.828125 0.765625 -7.484375 0.671875 -7.484375 C 0.609375 -7.484375 0.5625 -7.4375 0.5625 -7.375 C 0.5625 -7.34375 0.5625 -7.328125 0.75 -7.140625 C 1.734375 -6.15625 2.296875 -4.578125 2.296875 -2.5 C 2.296875 -0.78125 1.9375 0.96875 0.703125 2.21875 C 0.5625 2.34375 0.5625 2.359375 0.5625 2.390625 C 0.5625 2.453125 0.609375 2.5 0.671875 2.5 C 0.765625 2.5 1.671875 1.8125 2.25 0.546875 C 2.765625 -0.546875 2.875 -1.65625 2.875 -2.5 Z M 2.875 -2.5 \"/>\n</symbol>\n<symbol overflow=\"visible\" id=\"glyph2-0\">\n<path style=\"stroke:none;\" d=\"\"/>\n</symbol>\n<symbol overflow=\"visible\" id=\"glyph2-1\">\n<path style=\"stroke:none;\" d=\"M 1.78125 -1.140625 C 1.390625 -0.484375 1 -0.34375 0.5625 -0.3125 C 0.4375 -0.296875 0.34375 -0.296875 0.34375 -0.109375 C 0.34375 -0.046875 0.40625 0 0.484375 0 C 0.75 0 1.0625 -0.03125 1.328125 -0.03125 C 1.671875 -0.03125 2.015625 0 2.328125 0 C 2.390625 0 2.515625 0 2.515625 -0.1875 C 2.515625 -0.296875 2.4375 -0.3125 2.359375 -0.3125 C 2.140625 -0.328125 1.890625 -0.40625 1.890625 -0.65625 C 1.890625 -0.78125 1.953125 -0.890625 2.03125 -1.03125 L 2.796875 -2.296875 L 5.296875 -2.296875 C 5.3125 -2.09375 5.453125 -0.734375 5.453125 -0.640625 C 5.453125 -0.34375 4.9375 -0.3125 4.734375 -0.3125 C 4.59375 -0.3125 4.5 -0.3125 4.5 -0.109375 C 4.5 0 4.609375 0 4.640625 0 C 5.046875 0 5.46875 -0.03125 5.875 -0.03125 C 6.125 -0.03125 6.765625 0 7.015625 0 C 7.0625 0 7.1875 0 7.1875 -0.203125 C 7.1875 -0.3125 7.09375 -0.3125 6.953125 -0.3125 C 6.34375 -0.3125 6.34375 -0.375 6.3125 -0.671875 L 5.703125 -6.890625 C 5.6875 -7.09375 5.6875 -7.140625 5.515625 -7.140625 C 5.359375 -7.140625 5.3125 -7.0625 5.25 -6.96875 Z M 2.984375 -2.609375 L 4.9375 -5.90625 L 5.265625 -2.609375 Z M 2.984375 -2.609375 \"/>\n</symbol>\n<symbol overflow=\"visible\" id=\"glyph2-2\">\n<path style=\"stroke:none;\" d=\"M 6.734375 -4.96875 C 6.84375 -5.03125 6.921875 -5.078125 6.921875 -5.1875 C 6.921875 -5.296875 6.828125 -5.390625 6.71875 -5.390625 C 6.6875 -5.390625 6.671875 -5.390625 6.546875 -5.3125 L 1.015625 -2.71875 C 0.90625 -2.65625 0.828125 -2.609375 0.828125 -2.5 C 0.828125 -2.375 0.90625 -2.328125 1.015625 -2.265625 L 6.546875 0.328125 C 6.671875 0.40625 6.6875 0.40625 6.71875 0.40625 C 6.828125 0.40625 6.921875 0.3125 6.921875 0.203125 C 6.921875 0.09375 6.84375 0.046875 6.734375 -0.015625 L 1.5 -2.5 Z M 6.734375 -4.96875 \"/>\n</symbol>\n<symbol overflow=\"visible\" id=\"glyph3-0\">\n<path style=\"stroke:none;\" d=\"\"/>\n</symbol>\n<symbol overflow=\"visible\" id=\"glyph3-1\">\n<path style=\"stroke:none;\" d=\"M 5.0625 -2.703125 C 4.53125 -3.375 4.40625 -3.53125 4.09375 -3.78125 C 3.53125 -4.234375 2.984375 -4.40625 2.46875 -4.40625 C 1.3125 -4.40625 0.546875 -3.3125 0.546875 -2.140625 C 0.546875 -1 1.28125 0.109375 2.4375 0.109375 C 3.578125 0.109375 4.40625 -0.796875 4.890625 -1.59375 C 5.4375 -0.921875 5.546875 -0.765625 5.859375 -0.515625 C 6.421875 -0.0625 6.984375 0.109375 7.484375 0.109375 C 8.65625 0.109375 9.40625 -0.984375 9.40625 -2.15625 C 9.40625 -3.296875 8.671875 -4.40625 7.53125 -4.40625 C 6.375 -4.40625 5.546875 -3.5 5.0625 -2.703125 Z M 5.328125 -2.359375 C 5.734375 -3.078125 6.46875 -4.09375 7.59375 -4.09375 C 8.65625 -4.09375 9.1875 -3.046875 9.1875 -2.15625 C 9.1875 -1.171875 8.515625 -0.375 7.640625 -0.375 C 7.0625 -0.375 6.625 -0.78125 6.40625 -1 C 6.15625 -1.265625 5.9375 -1.578125 5.328125 -2.359375 Z M 4.640625 -1.9375 C 4.234375 -1.21875 3.484375 -0.203125 2.359375 -0.203125 C 1.3125 -0.203125 0.765625 -1.25 0.765625 -2.140625 C 0.765625 -3.125 1.4375 -3.921875 2.3125 -3.921875 C 2.890625 -3.921875 3.34375 -3.515625 3.546875 -3.296875 C 3.796875 -3.03125 4.03125 -2.71875 4.640625 -1.9375 Z M 4.640625 -1.9375 \"/>\n</symbol>\n</g>\n<clipPath id=\"clip1\">\n  <path d=\"M 471 0 L 558.988281 0 L 558.988281 37 L 471 37 Z M 471 0 \"/>\n</clipPath>\n</defs>\n<g id=\"surface1\">\n<path style=\"fill:none;stroke-width:1;stroke-linecap:butt;stroke-linejoin:bevel;stroke:rgb(0%,0%,0%);stroke-opacity:1;stroke-miterlimit:10;\" d=\"M 215.073594 181.800781 C 221.913437 171.183594 231.194687 157.453125 240.382187 146 C 243.093125 142.632812 246.054062 139.191406 253.675156 130.871094 \" transform=\"matrix(1,0,0,-1,10.11,402.5)\"/>\n<path style=\" stroke:none;fill-rule:nonzero;fill:rgb(0%,0%,0%);fill-opacity:1;\" d=\"M 266.132812 274.1875 C 265.367188 272.925781 264.035156 270.613281 263.824219 268.453125 C 263.625 270.597656 262.773438 271.378906 260.621094 271.386719 C 262.753906 271.789062 264.941406 273.316406 266.132812 274.1875 Z M 266.132812 274.1875 \"/>\n<g style=\"fill:rgb(0%,0%,0%);fill-opacity:1;\">\n  <use xlink:href=\"#glyph0-1\" x=\"256.263\" y=\"250.635\"/>\n  <use xlink:href=\"#glyph0-2\" x=\"261.2443\" y=\"250.635\"/>\n  <use xlink:href=\"#glyph0-3\" x=\"264.01191\" y=\"250.635\"/>\n  <use xlink:href=\"#glyph0-2\" x=\"268.99321\" y=\"250.635\"/>\n  <use xlink:href=\"#glyph0-4\" x=\"271.760821\" y=\"250.635\"/>\n  <use xlink:href=\"#glyph0-1\" x=\"276.742121\" y=\"250.635\"/>\n</g>\n<path style=\"fill:none;stroke-width:1;stroke-linecap:butt;stroke-linejoin:bevel;stroke:rgb(0%,0%,0%);stroke-opacity:1;stroke-miterlimit:10;\" d=\"M 29.186875 181.730469 C 25.198594 176.441406 21.472031 170.320312 19.382188 164.003906 C 16.866563 156.402344 16.667344 153.53125 19.382188 146 C 20.565781 142.710938 22.214219 139.511719 28.050156 131.203125 \" transform=\"matrix(1,0,0,-1,10.11,402.5)\"/>\n<path style=\" stroke:none;fill-rule:nonzero;fill:rgb(0%,0%,0%);fill-opacity:1;\" d=\"M 40.15625 274.136719 C 39.558594 272.789062 38.535156 270.324219 38.605469 268.152344 C 38.132812 270.253906 37.1875 270.917969 35.050781 270.648438 C 37.117188 271.320312 39.085938 273.121094 40.15625 274.136719 Z M 40.15625 274.136719 \"/>\n<g style=\"fill:rgb(0%,0%,0%);fill-opacity:1;\">\n  <use xlink:href=\"#glyph0-1\" x=\"35.261\" y=\"250.635\"/>\n  <use xlink:href=\"#glyph0-2\" x=\"40.2423\" y=\"250.635\"/>\n  <use xlink:href=\"#glyph0-3\" x=\"43.00991\" y=\"250.635\"/>\n  <use xlink:href=\"#glyph0-2\" x=\"47.99121\" y=\"250.635\"/>\n  <use xlink:href=\"#glyph0-4\" x=\"50.758821\" y=\"250.635\"/>\n  <use xlink:href=\"#glyph0-5\" x=\"55.740121\" y=\"250.635\"/>\n</g>\n<path style=\"fill:none;stroke-width:1;stroke-linecap:butt;stroke-linejoin:bevel;stroke:rgb(0%,0%,0%);stroke-opacity:1;stroke-miterlimit:10;\" d=\"M 499.585312 365.714844 C 495.604844 354.65625 489.886094 340.15625 483.386094 328.003906 C 481.737656 324.925781 479.874375 321.785156 474.288437 313.242188 \" transform=\"matrix(1,0,0,-1,10.11,402.5)\"/>\n<path style=\" stroke:none;fill-rule:nonzero;fill:rgb(0%,0%,0%);fill-opacity:1;\" d=\"M 482.496094 92.164062 C 483.53125 91.113281 485.441406 89.25 487.480469 88.511719 C 485.355469 88.847656 484.386719 88.214844 483.847656 86.132812 C 483.988281 88.300781 483.046875 90.796875 482.496094 92.164062 Z M 482.496094 92.164062 \"/>\n<g style=\"fill:rgb(0%,0%,0%);fill-opacity:1;\">\n  <use xlink:href=\"#glyph0-1\" x=\"508.266\" y=\"67.633\"/>\n  <use xlink:href=\"#glyph0-2\" x=\"513.2473\" y=\"67.633\"/>\n  <use xlink:href=\"#glyph0-3\" x=\"516.01491\" y=\"67.633\"/>\n  <use xlink:href=\"#glyph0-2\" x=\"520.99621\" y=\"67.633\"/>\n  <use xlink:href=\"#glyph0-4\" x=\"523.763821\" y=\"67.633\"/>\n  <use xlink:href=\"#glyph0-6\" x=\"528.745121\" y=\"67.633\"/>\n</g>\n<path style=\"fill:none;stroke-width:1;stroke-linecap:butt;stroke-linejoin:bevel;stroke:rgb(0%,0%,0%);stroke-opacity:1;stroke-dasharray:2.98883,2.98883;stroke-miterlimit:10;\" d=\"M 99.448594 181.824219 C 92.436875 176.613281 85.214219 170.523438 79.382188 164.003906 C 72.311875 156.101562 66.057969 146.34375 57.960313 131.445312 \" transform=\"matrix(1,0,0,-1,10.11,402.5)\"/>\n<path style=\" stroke:none;fill-rule:nonzero;fill:rgb(0%,0%,0%);fill-opacity:1;\" d=\"M 66.414062 274.109375 C 67.359375 272.976562 69.109375 270.960938 71.085938 270.058594 C 68.996094 270.570312 67.976562 270.015625 67.269531 267.984375 C 67.585938 270.132812 66.847656 272.699219 66.414062 274.109375 Z M 66.414062 274.109375 \"/>\n<g style=\"fill:rgb(0%,0%,0%);fill-opacity:1;\">\n  <use xlink:href=\"#glyph0-1\" x=\"95.253\" y=\"250.635\"/>\n  <use xlink:href=\"#glyph0-2\" x=\"100.2343\" y=\"250.635\"/>\n  <use xlink:href=\"#glyph0-4\" x=\"103.00191\" y=\"250.635\"/>\n  <use xlink:href=\"#glyph0-2\" x=\"107.98321\" y=\"250.635\"/>\n  <use xlink:href=\"#glyph0-1\" x=\"110.750821\" y=\"250.635\"/>\n</g>\n<path style=\"fill:none;stroke-width:1;stroke-linecap:butt;stroke-linejoin:bevel;stroke:rgb(0%,0%,0%);stroke-opacity:1;stroke-dasharray:2.98883,2.98883;stroke-miterlimit:10;\" d=\"M 145.011094 181.78125 C 157.7025 170.632812 175.261094 156.3125 192.382187 146 C 206.241562 137.652344 222.4525 130.230469 243.011094 121.921875 \" transform=\"matrix(1,0,0,-1,10.11,402.5)\"/>\n<path style=\" stroke:none;fill-rule:nonzero;fill:rgb(0%,0%,0%);fill-opacity:1;\" d=\"M 256.34375 281.878906 C 255.109375 281.066406 252.910156 279.554688 251.789062 277.695312 C 252.535156 279.714844 252.101562 280.789062 250.160156 281.722656 C 252.261719 281.164062 254.894531 281.605469 256.34375 281.878906 Z M 256.34375 281.878906 \"/>\n<g style=\"fill:rgb(0%,0%,0%);fill-opacity:1;\">\n  <use xlink:href=\"#glyph0-1\" x=\"208.253\" y=\"250.635\"/>\n  <use xlink:href=\"#glyph0-2\" x=\"213.2343\" y=\"250.635\"/>\n  <use xlink:href=\"#glyph0-4\" x=\"216.00191\" y=\"250.635\"/>\n  <use xlink:href=\"#glyph0-2\" x=\"220.98321\" y=\"250.635\"/>\n  <use xlink:href=\"#glyph0-1\" x=\"223.750821\" y=\"250.635\"/>\n</g>\n<path style=\"fill:none;stroke-width:1;stroke-linecap:butt;stroke-linejoin:bevel;stroke:rgb(0%,0%,0%);stroke-opacity:1;stroke-dasharray:2.98883,2.98883;stroke-miterlimit:10;\" d=\"M 204.382187 273.652344 C 204.382187 260.824219 204.382187 243.113281 204.382187 221.777344 \" transform=\"matrix(1,0,0,-1,10.11,402.5)\"/>\n<path style=\" stroke:none;fill-rule:nonzero;fill:rgb(0%,0%,0%);fill-opacity:1;\" d=\"M 214.492188 184.195312 C 214.78125 182.75 215.359375 180.144531 216.664062 178.40625 C 215.070312 179.855469 213.914062 179.855469 212.320312 178.40625 C 213.625 180.144531 214.203125 182.75 214.492188 184.195312 Z M 214.492188 184.195312 \"/>\n<g style=\"fill:rgb(0%,0%,0%);fill-opacity:1;\">\n  <use xlink:href=\"#glyph0-7\" x=\"220.313\" y=\"158.96\"/>\n  <use xlink:href=\"#glyph0-8\" x=\"224.740379\" y=\"158.96\"/>\n  <use xlink:href=\"#glyph0-2\" x=\"229.99864\" y=\"158.96\"/>\n</g>\n<g style=\"fill:rgb(0%,0%,0%);fill-opacity:1;\">\n  <use xlink:href=\"#glyph0-1\" x=\"237.189644\" y=\"158.96\"/>\n  <use xlink:href=\"#glyph0-2\" x=\"242.170944\" y=\"158.96\"/>\n  <use xlink:href=\"#glyph0-4\" x=\"244.938555\" y=\"158.96\"/>\n  <use xlink:href=\"#glyph0-2\" x=\"249.919855\" y=\"158.96\"/>\n  <use xlink:href=\"#glyph0-1\" x=\"252.687465\" y=\"158.96\"/>\n</g>\n<path style=\"fill:none;stroke-width:1;stroke-linecap:butt;stroke-linejoin:bevel;stroke:rgb(0%,0%,0%);stroke-opacity:1;stroke-dasharray:2.98883,2.98883;stroke-miterlimit:10;\" d=\"M 174.100937 273.863281 C 147.792344 258.972656 109.632188 237.363281 75.655625 218.132812 \" transform=\"matrix(1,0,0,-1,10.11,402.5)\"/>\n<path style=\" stroke:none;fill-rule:nonzero;fill:rgb(0%,0%,0%);fill-opacity:1;\" d=\"M 82.742188 186.078125 C 84.144531 185.617188 86.695312 184.835938 88.847656 185.113281 C 86.804688 184.441406 86.234375 183.433594 86.710938 181.335938 C 85.839844 183.324219 83.859375 185.113281 82.742188 186.078125 Z M 82.742188 186.078125 \"/>\n<g style=\"fill:rgb(0%,0%,0%);fill-opacity:1;\">\n  <use xlink:href=\"#glyph0-7\" x=\"155.312\" y=\"158.96\"/>\n  <use xlink:href=\"#glyph0-8\" x=\"159.739379\" y=\"158.96\"/>\n  <use xlink:href=\"#glyph0-2\" x=\"164.99764\" y=\"158.96\"/>\n</g>\n<g style=\"fill:rgb(0%,0%,0%);fill-opacity:1;\">\n  <use xlink:href=\"#glyph0-1\" x=\"172.188644\" y=\"158.96\"/>\n  <use xlink:href=\"#glyph0-2\" x=\"177.169944\" y=\"158.96\"/>\n  <use xlink:href=\"#glyph0-4\" x=\"179.937555\" y=\"158.96\"/>\n  <use xlink:href=\"#glyph0-2\" x=\"184.918855\" y=\"158.96\"/>\n  <use xlink:href=\"#glyph0-1\" x=\"187.686465\" y=\"158.96\"/>\n</g>\n<path style=\"fill:none;stroke-width:1;stroke-linecap:butt;stroke-linejoin:bevel;stroke:rgb(0%,0%,0%);stroke-opacity:1;stroke-miterlimit:10;\" d=\"M 260.73375 365.914062 C 253.722031 360.625 246.401719 354.464844 240.382187 348.003906 C 232.362656 339.394531 224.972031 328.804688 215.538437 313.40625 \" transform=\"matrix(1,0,0,-1,10.11,402.5)\"/>\n<path style=\" stroke:none;fill-rule:nonzero;fill:rgb(0%,0%,0%);fill-opacity:1;\" d=\"M 223.832031 92.054688 C 224.835938 90.972656 226.691406 89.054688 228.707031 88.253906 C 226.59375 88.65625 225.609375 88.050781 225.007812 85.984375 C 225.210938 88.148438 224.34375 90.671875 223.832031 92.054688 Z M 223.832031 92.054688 \"/>\n<g style=\"fill:rgb(0%,0%,0%);fill-opacity:1;\">\n  <use xlink:href=\"#glyph0-1\" x=\"256.254\" y=\"67.633\"/>\n  <use xlink:href=\"#glyph0-2\" x=\"261.2353\" y=\"67.633\"/>\n  <use xlink:href=\"#glyph0-4\" x=\"264.00291\" y=\"67.633\"/>\n  <use xlink:href=\"#glyph0-2\" x=\"268.98421\" y=\"67.633\"/>\n  <use xlink:href=\"#glyph0-5\" x=\"271.751821\" y=\"67.633\"/>\n</g>\n<path style=\"fill:none;stroke-width:1;stroke-linecap:butt;stroke-linejoin:bevel;stroke:rgb(0%,0%,0%);stroke-opacity:1;stroke-miterlimit:10;\" d=\"M 286.382187 365.882812 C 286.382187 334.3125 286.382187 266.671875 286.382187 221.6875 \" transform=\"matrix(1,0,0,-1,10.11,402.5)\"/>\n<path style=\" stroke:none;fill-rule:nonzero;fill:rgb(0%,0%,0%);fill-opacity:1;\" d=\"M 296.492188 184.289062 C 296.78125 182.839844 297.363281 180.234375 298.664062 178.496094 C 297.074219 179.945312 295.914062 179.945312 294.324219 178.496094 C 295.625 180.234375 296.203125 182.839844 296.492188 184.289062 Z M 296.492188 184.289062 \"/>\n<g style=\"fill:rgb(0%,0%,0%);fill-opacity:1;\">\n  <use xlink:href=\"#glyph0-1\" x=\"302.254\" y=\"113.633\"/>\n  <use xlink:href=\"#glyph0-2\" x=\"307.2353\" y=\"113.633\"/>\n  <use xlink:href=\"#glyph0-4\" x=\"310.00291\" y=\"113.633\"/>\n  <use xlink:href=\"#glyph0-2\" x=\"314.98421\" y=\"113.633\"/>\n  <use xlink:href=\"#glyph0-6\" x=\"317.751821\" y=\"113.633\"/>\n</g>\n<path style=\"fill:none;stroke-width:1;stroke-linecap:butt;stroke-linejoin:bevel;stroke:rgb(0%,0%,0%);stroke-opacity:1;stroke-dasharray:2.98883,2.98883;stroke-miterlimit:10;\" d=\"M 246.214219 372.894531 C 182.432969 354.414062 60.034531 308.484375 9.382188 218.003906 C -6.289687 190.011719 0.300156 174.820312 14.382188 146 C 16.128281 142.421875 18.386094 138.972656 25.300156 130.792969 \" transform=\"matrix(1,0,0,-1,10.11,402.5)\"/>\n<path style=\" stroke:none;fill-rule:nonzero;fill:rgb(0%,0%,0%);fill-opacity:1;\" d=\"M 37.65625 274.359375 C 36.941406 273.066406 35.699219 270.703125 35.574219 268.535156 C 35.292969 270.667969 34.410156 271.417969 32.257812 271.339844 C 34.375 271.824219 36.5 273.441406 37.65625 274.359375 Z M 37.65625 274.359375 \"/>\n<g style=\"fill:rgb(0%,0%,0%);fill-opacity:1;\">\n  <use xlink:href=\"#glyph0-1\" x=\"52.252\" y=\"159.634\"/>\n  <use xlink:href=\"#glyph0-2\" x=\"57.2333\" y=\"159.634\"/>\n  <use xlink:href=\"#glyph0-4\" x=\"60.00091\" y=\"159.634\"/>\n  <use xlink:href=\"#glyph0-2\" x=\"64.98221\" y=\"159.634\"/>\n  <use xlink:href=\"#glyph0-6\" x=\"67.749821\" y=\"159.634\"/>\n</g>\n<path style=\"fill:none;stroke-width:1;stroke-linecap:butt;stroke-linejoin:bevel;stroke:rgb(0%,0%,0%);stroke-opacity:1;stroke-dasharray:2.98883,2.98883;stroke-miterlimit:10;\" d=\"M 297.194687 365.746094 C 305.604844 351.394531 316.753281 330.144531 322.386094 310.003906 C 337.725937 255.101562 338.085312 238.484375 330.386094 182.003906 C 328.143906 165.550781 329.772812 159.703125 320.382187 146 C 317.155625 141.28125 313.065781 136.941406 303.186875 128.757812 \" transform=\"matrix(1,0,0,-1,10.11,402.5)\"/>\n<path style=\" stroke:none;fill-rule:nonzero;fill:rgb(0%,0%,0%);fill-opacity:1;\" d=\"M 310.625 275.957031 C 311.921875 275.257812 314.296875 274.042969 316.464844 273.9375 C 314.335938 273.632812 313.597656 272.742188 313.695312 270.59375 C 313.191406 272.703125 311.554688 274.8125 310.625 275.957031 Z M 310.625 275.957031 \"/>\n<g style=\"fill:rgb(0%,0%,0%);fill-opacity:1;\">\n  <use xlink:href=\"#glyph0-1\" x=\"351.255\" y=\"159.634\"/>\n  <use xlink:href=\"#glyph0-2\" x=\"356.2363\" y=\"159.634\"/>\n  <use xlink:href=\"#glyph0-4\" x=\"359.00391\" y=\"159.634\"/>\n  <use xlink:href=\"#glyph0-2\" x=\"363.98521\" y=\"159.634\"/>\n  <use xlink:href=\"#glyph0-6\" x=\"366.752821\" y=\"159.634\"/>\n</g>\n<path style=\"fill:none;stroke-width:1;stroke-linecap:butt;stroke-linejoin:bevel;stroke:rgb(0%,0%,0%);stroke-opacity:1;stroke-miterlimit:10;\" d=\"M 326.464219 367.644531 C 338.225937 362.273438 350.772812 355.644531 361.386094 348.003906 C 371.335312 340.84375 370.366562 335.0625 380.386094 328.003906 C 390.936875 320.574219 403.304062 314.183594 421.186875 306.433594 \" transform=\"matrix(1,0,0,-1,10.11,402.5)\"/>\n<path style=\" stroke:none;fill-rule:nonzero;fill:rgb(0%,0%,0%);fill-opacity:1;\" d=\"M 434.484375 97.445312 C 433.273438 96.605469 431.113281 95.039062 430.035156 93.152344 C 430.730469 95.1875 430.269531 96.25 428.308594 97.136719 C 430.421875 96.632812 433.042969 97.136719 434.484375 97.445312 Z M 434.484375 97.445312 \"/>\n<g style=\"fill:rgb(0%,0%,0%);fill-opacity:1;\">\n  <use xlink:href=\"#glyph0-1\" x=\"396.09\" y=\"66.959\"/>\n  <use xlink:href=\"#glyph0-2\" x=\"401.0713\" y=\"66.959\"/>\n  <use xlink:href=\"#glyph0-4\" x=\"403.83891\" y=\"66.959\"/>\n  <use xlink:href=\"#glyph0-2\" x=\"408.82021\" y=\"66.959\"/>\n  <use xlink:href=\"#glyph0-9\" x=\"411.587821\" y=\"66.959\"/>\n</g>\n<g style=\"fill:rgb(0%,0%,0%);fill-opacity:1;\">\n  <use xlink:href=\"#glyph0-10\" x=\"419.886666\" y=\"66.959\"/>\n  <use xlink:href=\"#glyph0-11\" x=\"429.019382\" y=\"66.959\"/>\n  <use xlink:href=\"#glyph0-12\" x=\"434.000682\" y=\"66.959\"/>\n  <use xlink:href=\"#glyph0-13\" x=\"437.929931\" y=\"66.959\"/>\n  <use xlink:href=\"#glyph0-14\" x=\"442.357311\" y=\"66.959\"/>\n  <use xlink:href=\"#glyph0-15\" x=\"447.892531\" y=\"66.959\"/>\n  <use xlink:href=\"#glyph0-14\" x=\"453.150791\" y=\"66.959\"/>\n  <use xlink:href=\"#glyph0-16\" x=\"458.686012\" y=\"66.959\"/>\n  <use xlink:href=\"#glyph0-16\" x=\"464.221233\" y=\"66.959\"/>\n  <use xlink:href=\"#glyph0-17\" x=\"469.756453\" y=\"66.959\"/>\n  <use xlink:href=\"#glyph0-18\" x=\"473.658804\" y=\"66.959\"/>\n  <use xlink:href=\"#glyph0-19\" x=\"478.640104\" y=\"66.959\"/>\n</g>\n<path style=\"fill:none;stroke-width:1;stroke-linecap:butt;stroke-linejoin:bevel;stroke:rgb(0%,0%,0%);stroke-opacity:1;stroke-miterlimit:10;\" d=\"M 250.73375 184.800781 C 247.593125 183.78125 244.4525 182.824219 241.382187 182.003906 C 193.964219 169.261719 176.882187 184.742188 132.382187 164.003906 C 121.241563 158.8125 121.472031 153.023438 111.382188 146 C 102.909531 140.101562 93.354844 134.371094 78.499375 126.179688 \" transform=\"matrix(1,0,0,-1,10.11,402.5)\"/>\n<path style=\" stroke:none;fill-rule:nonzero;fill:rgb(0%,0%,0%);fill-opacity:1;\" d=\"M 85.566406 278 C 86.976562 277.554688 89.535156 276.800781 91.6875 277.101562 C 89.648438 276.410156 89.089844 275.394531 89.589844 273.300781 C 88.695312 275.28125 86.695312 277.046875 85.566406 278 Z M 85.566406 278 \"/>\n<g style=\"fill:rgb(0%,0%,0%);fill-opacity:1;\">\n  <use xlink:href=\"#glyph0-12\" x=\"148.502\" y=\"250.93\"/>\n  <use xlink:href=\"#glyph0-20\" x=\"152.431249\" y=\"250.93\"/>\n  <use xlink:href=\"#glyph0-21\" x=\"157.412549\" y=\"250.93\"/>\n  <use xlink:href=\"#glyph0-22\" x=\"160.18016\" y=\"250.93\"/>\n  <use xlink:href=\"#glyph0-16\" x=\"162.94777\" y=\"250.93\"/>\n</g>\n<path style=\"fill:none;stroke-width:1;stroke-linecap:butt;stroke-linejoin:bevel;stroke:rgb(0%,0%,0%);stroke-opacity:1;stroke-miterlimit:10;\" d=\"M 285.335312 181.742188 C 284.554062 171.34375 283.292344 157.863281 281.382187 146 C 280.9525 143.320312 280.444687 140.550781 278.475937 131.398438 \" transform=\"matrix(1,0,0,-1,10.11,402.5)\"/>\n<path style=\" stroke:none;fill-rule:nonzero;fill:rgb(0%,0%,0%);fill-opacity:1;\" d=\"M 287.855469 274.5 C 288.441406 273.144531 289.554688 270.71875 291.195312 269.296875 C 289.332031 270.375 288.199219 270.132812 286.949219 268.382812 C 287.855469 270.355469 287.875 273.023438 287.855469 274.5 Z M 287.855469 274.5 \"/>\n<g style=\"fill:rgb(0%,0%,0%);fill-opacity:1;\">\n  <use xlink:href=\"#glyph0-12\" x=\"300.503\" y=\"250.93\"/>\n  <use xlink:href=\"#glyph0-20\" x=\"304.432249\" y=\"250.93\"/>\n  <use xlink:href=\"#glyph0-21\" x=\"309.413549\" y=\"250.93\"/>\n  <use xlink:href=\"#glyph0-22\" x=\"312.18116\" y=\"250.93\"/>\n  <use xlink:href=\"#glyph0-16\" x=\"314.94877\" y=\"250.93\"/>\n</g>\n<path style=\"fill:none;stroke-width:1;stroke-linecap:butt;stroke-linejoin:bevel;stroke:rgb(0%,0%,0%);stroke-opacity:1;stroke-miterlimit:10;\" d=\"M 48.382188 91.648438 C 48.382188 78.824219 48.382188 61.109375 48.382188 39.773438 \" transform=\"matrix(1,0,0,-1,10.11,402.5)\"/>\n<path style=\" stroke:none;fill-rule:nonzero;fill:rgb(0%,0%,0%);fill-opacity:1;\" d=\"M 58.492188 366.199219 C 58.78125 364.753906 59.359375 362.148438 60.664062 360.410156 C 59.070312 361.855469 57.914062 361.855469 56.320312 360.410156 C 57.625 362.148438 58.203125 364.753906 58.492188 366.199219 Z M 58.492188 366.199219 \"/>\n<g style=\"fill:rgb(0%,0%,0%);fill-opacity:1;\">\n  <use xlink:href=\"#glyph0-1\" x=\"64.452\" y=\"340.962\"/>\n  <use xlink:href=\"#glyph0-2\" x=\"69.4333\" y=\"340.962\"/>\n  <use xlink:href=\"#glyph0-4\" x=\"72.20091\" y=\"340.962\"/>\n  <use xlink:href=\"#glyph0-2\" x=\"77.18221\" y=\"340.962\"/>\n  <use xlink:href=\"#glyph0-23\" x=\"79.949821\" y=\"340.962\"/>\n</g>\n<g style=\"fill:rgb(0%,0%,0%);fill-opacity:1;\">\n  <use xlink:href=\"#glyph0-24\" x=\"88.248666\" y=\"340.962\"/>\n  <use xlink:href=\"#glyph0-11\" x=\"93.783887\" y=\"340.962\"/>\n  <use xlink:href=\"#glyph0-12\" x=\"98.765187\" y=\"340.962\"/>\n</g>\n<g style=\"fill:rgb(0%,0%,0%);fill-opacity:1;\">\n  <use xlink:href=\"#glyph0-21\" x=\"106.011982\" y=\"340.962\"/>\n  <use xlink:href=\"#glyph0-11\" x=\"108.779592\" y=\"340.962\"/>\n</g>\n<g style=\"fill:rgb(0%,0%,0%);fill-opacity:1;\">\n  <use xlink:href=\"#glyph0-17\" x=\"117.078438\" y=\"340.962\"/>\n  <use xlink:href=\"#glyph0-7\" x=\"120.980789\" y=\"340.962\"/>\n  <use xlink:href=\"#glyph0-13\" x=\"125.408168\" y=\"340.962\"/>\n  <use xlink:href=\"#glyph0-22\" x=\"129.835548\" y=\"340.962\"/>\n  <use xlink:href=\"#glyph0-24\" x=\"132.603158\" y=\"340.962\"/>\n  <use xlink:href=\"#glyph0-17\" x=\"138.138378\" y=\"340.962\"/>\n  <use xlink:href=\"#glyph0-20\" x=\"142.040729\" y=\"340.962\"/>\n</g>\n<g style=\"fill:rgb(0%,0%,0%);fill-opacity:1;\">\n  <use xlink:href=\"#glyph0-8\" x=\"147.300982\" y=\"340.962\"/>\n  <use xlink:href=\"#glyph0-14\" x=\"152.559242\" y=\"340.962\"/>\n  <use xlink:href=\"#glyph0-25\" x=\"158.094462\" y=\"340.962\"/>\n</g>\n<path style=\"fill:none;stroke-width:1;stroke-linecap:butt;stroke-linejoin:bevel;stroke:rgb(0%,0%,0%);stroke-opacity:1;stroke-miterlimit:10;\" d=\"M 232.882187 218.003906 L 175.882187 218.003906 L 175.882187 182.003906 L 232.882187 182.003906 Z M 232.882187 218.003906 \" transform=\"matrix(1,0,0,-1,10.11,402.5)\"/>\n<g style=\"fill:rgb(0%,0%,0%);fill-opacity:1;\">\n  <use xlink:href=\"#glyph0-7\" x=\"197.473\" y=\"204.96\"/>\n  <use xlink:href=\"#glyph0-8\" x=\"201.900379\" y=\"204.96\"/>\n  <use xlink:href=\"#glyph0-2\" x=\"207.15864\" y=\"204.96\"/>\n</g>\n<g style=\"fill:rgb(0%,0%,0%);fill-opacity:1;\">\n  <use xlink:href=\"#glyph0-16\" x=\"214.349644\" y=\"204.96\"/>\n  <use xlink:href=\"#glyph0-7\" x=\"219.884865\" y=\"204.96\"/>\n  <use xlink:href=\"#glyph0-13\" x=\"224.312244\" y=\"204.96\"/>\n  <use xlink:href=\"#glyph0-2\" x=\"228.739624\" y=\"204.96\"/>\n</g>\n<path style=\"fill:none;stroke-width:1;stroke-linecap:butt;stroke-linejoin:bevel;stroke:rgb(0%,0%,0%);stroke-opacity:1;stroke-miterlimit:10;\" d=\"M 300.382187 128 L 246.382187 128 L 246.382187 92 L 300.382187 92 Z M 300.382187 128 \" transform=\"matrix(1,0,0,-1,10.11,402.5)\"/>\n<g style=\"fill:rgb(0%,0%,0%);fill-opacity:1;\">\n  <use xlink:href=\"#glyph0-16\" x=\"274.914\" y=\"295.93\"/>\n  <use xlink:href=\"#glyph0-7\" x=\"280.449221\" y=\"295.93\"/>\n  <use xlink:href=\"#glyph0-13\" x=\"284.8766\" y=\"295.93\"/>\n  <use xlink:href=\"#glyph0-2\" x=\"289.303979\" y=\"295.93\"/>\n</g>\n<path style=\"fill:none;stroke-width:1;stroke-linecap:butt;stroke-linejoin:bevel;stroke:rgb(0%,0%,0%);stroke-opacity:1;stroke-miterlimit:10;\" d=\"M 72.382188 218.003906 L 18.378281 218.003906 L 18.378281 182.003906 L 72.382188 182.003906 Z M 72.382188 218.003906 \" transform=\"matrix(1,0,0,-1,10.11,402.5)\"/>\n<g style=\"fill:rgb(0%,0%,0%);fill-opacity:1;\">\n  <use xlink:href=\"#glyph0-7\" x=\"40.381\" y=\"204.96\"/>\n  <use xlink:href=\"#glyph0-8\" x=\"44.808379\" y=\"204.96\"/>\n  <use xlink:href=\"#glyph0-2\" x=\"50.06664\" y=\"204.96\"/>\n</g>\n<g style=\"fill:rgb(0%,0%,0%);fill-opacity:1;\">\n  <use xlink:href=\"#glyph0-22\" x=\"57.257644\" y=\"204.96\"/>\n  <use xlink:href=\"#glyph0-17\" x=\"60.025255\" y=\"204.96\"/>\n  <use xlink:href=\"#glyph0-17\" x=\"63.927605\" y=\"204.96\"/>\n  <use xlink:href=\"#glyph0-2\" x=\"67.829956\" y=\"204.96\"/>\n</g>\n<path style=\"fill:none;stroke-width:1;stroke-linecap:butt;stroke-linejoin:bevel;stroke:rgb(0%,0%,0%);stroke-opacity:1;stroke-miterlimit:10;\" d=\"M 75.382188 128 L 21.382188 128 L 21.382188 92 L 75.382188 92 Z M 75.382188 128 \" transform=\"matrix(1,0,0,-1,10.11,402.5)\"/>\n<g style=\"fill:rgb(0%,0%,0%);fill-opacity:1;\">\n  <use xlink:href=\"#glyph0-22\" x=\"51.822\" y=\"295.635\"/>\n  <use xlink:href=\"#glyph0-17\" x=\"54.58961\" y=\"295.635\"/>\n  <use xlink:href=\"#glyph0-17\" x=\"58.491961\" y=\"295.635\"/>\n  <use xlink:href=\"#glyph0-2\" x=\"62.394311\" y=\"295.635\"/>\n</g>\n<g clip-path=\"url(#clip1)\" clip-rule=\"nonzero\">\n<path style=\"fill:none;stroke-width:1;stroke-linecap:butt;stroke-linejoin:bevel;stroke:rgb(0%,0%,0%);stroke-opacity:1;stroke-miterlimit:10;\" d=\"M 548.386094 402.003906 L 462.386094 402.003906 L 462.386094 366.003906 L 548.386094 366.003906 Z M 548.386094 402.003906 \" transform=\"matrix(1,0,0,-1,10.11,402.5)\"/>\n</g>\n<g style=\"fill:rgb(0%,0%,0%);fill-opacity:1;\">\n  <use xlink:href=\"#glyph0-7\" x=\"483.519\" y=\"20.958\"/>\n  <use xlink:href=\"#glyph0-8\" x=\"487.946379\" y=\"20.958\"/>\n  <use xlink:href=\"#glyph0-2\" x=\"493.20464\" y=\"20.958\"/>\n</g>\n<g style=\"fill:rgb(0%,0%,0%);fill-opacity:1;\">\n  <use xlink:href=\"#glyph0-13\" x=\"500.395644\" y=\"20.958\"/>\n  <use xlink:href=\"#glyph0-20\" x=\"504.823024\" y=\"20.958\"/>\n  <use xlink:href=\"#glyph0-26\" x=\"509.804324\" y=\"20.958\"/>\n  <use xlink:href=\"#glyph0-24\" x=\"518.106158\" y=\"20.958\"/>\n  <use xlink:href=\"#glyph0-2\" x=\"523.641379\" y=\"20.958\"/>\n</g>\n<g style=\"fill:rgb(0%,0%,0%);fill-opacity:1;\">\n  <use xlink:href=\"#glyph0-17\" x=\"530.832384\" y=\"20.958\"/>\n  <use xlink:href=\"#glyph0-7\" x=\"534.734734\" y=\"20.958\"/>\n  <use xlink:href=\"#glyph0-16\" x=\"539.162114\" y=\"20.958\"/>\n  <use xlink:href=\"#glyph0-2\" x=\"544.697334\" y=\"20.958\"/>\n</g>\n<path style=\"fill:none;stroke-width:1;stroke-linecap:butt;stroke-linejoin:bevel;stroke:rgb(0%,0%,0%);stroke-opacity:1;stroke-miterlimit:10;\" d=\"M 494.386094 310.003906 L 424.386094 310.003906 L 424.386094 274.003906 L 494.386094 274.003906 Z M 494.386094 310.003906 \" transform=\"matrix(1,0,0,-1,10.11,402.5)\"/>\n<g style=\"fill:rgb(0%,0%,0%);fill-opacity:1;\">\n  <use xlink:href=\"#glyph0-13\" x=\"445.959\" y=\"112.959\"/>\n  <use xlink:href=\"#glyph0-20\" x=\"450.386379\" y=\"112.959\"/>\n  <use xlink:href=\"#glyph0-26\" x=\"455.367679\" y=\"112.959\"/>\n  <use xlink:href=\"#glyph0-24\" x=\"463.669514\" y=\"112.959\"/>\n  <use xlink:href=\"#glyph0-2\" x=\"469.204735\" y=\"112.959\"/>\n</g>\n<g style=\"fill:rgb(0%,0%,0%);fill-opacity:1;\">\n  <use xlink:href=\"#glyph0-17\" x=\"476.395739\" y=\"112.959\"/>\n  <use xlink:href=\"#glyph0-7\" x=\"480.29809\" y=\"112.959\"/>\n  <use xlink:href=\"#glyph0-16\" x=\"484.725469\" y=\"112.959\"/>\n  <use xlink:href=\"#glyph0-2\" x=\"490.26069\" y=\"112.959\"/>\n</g>\n<path style=\"fill:none;stroke-width:1;stroke-linecap:butt;stroke-linejoin:bevel;stroke:rgb(0%,0%,0%);stroke-opacity:1;stroke-miterlimit:10;\" d=\"M 153.382187 218.003906 L 99.382188 218.003906 L 99.382188 182.003906 L 153.382187 182.003906 Z M 153.382187 218.003906 \" transform=\"matrix(1,0,0,-1,10.11,402.5)\"/>\n<g style=\"fill:rgb(0%,0%,0%);fill-opacity:1;\">\n  <use xlink:href=\"#glyph0-14\" x=\"126.252\" y=\"205.634\"/>\n  <use xlink:href=\"#glyph0-27\" x=\"131.787221\" y=\"205.634\"/>\n  <use xlink:href=\"#glyph0-22\" x=\"137.322441\" y=\"205.634\"/>\n  <use xlink:href=\"#glyph0-28\" x=\"140.090051\" y=\"205.634\"/>\n  <use xlink:href=\"#glyph0-2\" x=\"143.964507\" y=\"205.634\"/>\n</g>\n<path style=\"fill:none;stroke-width:1;stroke-linecap:butt;stroke-linejoin:bevel;stroke:rgb(0%,0%,0%);stroke-opacity:1;stroke-miterlimit:10;\" d=\"M 234.382187 310.003906 L 174.382187 310.003906 L 174.382187 274.003906 L 234.382187 274.003906 Z M 234.382187 310.003906 \" transform=\"matrix(1,0,0,-1,10.11,402.5)\"/>\n<g style=\"fill:rgb(0%,0%,0%);fill-opacity:1;\">\n  <use xlink:href=\"#glyph0-7\" x=\"195.812\" y=\"112.959\"/>\n  <use xlink:href=\"#glyph0-8\" x=\"200.239379\" y=\"112.959\"/>\n  <use xlink:href=\"#glyph0-2\" x=\"205.49764\" y=\"112.959\"/>\n</g>\n<g style=\"fill:rgb(0%,0%,0%);fill-opacity:1;\">\n  <use xlink:href=\"#glyph0-14\" x=\"212.688644\" y=\"112.959\"/>\n  <use xlink:href=\"#glyph0-27\" x=\"218.223865\" y=\"112.959\"/>\n  <use xlink:href=\"#glyph0-22\" x=\"223.759086\" y=\"112.959\"/>\n  <use xlink:href=\"#glyph0-28\" x=\"226.526696\" y=\"112.959\"/>\n  <use xlink:href=\"#glyph0-2\" x=\"230.401151\" y=\"112.959\"/>\n</g>\n<path style=\"fill:none;stroke-width:1;stroke-linecap:butt;stroke-linejoin:bevel;stroke:rgb(0%,0%,0%);stroke-opacity:1;stroke-miterlimit:10;\" d=\"M 326.386094 402.003906 L 246.382187 402.003906 L 246.382187 366.003906 L 326.386094 366.003906 Z M 326.386094 402.003906 \" transform=\"matrix(1,0,0,-1,10.11,402.5)\"/>\n<g style=\"fill:rgb(0%,0%,0%);fill-opacity:1;\">\n  <use xlink:href=\"#glyph1-1\" x=\"267.837\" y=\"20.986\"/>\n  <use xlink:href=\"#glyph1-2\" x=\"272.260394\" y=\"20.986\"/>\n  <use xlink:href=\"#glyph1-3\" x=\"277.241694\" y=\"20.986\"/>\n  <use xlink:href=\"#glyph1-4\" x=\"281.137071\" y=\"20.986\"/>\n  <use xlink:href=\"#glyph1-5\" x=\"286.666314\" y=\"20.986\"/>\n</g>\n<g style=\"fill:rgb(0%,0%,0%);fill-opacity:1;\">\n  <use xlink:href=\"#glyph2-1\" x=\"290.557\" y=\"20.986\"/>\n</g>\n<g style=\"fill:rgb(0%,0%,0%);fill-opacity:1;\">\n  <use xlink:href=\"#glyph1-6\" x=\"298.029\" y=\"20.986\"/>\n</g>\n<g style=\"fill:rgb(0%,0%,0%);fill-opacity:1;\">\n  <use xlink:href=\"#glyph2-2\" x=\"304.671\" y=\"20.986\"/>\n</g>\n<g style=\"fill:rgb(0%,0%,0%);fill-opacity:1;\">\n  <use xlink:href=\"#glyph3-1\" x=\"315.187\" y=\"20.986\"/>\n</g>\n<path style=\"fill:none;stroke-width:1;stroke-linecap:butt;stroke-linejoin:bevel;stroke:rgb(0%,0%,0%);stroke-opacity:1;stroke-miterlimit:10;\" d=\"M 321.882187 218.003906 L 250.882187 218.003906 L 250.882187 182.003906 L 321.882187 182.003906 Z M 321.882187 218.003906 \" transform=\"matrix(1,0,0,-1,10.11,402.5)\"/>\n<g style=\"fill:rgb(0%,0%,0%);fill-opacity:1;\">\n  <use xlink:href=\"#glyph0-22\" x=\"272.113\" y=\"205.929\"/>\n  <use xlink:href=\"#glyph0-17\" x=\"274.88061\" y=\"205.929\"/>\n  <use xlink:href=\"#glyph0-17\" x=\"278.782961\" y=\"205.929\"/>\n  <use xlink:href=\"#glyph0-2\" x=\"282.685311\" y=\"205.929\"/>\n</g>\n<g style=\"fill:rgb(0%,0%,0%);fill-opacity:1;\">\n  <use xlink:href=\"#glyph0-20\" x=\"289.876316\" y=\"205.929\"/>\n  <use xlink:href=\"#glyph0-14\" x=\"294.857616\" y=\"205.929\"/>\n</g>\n<g style=\"fill:rgb(0%,0%,0%);fill-opacity:1;\">\n  <use xlink:href=\"#glyph0-16\" x=\"303.710382\" y=\"205.929\"/>\n  <use xlink:href=\"#glyph0-7\" x=\"309.245603\" y=\"205.929\"/>\n  <use xlink:href=\"#glyph0-13\" x=\"313.672982\" y=\"205.929\"/>\n  <use xlink:href=\"#glyph0-2\" x=\"318.100362\" y=\"205.929\"/>\n</g>\n<path style=\"fill:none;stroke-width:1;stroke-linecap:butt;stroke-linejoin:bevel;stroke:rgb(0%,0%,0%);stroke-opacity:1;stroke-miterlimit:10;\" d=\"M 75.382188 36 L 21.382188 36 L 21.382188 0 L 75.382188 0 Z M 75.382188 36 \" transform=\"matrix(1,0,0,-1,10.11,402.5)\"/>\n<g style=\"fill:rgb(0%,0%,0%);fill-opacity:1;\">\n  <use xlink:href=\"#glyph0-22\" x=\"45.761\" y=\"387.931\"/>\n  <use xlink:href=\"#glyph0-27\" x=\"48.52861\" y=\"387.931\"/>\n  <use xlink:href=\"#glyph0-16\" x=\"54.063831\" y=\"387.931\"/>\n  <use xlink:href=\"#glyph0-7\" x=\"59.599051\" y=\"387.931\"/>\n  <use xlink:href=\"#glyph0-13\" x=\"64.026431\" y=\"387.931\"/>\n  <use xlink:href=\"#glyph0-2\" x=\"68.45381\" y=\"387.931\"/>\n</g>\n</g>\n</svg>"
          },
          "metadata": {}
        }
      ]
    }
  ]
}
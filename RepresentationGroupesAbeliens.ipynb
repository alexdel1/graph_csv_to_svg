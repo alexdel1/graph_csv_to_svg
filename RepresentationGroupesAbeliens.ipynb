{
  "cells": [
    {
      "cell_type": "markdown",
      "metadata": {
        "id": "view-in-github",
        "colab_type": "text"
      },
      "source": [
        "<a href=\"https://colab.research.google.com/github/alexdel1/graph_csv_to_svg/blob/main/RepresentationGroupesAbeliens.ipynb\" target=\"_parent\"><img src=\"https://colab.research.google.com/assets/colab-badge.svg\" alt=\"Open In Colab\"/></a>"
      ]
    },
    {
      "cell_type": "markdown",
      "metadata": {
        "id": "ua-LyZzaoo4C"
      },
      "source": [
        " [![Made withJupyter](https://img.shields.io/badge/Made%20with-Jupyter-orange?style=for-the-badge&logo=Jupyter)](https://jupyter.org/try)\n",
        "[![made-with-python](https://img.shields.io/badge/Made%20with-Python-1f425f.svg)](https://www.python.org/)\n",
        "[![made-with-Markdown](https://img.shields.io/badge/Made%20with-Markdown-1f425f.svg)](http://commonmark.org)\n",
        "[![made-with-mathjax](https://img.shields.io/badge/Made%20with-MathJax-1f425f.svg)](https://www.mathjax.org/)\n",
        "[![GitHub](https://badgen.net/badge/icon/github?icon=github&label)](https://github.com/alexdel1/TestPresentation/)\n",
        "<a href=\"https://colab.research.google.com/github/alexdel1/TestPresentation/blob/main/RepresentationGroupesAbeliens.ipynb\" target=\"_parent\"><img src=\"https://colab.research.google.com/assets/colab-badge.svg\" alt=\"Open In Colab\"/></a>  \n",
        "[![Binder](https://mybinder.org/badge_logo.svg)](https://mybinder.org/v2/gh/alexdel1/TestPresentation/HEAD)  \n",
        "[![nbviewer](https://raw.githubusercontent.com/jupyter/design/master/logos/Badges/nbviewer_badge.svg)](https://nbviewer.org/github/alexdel1/TestPresentation/blob/main/RepresentationGroupesAbeliens.ipynb)"
      ]
    },
    {
      "cell_type": "markdown",
      "metadata": {
        "id": "view-in-github"
      },
      "source": [
        "\n",
        "\n",
        "Rappel : Menu View : \\\n",
        "Toggle zen mode (not available im jupyter lab)\\\n",
        ": Appearance :\\\n",
        "Table of Contents (tick numbered AND untick first header) \\\n",
        "only simple interface\n",
        "\n",
        "Menu Settings : Jupyter dark\n",
        "\n",
        "Test regularly on Binder-JupyterLab-Zoom \\\n",
        "Make a back-up pdf(slide) and html"
      ]
    },
    {
      "cell_type": "markdown",
      "metadata": {
        "id": "bGVnDlToGnzP"
      },
      "source": [
        "**create** a **vm** with binder and edit from github dev...\n",
        "%%load ...notebook pour avoir accès à deux notebook en même temps (équivalent à un import de github)"
      ]
    },
    {
      "cell_type": "code",
      "execution_count": null,
      "metadata": {
        "colab": {
          "base_uri": "https://localhost:8080/"
        },
        "id": "eXGh5oR0ki01",
        "outputId": "eae198a7-3746-4446-a63c-28d8e5a9a934"
      },
      "outputs": [
        {
          "name": "stdout",
          "output_type": "stream",
          "text": [
            "Currently running servers:\n"
          ]
        }
      ],
      "source": [
        "!jupyter server list"
      ]
    },
    {
      "cell_type": "code",
      "execution_count": null,
      "metadata": {
        "id": "v0TN3Wshki09"
      },
      "outputs": [],
      "source": [
        "!jupyter server list | grep -oP 'token=\\K[^ ]+'"
      ]
    },
    {
      "cell_type": "code",
      "execution_count": null,
      "metadata": {
        "colab": {
          "base_uri": "https://localhost:8080/"
        },
        "id": "C6t-BXcFAeZx",
        "outputId": "d3dd7666-a181-4420-d515-e250bf578d2c"
      },
      "outputs": [
        {
          "name": "stdout",
          "output_type": "stream",
          "text": [
            "release-colab_20241125-104948_RC00\n"
          ]
        }
      ],
      "source": [
        "\n",
        "import os\n",
        "print(os.environ.get('COLAB_RELEASE_TAG', 'Not in Colab'))"
      ]
    },
    {
      "cell_type": "markdown",
      "metadata": {
        "id": "qWPbnxC2ki1A"
      },
      "source": [
        "empty cell to drag the output to get the token for zoom"
      ]
    },
    {
      "cell_type": "markdown",
      "metadata": {
        "id": "1o3elo1AoCId"
      },
      "source": [
        "Nom : Alexandre Delode \\\n",
        "Date : 05/12/2024 \\\n",
        "Module : Séminaire ( AMU M1 Mathématiques EADS ) \\\n",
        "Prof. : Puschnigg \\\n",
        "Réf : B. Steinberg, Representation theory of finite groups"
      ]
    },
    {
      "cell_type": "markdown",
      "metadata": {
        "id": "Ir1YwcFZ1YQ1"
      },
      "source": [
        "##### Macros Latex et Bibliothèques Python"
      ]
    },
    {
      "cell_type": "markdown",
      "metadata": {
        "id": "8R_lrLFa0u3n"
      },
      "source": [
        "\n",
        "**Macros Latex:**\n",
        "\n",
        "$\n",
        "\\def\\GL{\\mathbb{GL}}\n",
        "\\def\\RR{\\mathbb{R}}\n",
        "\\def\\ZZ{\\mathbb{Z}}\n",
        "$\n",
        "\n",
        "```latex\n",
        "$\n",
        "\\def\\GL{\\mathbb{GL}}\n",
        "\\def\\RR{\\mathbb{R}}\n",
        "\\def\\ZZ{\\mathbb{Z}}\n",
        "$\n",
        "```"
      ]
    },
    {
      "cell_type": "markdown",
      "metadata": {
        "id": "DClj_uWx0mJF"
      },
      "source": [
        "Test: Maintenant $\\GL(n, \\RR)$ fonctionne directement dans le markdown."
      ]
    },
    {
      "cell_type": "code",
      "execution_count": null,
      "metadata": {
        "colab": {
          "background_save": true
        },
        "id": "jGsrTJiVki1M"
      },
      "outputs": [],
      "source": [
        "\n",
        "%%capture\n",
        "!pip install git+https://github.com/alexdel1/graph_csv_to_svg.git\n",
        "!sudo apt update\n",
        "!sudo apt install graphviz libgraphviz-dev\n",
        "!pip install pygraphviz\n",
        "!pip install dot2tex\n",
        "!sudo apt install pdf2svg\n",
        "!sudo apt update\n",
        "!sudo apt install texlive-xetex"
      ]
    },
    {
      "cell_type": "code",
      "execution_count": null,
      "metadata": {
        "colab": {
          "background_save": true
        },
        "id": "jsRetioD5FsO"
      },
      "outputs": [],
      "source": [
        "\n",
        "import pandas as pd\n",
        "import io\n",
        "import unicodedata\n",
        "import re\n",
        "import networkx as nx\n",
        "import pygraphviz # Import the Graph class\n",
        "from networkx.drawing.nx_pydot import to_pydot\n",
        "from IPython.display import SVG\n",
        "import subprocess\n",
        "\n",
        "\n",
        "from graph_csv_to_svg import csv_to_svg"
      ]
    },
    {
      "cell_type": "markdown",
      "metadata": {
        "id": "IXNzyyCEm66t"
      },
      "source": [
        "# **Représentation des groupes abéliens** <!-- omit in toc -->"
      ]
    },
    {
      "cell_type": "markdown",
      "metadata": {
        "id": "8v-uZ66Ir8m0"
      },
      "source": [
        "## Rappel groupe abélien fini"
      ]
    },
    {
      "cell_type": "markdown",
      "metadata": {
        "id": "9cNSqHXPyKdG"
      },
      "source": [
        "### Définition"
      ]
    },
    {
      "cell_type": "markdown",
      "metadata": {
        "id": "vdHzs-Vdz30p"
      },
      "source": [
        "#### Groupe"
      ]
    },
    {
      "cell_type": "markdown",
      "metadata": {
        "id": "RVGElhH16RmQ"
      },
      "source": [
        "Un ensemble et une loi de composition interne (LCI) :\n",
        "* un symétrique pour chaque élément\n",
        "* associative\n",
        "* un élément neutre"
      ]
    },
    {
      "cell_type": "markdown",
      "metadata": {
        "id": "Y2_9NDRbz70_"
      },
      "source": [
        "#### Abélien"
      ]
    },
    {
      "cell_type": "markdown",
      "metadata": {
        "id": "1cPftcZi7pLU"
      },
      "source": [
        "\n",
        "$$ x \\cdot y = y \\cdot x \\,\\,\\,\\,\\, \\forall x, y \\in G $$"
      ]
    },
    {
      "cell_type": "markdown",
      "metadata": {
        "id": "Pkxt3tiE0Arn"
      },
      "source": [
        "#### Fini"
      ]
    },
    {
      "cell_type": "markdown",
      "metadata": {
        "id": "5DaZLuqUJPiu"
      },
      "source": [
        "$$\\mathrm{card}(G)<\\infty$$"
      ]
    },
    {
      "cell_type": "markdown",
      "metadata": {
        "id": "Zh41IfHEFzd2"
      },
      "source": [
        "<details>\n",
        "<summary>À ne pas confondre avec de \"type fini\"</summary>\n",
        "\n",
        "$$\\forall x \\in G, \\, \\exists x_1, x_2, \\dots, x_s \\in G \\text{ et } \\exists n_1, n_2, \\dots, n_s \\in \\mathbb{Z} \\text{ tel que } x = n_1 x_1 + n_2 x_2 + \\cdots + n_s x_s$$\n",
        "où $ s $ est un nombre fini fixé.\n",
        "\n",
        "\n",
        "Une autre définition équivalente est que le rang défini ci-dessous doit être fini :\n",
        "\n",
        "$$\\mathrm{rang}(G) = \\min \\left( |X| \\mid \\langle X \\rangle = G\\right) $$\n",
        "</details>"
      ]
    },
    {
      "cell_type": "markdown",
      "metadata": {
        "id": "jykNHFcRyY6A"
      },
      "source": [
        "### Exemples"
      ]
    },
    {
      "cell_type": "markdown",
      "metadata": {
        "id": "-5KfLz5I2mRv"
      },
      "source": [
        "Si $G$ est un groupe abélien et $\\sim$ est compatible, alors $G /\\sim$ est aussi abélien."
      ]
    },
    {
      "cell_type": "markdown",
      "metadata": {
        "id": "dMvq-Ubp3Arm"
      },
      "source": [
        "Un groupe cyclique est un groupe qui est à la fois fini et monogène."
      ]
    },
    {
      "cell_type": "markdown",
      "metadata": {
        "id": "v_Rmr6bm3SAu"
      },
      "source": [
        "Tout groupe cyclique est abélien. (Ex : $\\ZZ / n \\ZZ$)"
      ]
    },
    {
      "cell_type": "markdown",
      "metadata": {
        "id": "5cMktSzm3Hz8"
      },
      "source": [
        "Tout sous-groupe d'un groupe abélien fini est abélien et fini."
      ]
    },
    {
      "cell_type": "markdown",
      "metadata": {
        "id": "OuoH6j8V46q4"
      },
      "source": [
        "Tout produit direct d'une famille finie de groupes abéliens finis est un groupe abélien fini."
      ]
    },
    {
      "cell_type": "markdown",
      "metadata": {
        "id": "W4psNfYtsRkH"
      },
      "source": [
        "### Contre exemples"
      ]
    },
    {
      "cell_type": "markdown",
      "metadata": {
        "id": "IzB3oENTvM7u"
      },
      "source": [
        "Le groupe linéaire général $\\left( \\mathbb{GL}(n, K)  \\right)$, constitué des matrices inversibles $\\left( n \\times n \\right)$ à coefficients dans un corps \\( K \\), **n'est pas abélien** pour \\( n > 1 \\). \\"
      ]
    },
    {
      "cell_type": "markdown",
      "metadata": {
        "id": "cwgb_9xsyoXi"
      },
      "source": [
        "### Théorème de structure des groupes abéliens finis"
      ]
    },
    {
      "cell_type": "markdown",
      "metadata": {
        "id": "CLMb6lzgpg4r"
      },
      "source": [
        "## Rappel de la théorie de la représentation des groupes"
      ]
    },
    {
      "cell_type": "markdown",
      "metadata": {
        "id": "u0lerLvmPT8B"
      },
      "source": [
        "Alternative to github for dev:"
      ]
    },
    {
      "cell_type": "code",
      "execution_count": null,
      "metadata": {
        "id": "M2F7dUhix8at",
        "colab": {
          "base_uri": "https://localhost:8080/"
        },
        "outputId": "99066ac7-456d-43c6-da62-75208b12eb2c"
      },
      "outputs": [
        {
          "output_type": "stream",
          "name": "stdout",
          "text": [
            "Mounted at /content/drive\n"
          ]
        }
      ],
      "source": [
        "from google.colab import drive\n",
        "drive.mount('/content/drive')"
      ]
    },
    {
      "cell_type": "code",
      "execution_count": 8,
      "metadata": {
        "id": "R4sp7snK0q_B"
      },
      "outputs": [],
      "source": [
        "\n",
        "%run \"/content/drive/MyDrive/Colab Notebooks/csv_to_svg_c.ipynb\""
      ]
    },
    {
      "cell_type": "code",
      "source": [
        "%run \"/content/drive/MyDrive/Colab Notebooks/csv_to_svg_c.ipynb\""
      ],
      "metadata": {
        "id": "jkQ8Pm-Ik1IY"
      },
      "execution_count": null,
      "outputs": []
    },
    {
      "cell_type": "code",
      "execution_count": 21,
      "metadata": {
        "id": "sCKatj7M5eab",
        "colab": {
          "base_uri": "https://localhost:8080/",
          "height": 1000
        },
        "outputId": "4872c810-d0ca-42f6-caac-4ed587b296de",
        "collapsed": true
      },
      "outputs": [
        {
          "output_type": "stream",
          "name": "stdout",
          "text": [
            "here 1                   texlbl                  name\n",
            "0               éq. déc.              éq. déc.\n",
            "1               éq. irr.              éq. irr.\n",
            "2         éq. comp. réd.        éq. comp. réd.\n",
            "3                  unit.                 unit.\n",
            "4              éq. unit.             éq. unit.\n",
            "5   éq. irr. ou éq. déc.  éq. irr. ou éq. déc.\n",
            "7                   fini                  fini\n",
            "9          irr. ou déc.1         irr. ou déc.1\n",
            "11         irr. ou déc.2         irr. ou déc.2\n",
            "13                  irr.                  irr.\n",
            "0                   déc.                  déc.\n",
            "2             comp. réd.            comp. réd.\n",
            "13                indéc.                indéc.\n",
            "                   name                     texlbl    shape\n",
            "0                  fini  $\\mathrm{card}(G)<\\infty$      NaN\n",
            "1         irr. ou déc.1              $\\mathrm{ou}$  diamond\n",
            "2  éq. irr. ou éq. déc.              $\\mathrm{ou}$  diamond\n",
            "3         irr. ou déc.2              $\\mathrm{ou}$  diamond\n",
            "                  texlbl                  name\n",
            "0               éq. déc.              éq. déc.\n",
            "1               éq. irr.              éq. irr.\n",
            "2         éq. comp. réd.        éq. comp. réd.\n",
            "3                  unit.                 unit.\n",
            "4              éq. unit.             éq. unit.\n",
            "5   éq. irr. ou éq. déc.  éq. irr. ou éq. déc.\n",
            "7                   fini                  fini\n",
            "9          irr. ou déc.1         irr. ou déc.1\n",
            "11         irr. ou déc.2         irr. ou déc.2\n",
            "13                  irr.                  irr.\n",
            "0                   déc.                  déc.\n",
            "2             comp. réd.            comp. réd.\n",
            "13                indéc.                indéc.\n",
            "here2                     name    shape                     texlbl\n",
            "0               éq. déc.      NaN                   éq. déc.\n",
            "1               éq. irr.      NaN                   éq. irr.\n",
            "2         éq. comp. réd.      NaN             éq. comp. réd.\n",
            "3                  unit.      NaN                      unit.\n",
            "4              éq. unit.      NaN                  éq. unit.\n",
            "5   éq. irr. ou éq. déc.  diamond              $\\mathrm{ou}$\n",
            "6                   fini      NaN  $\\mathrm{card}(G)<\\infty$\n",
            "7          irr. ou déc.1  diamond              $\\mathrm{ou}$\n",
            "8          irr. ou déc.2  diamond              $\\mathrm{ou}$\n",
            "9                   irr.      NaN                       irr.\n",
            "10                  déc.      NaN                       déc.\n",
            "11            comp. réd.      NaN                 comp. réd.\n",
            "12                indéc.      NaN                     indéc.\n",
            "here3                        texlbl              name    shape\n",
            "0                    éq. déc.            eq_dec      NaN\n",
            "1                    éq. irr.            eq_irr      NaN\n",
            "2              éq. comp. réd.       eq_comp_red      NaN\n",
            "3                       unit.              unit      NaN\n",
            "4                   éq. unit.           eq_unit      NaN\n",
            "5               $\\mathrm{ou}$  eq_irr_ou_eq_dec  diamond\n",
            "6   $\\mathrm{card}(G)<\\infty$              fini      NaN\n",
            "7               $\\mathrm{ou}$       irr_ou_dec1  diamond\n",
            "8               $\\mathrm{ou}$       irr_ou_dec2  diamond\n",
            "9                        irr.               irr      NaN\n",
            "10                       déc.               dec      NaN\n",
            "11                 comp. réd.          comp_red      NaN\n",
            "12                     indéc.             indec      NaN\n"
          ]
        },
        {
          "output_type": "stream",
          "name": "stderr",
          "text": [
            "<ipython-input-8-a842965f38b5>:61: FutureWarning: Setting an item of incompatible dtype is deprecated and will raise an error in a future version of pandas. Value 'solid' has dtype incompatible with float64, please explicitly cast to a compatible dtype first.\n",
            "  C.fillna(\"solid\", inplace=True)\n"
          ]
        },
        {
          "output_type": "stream",
          "name": "stdout",
          "text": [
            "ipynb version\n"
          ]
        },
        {
          "output_type": "display_data",
          "data": {
            "text/plain": [
              "<IPython.core.display.SVG object>"
            ],
            "image/svg+xml": "<svg xmlns=\"http://www.w3.org/2000/svg\" xmlns:xlink=\"http://www.w3.org/1999/xlink\" width=\"612pt\" height=\"792pt\" viewBox=\"0 0 612 792\" version=\"1.1\">\n<defs>\n<g>\n<symbol overflow=\"visible\" id=\"glyph0-0\">\n<path style=\"stroke:none;\" d=\"\"/>\n</symbol>\n<symbol overflow=\"visible\" id=\"glyph0-1\">\n<path style=\"stroke:none;\" d=\"M 3.484375 -1.3125 C 3.484375 -1.9375 3.015625 -2.53125 2.21875 -2.6875 C 2.84375 -2.890625 3.28125 -3.4375 3.28125 -4.03125 C 3.28125 -4.65625 2.609375 -5.09375 1.875 -5.09375 C 1.109375 -5.09375 0.53125 -4.625 0.53125 -4.046875 C 0.53125 -3.796875 0.6875 -3.65625 0.921875 -3.65625 C 1.15625 -3.65625 1.3125 -3.8125 1.3125 -4.046875 C 1.3125 -4.421875 0.953125 -4.421875 0.828125 -4.421875 C 1.0625 -4.796875 1.578125 -4.890625 1.84375 -4.890625 C 2.15625 -4.890625 2.578125 -4.734375 2.578125 -4.046875 C 2.578125 -3.953125 2.5625 -3.5 2.375 -3.171875 C 2.140625 -2.796875 1.875 -2.78125 1.6875 -2.78125 C 1.625 -2.765625 1.4375 -2.75 1.390625 -2.75 C 1.328125 -2.75 1.28125 -2.734375 1.28125 -2.65625 C 1.28125 -2.578125 1.328125 -2.578125 1.453125 -2.578125 L 1.796875 -2.578125 C 2.421875 -2.578125 2.703125 -2.0625 2.703125 -1.3125 C 2.703125 -0.265625 2.171875 -0.046875 1.84375 -0.046875 C 1.515625 -0.046875 0.9375 -0.171875 0.671875 -0.625 C 0.9375 -0.59375 1.171875 -0.75 1.171875 -1.046875 C 1.171875 -1.328125 0.96875 -1.46875 0.75 -1.46875 C 0.5625 -1.46875 0.328125 -1.375 0.328125 -1.03125 C 0.328125 -0.34375 1.03125 0.171875 1.859375 0.171875 C 2.796875 0.171875 3.484375 -0.53125 3.484375 -1.3125 Z M 3.484375 -1.3125 \"/>\n</symbol>\n<symbol overflow=\"visible\" id=\"glyph0-2\">\n<path style=\"stroke:none;\" d=\"M 1.46875 -0.40625 C 1.46875 -0.625 1.28125 -0.8125 1.0625 -0.8125 C 0.84375 -0.8125 0.65625 -0.625 0.65625 -0.40625 C 0.65625 -0.1875 0.84375 0 1.0625 0 C 1.28125 0 1.46875 -0.1875 1.46875 -0.40625 Z M 1.46875 -0.40625 \"/>\n</symbol>\n<symbol overflow=\"visible\" id=\"glyph0-3\">\n<path style=\"stroke:none;\" d=\"M 3.203125 0 L 3.203125 -0.234375 L 2.953125 -0.234375 C 2.265625 -0.234375 2.25 -0.328125 2.25 -0.609375 L 2.25 -4.890625 C 2.25 -5.078125 2.25 -5.09375 2.078125 -5.09375 C 1.59375 -4.59375 0.921875 -4.59375 0.6875 -4.59375 L 0.6875 -4.359375 C 0.828125 -4.359375 1.28125 -4.359375 1.6875 -4.5625 L 1.6875 -0.609375 C 1.6875 -0.328125 1.65625 -0.234375 0.96875 -0.234375 L 0.71875 -0.234375 L 0.71875 0 C 1 -0.015625 1.65625 -0.015625 1.96875 -0.015625 C 2.265625 -0.015625 2.9375 -0.015625 3.203125 0 Z M 3.203125 0 \"/>\n</symbol>\n<symbol overflow=\"visible\" id=\"glyph0-4\">\n<path style=\"stroke:none;\" d=\"M 3.4375 -1.328125 L 3.234375 -1.328125 C 3.203125 -1.09375 3.140625 -0.765625 3.078125 -0.65625 C 3.015625 -0.59375 2.515625 -0.59375 2.34375 -0.59375 L 0.96875 -0.59375 L 1.78125 -1.375 C 2.96875 -2.4375 3.4375 -2.84375 3.4375 -3.609375 C 3.4375 -4.484375 2.75 -5.09375 1.8125 -5.09375 C 0.953125 -5.09375 0.375 -4.390625 0.375 -3.703125 C 0.375 -3.28125 0.765625 -3.28125 0.78125 -3.28125 C 0.921875 -3.28125 1.1875 -3.375 1.1875 -3.6875 C 1.1875 -3.875 1.046875 -4.078125 0.78125 -4.078125 C 0.71875 -4.078125 0.703125 -4.078125 0.6875 -4.078125 C 0.859375 -4.5625 1.265625 -4.859375 1.71875 -4.859375 C 2.40625 -4.859375 2.734375 -4.234375 2.734375 -3.609375 C 2.734375 -3 2.359375 -2.390625 1.9375 -1.921875 L 0.46875 -0.28125 C 0.375 -0.203125 0.375 -0.1875 0.375 0 L 3.21875 0 Z M 3.4375 -1.328125 \"/>\n</symbol>\n<symbol overflow=\"visible\" id=\"glyph0-5\">\n<path style=\"stroke:none;\" d=\"M 3.59375 -1.265625 L 3.59375 -1.5 L 2.828125 -1.5 L 2.828125 -4.96875 C 2.828125 -5.125 2.828125 -5.171875 2.71875 -5.171875 C 2.640625 -5.171875 2.625 -5.171875 2.5625 -5.078125 L 0.21875 -1.5 L 0.21875 -1.265625 L 2.25 -1.265625 L 2.25 -0.59375 C 2.25 -0.328125 2.234375 -0.234375 1.671875 -0.234375 L 1.5 -0.234375 L 1.5 0 C 1.8125 -0.015625 2.21875 -0.015625 2.53125 -0.015625 C 2.859375 -0.015625 3.265625 -0.015625 3.578125 0 L 3.578125 -0.234375 L 3.421875 -0.234375 C 2.84375 -0.234375 2.828125 -0.328125 2.828125 -0.59375 L 2.828125 -1.265625 Z M 2.296875 -1.5 L 0.421875 -1.5 L 2.296875 -4.34375 Z M 2.296875 -1.5 \"/>\n</symbol>\n<symbol overflow=\"visible\" id=\"glyph0-6\">\n<path style=\"stroke:none;\" d=\"M 3.4375 -1.53125 C 3.4375 -2.4375 2.796875 -3.203125 1.984375 -3.203125 C 1.609375 -3.203125 1.28125 -3.09375 1.015625 -2.8125 L 1.015625 -4.3125 C 1.15625 -4.265625 1.40625 -4.203125 1.65625 -4.203125 C 2.59375 -4.203125 3.125 -4.90625 3.125 -5 C 3.125 -5.046875 3.109375 -5.09375 3.0625 -5.09375 C 3.0625 -5.09375 3.03125 -5.09375 3 -5.0625 C 2.84375 -5 2.46875 -4.84375 1.953125 -4.84375 C 1.65625 -4.84375 1.296875 -4.890625 0.9375 -5.0625 C 0.875 -5.078125 0.84375 -5.078125 0.84375 -5.078125 C 0.765625 -5.078125 0.765625 -5.015625 0.765625 -4.890625 L 0.765625 -2.640625 C 0.765625 -2.5 0.765625 -2.4375 0.875 -2.4375 C 0.9375 -2.4375 0.953125 -2.453125 0.984375 -2.5 C 1.0625 -2.625 1.34375 -3.046875 1.96875 -3.046875 C 2.359375 -3.046875 2.546875 -2.6875 2.609375 -2.546875 C 2.734375 -2.265625 2.75 -1.96875 2.75 -1.59375 C 2.75 -1.328125 2.75 -0.859375 2.5625 -0.546875 C 2.390625 -0.25 2.09375 -0.046875 1.75 -0.046875 C 1.1875 -0.046875 0.75 -0.453125 0.625 -0.90625 C 0.65625 -0.890625 0.671875 -0.890625 0.75 -0.890625 C 1.015625 -0.890625 1.140625 -1.078125 1.140625 -1.265625 C 1.140625 -1.4375 1.015625 -1.640625 0.75 -1.640625 C 0.65625 -1.640625 0.375 -1.578125 0.375 -1.234375 C 0.375 -0.578125 0.90625 0.171875 1.765625 0.171875 C 2.65625 0.171875 3.4375 -0.5625 3.4375 -1.53125 Z M 3.4375 -1.53125 \"/>\n</symbol>\n<symbol overflow=\"visible\" id=\"glyph0-7\">\n<path style=\"stroke:none;\" d=\"M 3.171875 -0.90625 C 3.171875 -0.984375 3.109375 -1 3.078125 -1 C 3 -1 2.984375 -0.953125 2.96875 -0.890625 C 2.703125 -0.109375 2.015625 -0.109375 1.9375 -0.109375 C 1.5625 -0.109375 1.25 -0.34375 1.078125 -0.625 C 0.84375 -0.984375 0.84375 -1.484375 0.84375 -1.765625 L 2.984375 -1.765625 C 3.140625 -1.765625 3.171875 -1.765625 3.171875 -1.921875 C 3.171875 -2.6875 2.765625 -3.421875 1.796875 -3.421875 C 0.921875 -3.421875 0.21875 -2.640625 0.21875 -1.6875 C 0.21875 -0.65625 1.015625 0.078125 1.890625 0.078125 C 2.828125 0.078125 3.171875 -0.765625 3.171875 -0.90625 Z M 2.671875 -1.921875 L 0.859375 -1.921875 C 0.90625 -3.0625 1.546875 -3.25 1.796875 -3.25 C 2.59375 -3.25 2.671875 -2.21875 2.671875 -1.921875 Z M 2.640625 -5.0625 C 2.640625 -5.203125 2.5 -5.328125 2.375 -5.328125 C 2.25 -5.328125 2.171875 -5.25 2.140625 -5.203125 L 1.21875 -4.03125 L 1.359375 -3.890625 L 2.515625 -4.828125 C 2.578125 -4.875 2.640625 -4.96875 2.640625 -5.0625 Z M 2.640625 -5.0625 \"/>\n</symbol>\n<symbol overflow=\"visible\" id=\"glyph0-8\">\n<path style=\"stroke:none;\" d=\"M 4.03125 1.484375 L 4.03125 1.25 C 3.515625 1.25 3.4375 1.25 3.4375 0.90625 L 3.4375 -3.375 L 3.265625 -3.375 L 2.96875 -2.6875 C 2.875 -2.890625 2.5625 -3.375 1.953125 -3.375 C 1.0625 -3.375 0.265625 -2.640625 0.265625 -1.640625 C 0.265625 -0.6875 1 0.078125 1.890625 0.078125 C 2.421875 0.078125 2.734375 -0.25 2.90625 -0.46875 L 2.90625 0.90625 C 2.90625 1.25 2.8125 1.25 2.3125 1.25 L 2.3125 1.484375 L 3.15625 1.453125 Z M 2.921875 -1.046875 C 2.921875 -0.796875 2.78125 -0.578125 2.625 -0.390625 C 2.515625 -0.296875 2.28125 -0.078125 1.921875 -0.078125 C 1.359375 -0.078125 0.890625 -0.765625 0.890625 -1.640625 C 0.890625 -2.546875 1.421875 -3.1875 2 -3.1875 C 2.609375 -3.1875 2.921875 -2.515625 2.921875 -2.109375 Z M 2.921875 -1.046875 \"/>\n</symbol>\n<symbol overflow=\"visible\" id=\"glyph0-9\">\n<path style=\"stroke:none;\" d=\"M 3.484375 -1.28125 C 3.484375 -1.5625 3.40625 -1.90625 3.125 -2.21875 C 2.96875 -2.390625 2.84375 -2.453125 2.359375 -2.765625 C 2.90625 -3.046875 3.28125 -3.453125 3.28125 -3.953125 C 3.28125 -4.65625 2.609375 -5.09375 1.90625 -5.09375 C 1.140625 -5.09375 0.53125 -4.515625 0.53125 -3.8125 C 0.53125 -3.671875 0.546875 -3.328125 0.859375 -2.96875 C 0.953125 -2.875 1.234375 -2.6875 1.421875 -2.5625 C 0.984375 -2.34375 0.328125 -1.90625 0.328125 -1.15625 C 0.328125 -0.34375 1.09375 0.171875 1.90625 0.171875 C 2.765625 0.171875 3.484375 -0.46875 3.484375 -1.28125 Z M 2.953125 -3.953125 C 2.953125 -3.515625 2.65625 -3.140625 2.1875 -2.875 L 1.25 -3.484375 C 0.890625 -3.71875 0.859375 -3.984375 0.859375 -4.109375 C 0.859375 -4.578125 1.359375 -4.890625 1.90625 -4.890625 C 2.453125 -4.890625 2.953125 -4.5 2.953125 -3.953125 Z M 3.109375 -1.015625 C 3.109375 -0.4375 2.53125 -0.046875 1.90625 -0.046875 C 1.25 -0.046875 0.703125 -0.515625 0.703125 -1.15625 C 0.703125 -1.59375 0.953125 -2.078125 1.59375 -2.4375 L 2.53125 -1.84375 C 2.75 -1.703125 3.109375 -1.46875 3.109375 -1.015625 Z M 3.109375 -1.015625 \"/>\n</symbol>\n<symbol overflow=\"visible\" id=\"glyph0-10\">\n<path style=\"stroke:none;\" d=\"M 6.71875 0 L 6.71875 -0.234375 L 6.53125 -0.234375 C 5.9375 -0.234375 5.921875 -0.328125 5.921875 -0.59375 L 5.921875 -4.625 C 5.921875 -4.890625 5.9375 -4.984375 6.53125 -4.984375 L 6.71875 -4.984375 L 6.71875 -5.21875 L 5.421875 -5.21875 C 5.21875 -5.21875 5.21875 -5.203125 5.171875 -5.078125 L 3.5 -0.765625 L 1.84375 -5.046875 C 1.765625 -5.21875 1.75 -5.21875 1.578125 -5.21875 L 0.28125 -5.21875 L 0.28125 -4.984375 L 0.46875 -4.984375 C 1.046875 -4.984375 1.0625 -4.890625 1.0625 -4.625 L 1.0625 -0.796875 C 1.0625 -0.59375 1.0625 -0.234375 0.28125 -0.234375 L 0.28125 0 L 1.171875 -0.015625 L 2.078125 0 L 2.078125 -0.234375 C 1.28125 -0.234375 1.28125 -0.59375 1.28125 -0.796875 L 1.28125 -4.921875 L 1.296875 -4.921875 L 3.125 -0.171875 C 3.171875 -0.0625 3.203125 0 3.28125 0 C 3.375 0 3.390625 -0.0625 3.421875 -0.140625 L 5.296875 -4.984375 L 5.3125 -4.984375 L 5.3125 -0.59375 C 5.3125 -0.328125 5.296875 -0.234375 4.703125 -0.234375 L 4.515625 -0.234375 L 4.515625 0 C 4.8125 -0.015625 5.328125 -0.015625 5.625 -0.015625 C 5.921875 -0.015625 6.4375 -0.015625 6.71875 0 Z M 6.71875 0 \"/>\n</symbol>\n<symbol overflow=\"visible\" id=\"glyph0-11\">\n<path style=\"stroke:none;\" d=\"M 3.6875 -0.6875 L 3.6875 -1.109375 L 3.5 -1.109375 L 3.5 -0.6875 C 3.5 -0.234375 3.3125 -0.1875 3.21875 -0.1875 C 2.96875 -0.1875 2.9375 -0.53125 2.9375 -0.578125 L 2.9375 -2.09375 C 2.9375 -2.421875 2.9375 -2.71875 2.671875 -3 C 2.375 -3.296875 1.984375 -3.421875 1.625 -3.421875 C 1 -3.421875 0.46875 -3.0625 0.46875 -2.5625 C 0.46875 -2.328125 0.625 -2.203125 0.8125 -2.203125 C 1.03125 -2.203125 1.171875 -2.359375 1.171875 -2.546875 C 1.171875 -2.640625 1.125 -2.890625 0.78125 -2.90625 C 0.984375 -3.171875 1.359375 -3.25 1.609375 -3.25 C 1.984375 -3.25 2.421875 -2.953125 2.421875 -2.28125 L 2.421875 -2 C 2.03125 -1.96875 1.484375 -1.953125 1.015625 -1.71875 C 0.4375 -1.453125 0.25 -1.0625 0.25 -0.71875 C 0.25 -0.109375 0.984375 0.078125 1.46875 0.078125 C 1.96875 0.078125 2.328125 -0.21875 2.46875 -0.578125 C 2.5 -0.28125 2.703125 0.046875 3.0625 0.046875 C 3.21875 0.046875 3.6875 -0.0625 3.6875 -0.6875 Z M 2.421875 -1.0625 C 2.421875 -0.34375 1.859375 -0.078125 1.515625 -0.078125 C 1.140625 -0.078125 0.828125 -0.34375 0.828125 -0.734375 C 0.828125 -1.15625 1.15625 -1.78125 2.421875 -1.828125 Z M 2.421875 -1.0625 \"/>\n</symbol>\n<symbol overflow=\"visible\" id=\"glyph0-12\">\n<path style=\"stroke:none;\" d=\"M 2.75 -0.984375 C 2.75 -1.390625 2.515625 -1.609375 2.4375 -1.703125 C 2.171875 -1.953125 1.875 -2.015625 1.5625 -2.078125 C 1.125 -2.15625 0.625 -2.25 0.625 -2.703125 C 0.625 -2.96875 0.8125 -3.28125 1.46875 -3.28125 C 2.3125 -3.28125 2.359375 -2.59375 2.375 -2.359375 C 2.375 -2.28125 2.453125 -2.28125 2.453125 -2.28125 C 2.5625 -2.28125 2.5625 -2.328125 2.5625 -2.46875 L 2.5625 -3.234375 C 2.5625 -3.375 2.5625 -3.421875 2.46875 -3.421875 C 2.4375 -3.421875 2.421875 -3.421875 2.328125 -3.328125 C 2.296875 -3.296875 2.21875 -3.234375 2.1875 -3.203125 C 1.90625 -3.421875 1.59375 -3.421875 1.46875 -3.421875 C 0.546875 -3.421875 0.25 -2.90625 0.25 -2.484375 C 0.25 -2.21875 0.375 -2 0.578125 -1.828125 C 0.828125 -1.640625 1.046875 -1.59375 1.59375 -1.484375 C 1.75 -1.453125 2.390625 -1.328125 2.390625 -0.78125 C 2.390625 -0.390625 2.109375 -0.078125 1.515625 -0.078125 C 0.875 -0.078125 0.609375 -0.515625 0.453125 -1.171875 C 0.4375 -1.265625 0.421875 -1.296875 0.34375 -1.296875 C 0.25 -1.296875 0.25 -1.25 0.25 -1.109375 L 0.25 -0.09375 C 0.25 0.03125 0.25 0.078125 0.34375 0.078125 C 0.375 0.078125 0.375 0.078125 0.53125 -0.0625 C 0.546875 -0.078125 0.546875 -0.09375 0.6875 -0.25 C 1.015625 0.078125 1.359375 0.078125 1.515625 0.078125 C 2.40625 0.078125 2.75 -0.421875 2.75 -0.984375 Z M 2.75 -0.984375 \"/>\n</symbol>\n<symbol overflow=\"visible\" id=\"glyph0-13\">\n<path style=\"stroke:none;\" d=\"M 3.171875 -0.90625 C 3.171875 -0.984375 3.09375 -0.984375 3.078125 -0.984375 C 3 -0.984375 2.984375 -0.953125 2.96875 -0.90625 C 2.75 -0.203125 2.25 -0.109375 1.96875 -0.109375 C 1.5625 -0.109375 0.890625 -0.4375 0.890625 -1.671875 C 0.890625 -2.90625 1.515625 -3.234375 1.921875 -3.234375 C 2 -3.234375 2.46875 -3.21875 2.75 -2.953125 C 2.4375 -2.921875 2.390625 -2.703125 2.390625 -2.59375 C 2.390625 -2.40625 2.515625 -2.25 2.734375 -2.25 C 2.9375 -2.25 3.09375 -2.375 3.09375 -2.609375 C 3.09375 -3.125 2.5 -3.421875 1.921875 -3.421875 C 0.96875 -3.421875 0.265625 -2.59375 0.265625 -1.65625 C 0.265625 -0.671875 1.015625 0.078125 1.90625 0.078125 C 2.921875 0.078125 3.171875 -0.828125 3.171875 -0.90625 Z M 3.171875 -0.90625 \"/>\n</symbol>\n<symbol overflow=\"visible\" id=\"glyph0-14\">\n<path style=\"stroke:none;\" d=\"M 4.09375 0 L 4.09375 -0.234375 C 3.6875 -0.234375 3.5 -0.234375 3.484375 -0.46875 L 3.484375 -1.921875 C 3.484375 -2.578125 3.484375 -2.8125 3.25 -3.09375 C 3.140625 -3.21875 2.890625 -3.375 2.453125 -3.375 C 1.8125 -3.375 1.46875 -2.921875 1.359375 -2.640625 L 1.34375 -2.640625 L 1.34375 -5.296875 L 0.25 -5.21875 L 0.25 -4.984375 C 0.78125 -4.984375 0.84375 -4.921875 0.84375 -4.546875 L 0.84375 -0.578125 C 0.84375 -0.234375 0.75 -0.234375 0.25 -0.234375 L 0.25 0 L 1.109375 -0.015625 L 1.96875 0 L 1.96875 -0.234375 C 1.453125 -0.234375 1.375 -0.234375 1.375 -0.578125 L 1.375 -1.984375 C 1.375 -2.78125 1.90625 -3.203125 2.40625 -3.203125 C 2.875 -3.203125 2.96875 -2.796875 2.96875 -2.359375 L 2.96875 -0.578125 C 2.96875 -0.234375 2.875 -0.234375 2.375 -0.234375 L 2.375 0 L 3.234375 -0.015625 Z M 4.09375 0 \"/>\n</symbol>\n<symbol overflow=\"visible\" id=\"glyph0-15\">\n<path style=\"stroke:none;\" d=\"M 3.90625 0 L 3.90625 -0.234375 C 3.625 -0.234375 3.453125 -0.234375 3.15625 -0.640625 L 2.1875 -2.015625 C 2.1875 -2.03125 2.140625 -2.078125 2.140625 -2.09375 C 2.140625 -2.125 2.6875 -2.578125 2.765625 -2.640625 C 3.25 -3.03125 3.5625 -3.046875 3.734375 -3.0625 L 3.734375 -3.296875 C 3.5 -3.265625 3.40625 -3.265625 3.1875 -3.265625 C 2.921875 -3.265625 2.4375 -3.28125 2.34375 -3.296875 L 2.34375 -3.0625 C 2.484375 -3.046875 2.5625 -2.96875 2.5625 -2.859375 C 2.5625 -2.71875 2.453125 -2.625 2.390625 -2.5625 L 1.3125 -1.640625 L 1.3125 -5.296875 L 0.21875 -5.21875 L 0.21875 -4.984375 C 0.75 -4.984375 0.8125 -4.921875 0.8125 -4.546875 L 0.8125 -0.578125 C 0.8125 -0.234375 0.71875 -0.234375 0.21875 -0.234375 L 0.21875 0 L 1.046875 -0.015625 L 1.890625 0 L 1.890625 -0.234375 C 1.375 -0.234375 1.296875 -0.234375 1.296875 -0.578125 L 1.296875 -1.375 L 1.78125 -1.78125 C 2.375 -0.984375 2.6875 -0.546875 2.6875 -0.40625 C 2.6875 -0.265625 2.5625 -0.234375 2.421875 -0.234375 L 2.421875 0 L 3.234375 -0.015625 C 3.46875 -0.015625 3.6875 -0.015625 3.90625 0 Z M 3.90625 0 \"/>\n</symbol>\n<symbol overflow=\"visible\" id=\"glyph0-16\">\n<path style=\"stroke:none;\" d=\"M 3.171875 -0.90625 C 3.171875 -0.984375 3.109375 -1 3.078125 -1 C 3 -1 2.984375 -0.953125 2.96875 -0.890625 C 2.703125 -0.109375 2.015625 -0.109375 1.9375 -0.109375 C 1.5625 -0.109375 1.25 -0.34375 1.078125 -0.625 C 0.84375 -0.984375 0.84375 -1.484375 0.84375 -1.765625 L 2.984375 -1.765625 C 3.140625 -1.765625 3.171875 -1.765625 3.171875 -1.921875 C 3.171875 -2.6875 2.765625 -3.421875 1.796875 -3.421875 C 0.921875 -3.421875 0.21875 -2.640625 0.21875 -1.6875 C 0.21875 -0.65625 1.015625 0.078125 1.890625 0.078125 C 2.828125 0.078125 3.171875 -0.765625 3.171875 -0.90625 Z M 2.671875 -1.921875 L 0.859375 -1.921875 C 0.90625 -3.0625 1.546875 -3.25 1.796875 -3.25 C 2.59375 -3.25 2.671875 -2.21875 2.671875 -1.921875 Z M 2.671875 -1.921875 \"/>\n</symbol>\n<symbol overflow=\"visible\" id=\"glyph0-17\">\n<path style=\"stroke:none;\" d=\"M 3.703125 -4.921875 L 1.84375 -4.921875 C 0.921875 -4.921875 0.90625 -5.015625 0.875 -5.171875 L 0.6875 -5.171875 L 0.421875 -3.59375 L 0.625 -3.59375 C 0.640625 -3.71875 0.703125 -4.1875 0.8125 -4.28125 C 0.859375 -4.328125 1.453125 -4.328125 1.5625 -4.328125 L 3.140625 -4.328125 L 2.28125 -3.125 C 1.59375 -2.09375 1.34375 -1.03125 1.34375 -0.25 C 1.34375 -0.171875 1.34375 0.171875 1.703125 0.171875 C 2.046875 0.171875 2.046875 -0.171875 2.046875 -0.25 L 2.046875 -0.640625 C 2.046875 -1.0625 2.078125 -1.484375 2.125 -1.890625 C 2.15625 -2.078125 2.265625 -2.734375 2.609375 -3.203125 L 3.640625 -4.65625 C 3.703125 -4.75 3.703125 -4.765625 3.703125 -4.921875 Z M 3.703125 -4.921875 \"/>\n</symbol>\n<symbol overflow=\"visible\" id=\"glyph0-18\">\n<path style=\"stroke:none;\" d=\"M 3.984375 -1.65625 C 3.984375 -2.625 3.234375 -3.375 2.390625 -3.375 C 1.78125 -3.375 1.46875 -3.046875 1.3125 -2.875 L 1.3125 -3.375 L 0.21875 -3.296875 L 0.21875 -3.0625 C 0.75 -3.0625 0.8125 -3.015625 0.8125 -2.671875 L 0.8125 0.90625 C 0.8125 1.25 0.71875 1.25 0.21875 1.25 L 0.21875 1.484375 L 1.0625 1.453125 L 1.9375 1.484375 L 1.9375 1.25 C 1.421875 1.25 1.34375 1.25 1.34375 0.90625 L 1.34375 -0.453125 C 1.375 -0.328125 1.703125 0.078125 2.28125 0.078125 C 3.1875 0.078125 3.984375 -0.671875 3.984375 -1.65625 Z M 3.34375 -1.65625 C 3.34375 -0.71875 2.8125 -0.078125 2.25 -0.078125 C 1.9375 -0.078125 1.65625 -0.234375 1.4375 -0.546875 C 1.34375 -0.703125 1.34375 -0.71875 1.34375 -0.875 L 1.34375 -2.578125 C 1.5625 -2.96875 1.9375 -3.1875 2.328125 -3.1875 C 2.875 -3.1875 3.34375 -2.515625 3.34375 -1.65625 Z M 3.34375 -1.65625 \"/>\n</symbol>\n<symbol overflow=\"visible\" id=\"glyph0-19\">\n<path style=\"stroke:none;\" d=\"M 1.953125 0 L 1.953125 -0.234375 C 1.4375 -0.234375 1.359375 -0.234375 1.359375 -0.578125 L 1.359375 -5.296875 L 0.25 -5.21875 L 0.25 -4.984375 C 0.78125 -4.984375 0.84375 -4.921875 0.84375 -4.546875 L 0.84375 -0.578125 C 0.84375 -0.234375 0.765625 -0.234375 0.25 -0.234375 L 0.25 0 L 1.09375 -0.015625 Z M 1.953125 0 \"/>\n</symbol>\n<symbol overflow=\"visible\" id=\"glyph0-20\">\n<path style=\"stroke:none;\" d=\"M 2.78125 -2.90625 C 2.78125 -3.15625 2.546875 -3.375 2.21875 -3.375 C 1.65625 -3.375 1.390625 -2.859375 1.28125 -2.53125 L 1.28125 -3.375 L 0.21875 -3.296875 L 0.21875 -3.0625 C 0.75 -3.0625 0.8125 -3 0.8125 -2.625 L 0.8125 -0.578125 C 0.8125 -0.234375 0.71875 -0.234375 0.21875 -0.234375 L 0.21875 0 L 1.078125 -0.015625 C 1.390625 -0.015625 1.75 -0.015625 2.0625 0 L 2.0625 -0.234375 L 1.890625 -0.234375 C 1.328125 -0.234375 1.3125 -0.328125 1.3125 -0.59375 L 1.3125 -1.765625 C 1.3125 -2.53125 1.640625 -3.203125 2.21875 -3.203125 C 2.265625 -3.203125 2.28125 -3.203125 2.296875 -3.203125 C 2.28125 -3.1875 2.125 -3.109375 2.125 -2.90625 C 2.125 -2.6875 2.28125 -2.578125 2.453125 -2.578125 C 2.59375 -2.578125 2.78125 -2.671875 2.78125 -2.90625 Z M 2.78125 -2.90625 \"/>\n</symbol>\n<symbol overflow=\"visible\" id=\"glyph0-21\">\n<path style=\"stroke:none;\" d=\"M 1.890625 0 L 1.890625 -0.234375 C 1.390625 -0.234375 1.359375 -0.28125 1.359375 -0.578125 L 1.359375 -3.375 L 0.28125 -3.296875 L 0.28125 -3.0625 C 0.78125 -3.0625 0.84375 -3.015625 0.84375 -2.640625 L 0.84375 -0.578125 C 0.84375 -0.234375 0.765625 -0.234375 0.25 -0.234375 L 0.25 0 L 1.09375 -0.015625 C 1.359375 -0.015625 1.625 0 1.890625 0 Z M 1.46875 -4.609375 C 1.46875 -4.828125 1.296875 -5.015625 1.0625 -5.015625 C 0.796875 -5.015625 0.65625 -4.8125 0.65625 -4.609375 C 0.65625 -4.40625 0.828125 -4.203125 1.046875 -4.203125 C 1.3125 -4.203125 1.46875 -4.421875 1.46875 -4.609375 Z M 1.46875 -4.609375 \"/>\n</symbol>\n<symbol overflow=\"visible\" id=\"glyph0-22\">\n<path style=\"stroke:none;\" d=\"M 3.59375 -1.640625 C 3.59375 -2.609375 2.828125 -3.421875 1.90625 -3.421875 C 0.953125 -3.421875 0.21875 -2.59375 0.21875 -1.640625 C 0.21875 -0.65625 1.015625 0.078125 1.90625 0.078125 C 2.828125 0.078125 3.59375 -0.671875 3.59375 -1.640625 Z M 2.96875 -1.703125 C 2.96875 -1.421875 2.96875 -1.015625 2.796875 -0.671875 C 2.625 -0.328125 2.296875 -0.109375 1.90625 -0.109375 C 1.578125 -0.109375 1.25 -0.265625 1.046875 -0.625 C 0.84375 -0.953125 0.84375 -1.421875 0.84375 -1.703125 C 0.84375 -2 0.84375 -2.40625 1.03125 -2.75 C 1.234375 -3.09375 1.59375 -3.25 1.90625 -3.25 C 2.234375 -3.25 2.5625 -3.09375 2.765625 -2.765625 C 2.96875 -2.4375 2.96875 -1.984375 2.96875 -1.703125 Z M 2.96875 -1.703125 \"/>\n</symbol>\n<symbol overflow=\"visible\" id=\"glyph0-23\">\n<path style=\"stroke:none;\" d=\"M 4.09375 0 L 4.09375 -0.234375 C 3.546875 -0.234375 3.484375 -0.296875 3.484375 -0.671875 L 3.484375 -3.375 L 2.375 -3.296875 L 2.375 -3.0625 C 2.90625 -3.0625 2.96875 -3 2.96875 -2.625 L 2.96875 -1.265625 C 2.96875 -0.609375 2.59375 -0.078125 2.046875 -0.078125 C 1.390625 -0.078125 1.375 -0.4375 1.375 -0.84375 L 1.375 -3.375 L 0.25 -3.296875 L 0.25 -3.0625 C 0.84375 -3.0625 0.84375 -3.03125 0.84375 -2.359375 L 0.84375 -1.203125 C 0.84375 -0.609375 0.84375 0.078125 2 0.078125 C 2.4375 0.078125 2.765625 -0.125 2.984375 -0.609375 L 2.984375 0.078125 Z M 4.09375 0 \"/>\n</symbol>\n<symbol overflow=\"visible\" id=\"glyph0-24\">\n<path style=\"stroke:none;\" d=\"M 4.03125 0 L 4.03125 -0.234375 C 3.484375 -0.234375 3.4375 -0.296875 3.4375 -0.671875 L 3.4375 -5.296875 L 2.328125 -5.21875 L 2.328125 -4.984375 C 2.859375 -4.984375 2.921875 -4.921875 2.921875 -4.546875 L 2.921875 -2.90625 C 2.703125 -3.171875 2.375 -3.375 1.96875 -3.375 C 1.0625 -3.375 0.265625 -2.625 0.265625 -1.640625 C 0.265625 -0.671875 1.015625 0.078125 1.875 0.078125 C 2.375 0.078125 2.71875 -0.171875 2.90625 -0.421875 L 2.90625 0.078125 Z M 2.90625 -0.90625 C 2.90625 -0.765625 2.90625 -0.75 2.8125 -0.625 C 2.59375 -0.25 2.25 -0.078125 1.921875 -0.078125 C 1.578125 -0.078125 1.296875 -0.28125 1.109375 -0.578125 C 0.921875 -0.890625 0.890625 -1.328125 0.890625 -1.640625 C 0.890625 -1.921875 0.90625 -2.375 1.125 -2.71875 C 1.296875 -2.953125 1.578125 -3.203125 2 -3.203125 C 2.265625 -3.203125 2.578125 -3.09375 2.8125 -2.75 C 2.90625 -2.625 2.90625 -2.609375 2.90625 -2.46875 Z M 2.90625 -0.90625 \"/>\n</symbol>\n<symbol overflow=\"visible\" id=\"glyph0-25\">\n<path style=\"stroke:none;\" d=\"M 6.21875 0 L 6.21875 -0.234375 C 5.8125 -0.234375 5.625 -0.234375 5.609375 -0.46875 L 5.609375 -1.921875 C 5.609375 -2.578125 5.609375 -2.8125 5.375 -3.09375 C 5.265625 -3.21875 5.015625 -3.375 4.578125 -3.375 C 3.9375 -3.375 3.59375 -2.921875 3.46875 -2.625 C 3.359375 -3.296875 2.796875 -3.375 2.453125 -3.375 C 1.890625 -3.375 1.53125 -3.046875 1.328125 -2.578125 L 1.328125 -3.375 L 0.25 -3.296875 L 0.25 -3.0625 C 0.78125 -3.0625 0.84375 -3 0.84375 -2.625 L 0.84375 -0.578125 C 0.84375 -0.234375 0.75 -0.234375 0.25 -0.234375 L 0.25 0 L 1.109375 -0.015625 L 1.96875 0 L 1.96875 -0.234375 C 1.453125 -0.234375 1.375 -0.234375 1.375 -0.578125 L 1.375 -1.984375 C 1.375 -2.78125 1.90625 -3.203125 2.40625 -3.203125 C 2.875 -3.203125 2.96875 -2.796875 2.96875 -2.359375 L 2.96875 -0.578125 C 2.96875 -0.234375 2.875 -0.234375 2.375 -0.234375 L 2.375 0 L 3.234375 -0.015625 L 4.09375 0 L 4.09375 -0.234375 C 3.578125 -0.234375 3.484375 -0.234375 3.484375 -0.578125 L 3.484375 -1.984375 C 3.484375 -2.78125 4.03125 -3.203125 4.515625 -3.203125 C 5 -3.203125 5.09375 -2.796875 5.09375 -2.359375 L 5.09375 -0.578125 C 5.09375 -0.234375 5 -0.234375 4.5 -0.234375 L 4.5 0 L 5.359375 -0.015625 Z M 6.21875 0 \"/>\n</symbol>\n<symbol overflow=\"visible\" id=\"glyph0-26\">\n<path style=\"stroke:none;\" d=\"M 4.09375 0 L 4.09375 -0.234375 C 3.6875 -0.234375 3.5 -0.234375 3.484375 -0.46875 L 3.484375 -1.921875 C 3.484375 -2.578125 3.484375 -2.8125 3.25 -3.09375 C 3.140625 -3.21875 2.890625 -3.375 2.453125 -3.375 C 1.890625 -3.375 1.53125 -3.046875 1.328125 -2.578125 L 1.328125 -3.375 L 0.25 -3.296875 L 0.25 -3.0625 C 0.78125 -3.0625 0.84375 -3 0.84375 -2.625 L 0.84375 -0.578125 C 0.84375 -0.234375 0.75 -0.234375 0.25 -0.234375 L 0.25 0 L 1.109375 -0.015625 L 1.96875 0 L 1.96875 -0.234375 C 1.453125 -0.234375 1.375 -0.234375 1.375 -0.578125 L 1.375 -1.984375 C 1.375 -2.78125 1.90625 -3.203125 2.40625 -3.203125 C 2.875 -3.203125 2.96875 -2.796875 2.96875 -2.359375 L 2.96875 -0.578125 C 2.96875 -0.234375 2.875 -0.234375 2.375 -0.234375 L 2.375 0 L 3.234375 -0.015625 Z M 4.09375 0 \"/>\n</symbol>\n<symbol overflow=\"visible\" id=\"glyph0-27\">\n<path style=\"stroke:none;\" d=\"M 2.53125 -0.953125 L 2.53125 -1.390625 L 2.34375 -1.390625 L 2.34375 -0.96875 C 2.34375 -0.390625 2.109375 -0.109375 1.828125 -0.109375 C 1.328125 -0.109375 1.328125 -0.796875 1.328125 -0.9375 L 1.328125 -3.0625 L 2.421875 -3.0625 L 2.421875 -3.296875 L 1.328125 -3.296875 L 1.328125 -4.703125 L 1.125 -4.703125 C 1.125 -4.078125 0.890625 -3.25 0.140625 -3.21875 L 0.140625 -3.0625 L 0.796875 -3.0625 L 0.796875 -0.953125 C 0.796875 0 1.5 0.078125 1.78125 0.078125 C 2.328125 0.078125 2.53125 -0.453125 2.53125 -0.953125 Z M 2.53125 -0.953125 \"/>\n</symbol>\n<symbol overflow=\"visible\" id=\"glyph1-0\">\n<path style=\"stroke:none;\" d=\"\"/>\n</symbol>\n<symbol overflow=\"visible\" id=\"glyph1-1\">\n<path style=\"stroke:none;\" d=\"M 3.59375 -1.640625 C 3.59375 -2.609375 2.828125 -3.421875 1.90625 -3.421875 C 0.953125 -3.421875 0.21875 -2.59375 0.21875 -1.640625 C 0.21875 -0.65625 1.015625 0.078125 1.90625 0.078125 C 2.828125 0.078125 3.59375 -0.671875 3.59375 -1.640625 Z M 1.90625 -0.109375 C 1.578125 -0.109375 1.25 -0.265625 1.046875 -0.625 C 0.84375 -0.953125 0.84375 -1.421875 0.84375 -1.703125 C 0.84375 -2 0.84375 -2.40625 1.03125 -2.75 C 1.234375 -3.09375 1.59375 -3.25 1.90625 -3.25 C 2.234375 -3.25 2.5625 -3.09375 2.765625 -2.765625 C 2.96875 -2.4375 2.96875 -1.984375 2.96875 -1.703125 C 2.96875 -1.421875 2.96875 -1.015625 2.796875 -0.671875 C 2.625 -0.328125 2.296875 -0.109375 1.90625 -0.109375 Z M 1.90625 -0.109375 \"/>\n</symbol>\n<symbol overflow=\"visible\" id=\"glyph1-2\">\n<path style=\"stroke:none;\" d=\"M 2.984375 -0.609375 L 2.984375 0.078125 L 4.09375 0 L 4.09375 -0.234375 C 3.546875 -0.234375 3.484375 -0.296875 3.484375 -0.671875 L 3.484375 -3.375 L 2.375 -3.296875 L 2.375 -3.0625 C 2.90625 -3.0625 2.96875 -3 2.96875 -2.625 L 2.96875 -1.265625 C 2.96875 -0.609375 2.59375 -0.078125 2.046875 -0.078125 C 1.390625 -0.078125 1.375 -0.4375 1.375 -0.84375 L 1.375 -3.375 L 0.25 -3.296875 L 0.25 -3.0625 C 0.84375 -3.0625 0.84375 -3.03125 0.84375 -2.359375 L 0.84375 -1.203125 C 0.84375 -0.609375 0.84375 0.078125 2 0.078125 C 2.4375 0.078125 2.765625 -0.125 2.984375 -0.609375 Z M 2.984375 -0.609375 \"/>\n</symbol>\n<symbol overflow=\"visible\" id=\"glyph1-3\">\n<path style=\"stroke:none;\" d=\"M 0.890625 -1.671875 C 0.890625 -2.90625 1.515625 -3.234375 1.921875 -3.234375 C 2 -3.234375 2.46875 -3.21875 2.75 -2.953125 C 2.4375 -2.921875 2.390625 -2.703125 2.390625 -2.59375 C 2.390625 -2.40625 2.515625 -2.25 2.734375 -2.25 C 2.9375 -2.25 3.09375 -2.375 3.09375 -2.609375 C 3.09375 -3.125 2.5 -3.421875 1.921875 -3.421875 C 0.96875 -3.421875 0.265625 -2.59375 0.265625 -1.65625 C 0.265625 -0.671875 1.015625 0.078125 1.90625 0.078125 C 2.921875 0.078125 3.171875 -0.828125 3.171875 -0.90625 C 3.171875 -0.984375 3.09375 -0.984375 3.078125 -0.984375 C 3 -0.984375 2.984375 -0.953125 2.96875 -0.90625 C 2.75 -0.203125 2.25 -0.109375 1.96875 -0.109375 C 1.5625 -0.109375 0.890625 -0.4375 0.890625 -1.671875 Z M 0.890625 -1.671875 \"/>\n</symbol>\n<symbol overflow=\"visible\" id=\"glyph1-4\">\n<path style=\"stroke:none;\" d=\"M 2.546875 -0.578125 C 2.578125 -0.28125 2.78125 0.046875 3.140625 0.046875 C 3.296875 0.046875 3.765625 -0.0625 3.765625 -0.6875 L 3.765625 -1.109375 L 3.578125 -1.109375 L 3.578125 -0.6875 C 3.578125 -0.234375 3.390625 -0.1875 3.296875 -0.1875 C 3.046875 -0.1875 3.015625 -0.53125 3.015625 -0.578125 L 3.015625 -2.09375 C 3.015625 -2.421875 3.015625 -2.71875 2.75 -3 C 2.4375 -3.296875 2.0625 -3.421875 1.703125 -3.421875 C 1.0625 -3.421875 0.546875 -3.0625 0.546875 -2.5625 C 0.546875 -2.328125 0.6875 -2.203125 0.890625 -2.203125 C 1.109375 -2.203125 1.25 -2.359375 1.25 -2.546875 C 1.25 -2.640625 1.203125 -2.890625 0.859375 -2.90625 C 1.0625 -3.171875 1.4375 -3.25 1.6875 -3.25 C 2.0625 -3.25 2.484375 -2.953125 2.484375 -2.28125 L 2.484375 -2 C 2.09375 -1.96875 1.5625 -1.953125 1.078125 -1.71875 C 0.515625 -1.453125 0.328125 -1.0625 0.328125 -0.71875 C 0.328125 -0.109375 1.0625 0.078125 1.546875 0.078125 C 2.046875 0.078125 2.40625 -0.21875 2.546875 -0.578125 Z M 2.484375 -1.828125 L 2.484375 -1.0625 C 2.484375 -0.34375 1.9375 -0.078125 1.59375 -0.078125 C 1.21875 -0.078125 0.90625 -0.34375 0.90625 -0.734375 C 0.90625 -1.15625 1.234375 -1.78125 2.484375 -1.828125 Z M 2.484375 -1.828125 \"/>\n</symbol>\n<symbol overflow=\"visible\" id=\"glyph1-5\">\n<path style=\"stroke:none;\" d=\"M 1.28125 -2.53125 L 1.28125 -3.375 L 0.21875 -3.296875 L 0.21875 -3.0625 C 0.75 -3.0625 0.8125 -3 0.8125 -2.625 L 0.8125 -0.578125 C 0.8125 -0.234375 0.71875 -0.234375 0.21875 -0.234375 L 0.21875 0 C 0.515625 0 0.875 -0.015625 1.078125 -0.015625 C 1.390625 -0.015625 1.75 -0.015625 2.0625 0 L 2.0625 -0.234375 L 1.890625 -0.234375 C 1.328125 -0.234375 1.3125 -0.328125 1.3125 -0.59375 L 1.3125 -1.765625 C 1.3125 -2.53125 1.640625 -3.203125 2.21875 -3.203125 C 2.265625 -3.203125 2.28125 -3.203125 2.296875 -3.203125 C 2.28125 -3.1875 2.125 -3.109375 2.125 -2.90625 C 2.125 -2.6875 2.28125 -2.578125 2.453125 -2.578125 C 2.59375 -2.578125 2.78125 -2.671875 2.78125 -2.90625 C 2.78125 -3.15625 2.546875 -3.375 2.21875 -3.375 C 1.65625 -3.375 1.390625 -2.859375 1.28125 -2.53125 Z M 1.28125 -2.53125 \"/>\n</symbol>\n<symbol overflow=\"visible\" id=\"glyph1-6\">\n<path style=\"stroke:none;\" d=\"M 2.90625 -0.421875 L 2.90625 0.078125 L 4.03125 0 L 4.03125 -0.234375 C 3.484375 -0.234375 3.4375 -0.296875 3.4375 -0.671875 L 3.4375 -5.296875 L 2.328125 -5.21875 L 2.328125 -4.984375 C 2.859375 -4.984375 2.921875 -4.921875 2.921875 -4.546875 L 2.921875 -2.90625 C 2.703125 -3.171875 2.375 -3.375 1.96875 -3.375 C 1.0625 -3.375 0.265625 -2.625 0.265625 -1.640625 C 0.265625 -0.671875 1.015625 0.078125 1.875 0.078125 C 2.375 0.078125 2.71875 -0.171875 2.90625 -0.421875 Z M 2.90625 -2.46875 L 2.90625 -0.90625 C 2.90625 -0.765625 2.90625 -0.75 2.8125 -0.625 C 2.59375 -0.25 2.25 -0.078125 1.921875 -0.078125 C 1.578125 -0.078125 1.296875 -0.28125 1.109375 -0.578125 C 0.921875 -0.890625 0.890625 -1.328125 0.890625 -1.640625 C 0.890625 -1.921875 0.90625 -2.375 1.125 -2.71875 C 1.296875 -2.953125 1.578125 -3.203125 2 -3.203125 C 2.265625 -3.203125 2.578125 -3.09375 2.8125 -2.75 C 2.90625 -2.625 2.90625 -2.609375 2.90625 -2.46875 Z M 2.90625 -2.46875 \"/>\n</symbol>\n<symbol overflow=\"visible\" id=\"glyph1-7\">\n<path style=\"stroke:none;\" d=\"M 2.53125 1.828125 C 2.53125 1.8125 2.53125 1.796875 2.40625 1.671875 C 1.4375 0.703125 1.203125 -0.734375 1.203125 -1.90625 C 1.203125 -3.234375 1.484375 -4.5625 2.4375 -5.53125 C 2.53125 -5.609375 2.53125 -5.625 2.53125 -5.65625 C 2.53125 -5.703125 2.5 -5.734375 2.453125 -5.734375 C 2.375 -5.734375 1.6875 -5.203125 1.234375 -4.234375 C 0.84375 -3.40625 0.75 -2.546875 0.75 -1.90625 C 0.75 -1.3125 0.84375 -0.390625 1.265625 0.46875 C 1.71875 1.40625 2.375 1.90625 2.453125 1.90625 C 2.5 1.90625 2.53125 1.890625 2.53125 1.828125 Z M 2.53125 1.828125 \"/>\n</symbol>\n<symbol overflow=\"visible\" id=\"glyph1-8\">\n<path style=\"stroke:none;\" d=\"M 2.203125 -1.90625 C 2.203125 -2.5 2.125 -3.4375 1.703125 -4.296875 C 1.25 -5.234375 0.59375 -5.734375 0.515625 -5.734375 C 0.46875 -5.734375 0.4375 -5.703125 0.4375 -5.65625 C 0.4375 -5.625 0.4375 -5.609375 0.578125 -5.484375 C 1.328125 -4.71875 1.765625 -3.5 1.765625 -1.90625 C 1.765625 -0.609375 1.484375 0.734375 0.53125 1.703125 C 0.4375 1.796875 0.4375 1.8125 0.4375 1.828125 C 0.4375 1.875 0.46875 1.90625 0.515625 1.90625 C 0.59375 1.90625 1.28125 1.390625 1.734375 0.421875 C 2.109375 -0.421875 2.203125 -1.265625 2.203125 -1.90625 Z M 2.203125 -1.90625 \"/>\n</symbol>\n<symbol overflow=\"visible\" id=\"glyph2-0\">\n<path style=\"stroke:none;\" d=\"\"/>\n</symbol>\n<symbol overflow=\"visible\" id=\"glyph2-1\">\n<path style=\"stroke:none;\" d=\"M 5.8125 -5.3125 C 5.8125 -5.328125 5.796875 -5.390625 5.71875 -5.390625 C 5.703125 -5.390625 5.6875 -5.375 5.609375 -5.296875 L 5.078125 -4.703125 C 5 -4.8125 4.65625 -5.390625 3.8125 -5.390625 C 2.09375 -5.390625 0.375 -3.703125 0.375 -1.921875 C 0.375 -0.703125 1.234375 0.171875 2.46875 0.171875 C 2.796875 0.171875 3.140625 0.09375 3.421875 -0.015625 C 3.8125 -0.171875 3.953125 -0.328125 4.09375 -0.484375 C 4.15625 -0.296875 4.359375 0 4.4375 0 C 4.46875 0 4.484375 -0.03125 4.484375 -0.03125 C 4.5 -0.046875 4.578125 -0.34375 4.609375 -0.5 L 4.765625 -1.09375 C 4.796875 -1.21875 4.828125 -1.359375 4.859375 -1.484375 C 4.9375 -1.828125 4.953125 -1.84375 5.390625 -1.84375 C 5.421875 -1.84375 5.515625 -1.859375 5.515625 -2 C 5.515625 -2.0625 5.46875 -2.078125 5.40625 -2.078125 C 5.234375 -2.078125 4.78125 -2.0625 4.609375 -2.0625 C 4.375 -2.0625 3.78125 -2.078125 3.53125 -2.078125 C 3.46875 -2.078125 3.375 -2.078125 3.375 -1.9375 C 3.375 -1.84375 3.4375 -1.84375 3.609375 -1.84375 C 3.609375 -1.84375 3.828125 -1.84375 4.015625 -1.828125 C 4.203125 -1.8125 4.25 -1.78125 4.25 -1.6875 C 4.25 -1.625 4.171875 -1.28125 4.09375 -1 C 3.875 -0.15625 2.875 -0.0625 2.609375 -0.0625 C 1.875 -0.0625 1.078125 -0.5 1.078125 -1.671875 C 1.078125 -1.90625 1.15625 -3.171875 1.953125 -4.171875 C 2.375 -4.6875 3.109375 -5.15625 3.859375 -5.15625 C 4.640625 -5.15625 5.09375 -4.5625 5.09375 -3.671875 C 5.09375 -3.375 5.078125 -3.359375 5.078125 -3.28125 C 5.078125 -3.203125 5.15625 -3.203125 5.1875 -3.203125 C 5.28125 -3.203125 5.28125 -3.21875 5.328125 -3.359375 Z M 5.8125 -5.3125 \"/>\n</symbol>\n<symbol overflow=\"visible\" id=\"glyph2-2\">\n<path style=\"stroke:none;\" d=\"M 5.15625 -3.8125 C 5.25 -3.84375 5.296875 -3.890625 5.296875 -3.96875 C 5.296875 -4.0625 5.234375 -4.125 5.15625 -4.125 C 5.125 -4.125 5.109375 -4.125 5.015625 -4.078125 L 0.78125 -2.078125 C 0.6875 -2.046875 0.640625 -2 0.640625 -1.90625 C 0.640625 -1.8125 0.6875 -1.78125 0.78125 -1.734375 L 5.015625 0.25 C 5.109375 0.3125 5.125 0.3125 5.15625 0.3125 C 5.234375 0.3125 5.296875 0.234375 5.296875 0.15625 C 5.296875 0.0625 5.25 0.03125 5.15625 -0.015625 L 1.140625 -1.90625 Z M 5.15625 -3.8125 \"/>\n</symbol>\n<symbol overflow=\"visible\" id=\"glyph3-0\">\n<path style=\"stroke:none;\" d=\"\"/>\n</symbol>\n<symbol overflow=\"visible\" id=\"glyph3-1\">\n<path style=\"stroke:none;\" d=\"M 3.875 -2.078125 C 3.46875 -2.59375 3.375 -2.703125 3.140625 -2.890625 C 2.71875 -3.234375 2.28125 -3.375 1.890625 -3.375 C 1 -3.375 0.421875 -2.53125 0.421875 -1.640625 C 0.421875 -0.765625 0.984375 0.078125 1.859375 0.078125 C 2.75 0.078125 3.375 -0.609375 3.75 -1.21875 C 4.171875 -0.703125 4.25 -0.59375 4.5 -0.390625 C 4.921875 -0.046875 5.34375 0.078125 5.734375 0.078125 C 6.625 0.078125 7.21875 -0.75 7.21875 -1.65625 C 7.21875 -2.53125 6.640625 -3.375 5.765625 -3.375 C 4.890625 -3.375 4.25 -2.6875 3.875 -2.078125 Z M 4.078125 -1.8125 C 4.390625 -2.359375 4.953125 -3.125 5.828125 -3.125 C 6.625 -3.125 7.046875 -2.34375 7.046875 -1.65625 C 7.046875 -0.90625 6.53125 -0.28125 5.859375 -0.28125 C 5.421875 -0.28125 5.078125 -0.609375 4.90625 -0.765625 C 4.71875 -0.96875 4.546875 -1.203125 4.078125 -1.8125 Z M 3.546875 -1.484375 C 3.234375 -0.9375 2.671875 -0.15625 1.8125 -0.15625 C 1 -0.15625 0.59375 -0.953125 0.59375 -1.640625 C 0.59375 -2.390625 1.09375 -3.015625 1.765625 -3.015625 C 2.21875 -3.015625 2.5625 -2.6875 2.71875 -2.53125 C 2.90625 -2.328125 3.09375 -2.078125 3.546875 -1.484375 Z M 3.546875 -1.484375 \"/>\n</symbol>\n</g>\n</defs>\n<g id=\"surface1\">\n<path style=\"fill:none;stroke-width:1;stroke-linecap:butt;stroke-linejoin:bevel;stroke:rgb(0%,0%,0%);stroke-opacity:1;stroke-miterlimit:10;\" d=\"M 213.974896 181.82392 C 210.350966 176.431349 206.930914 170.253848 205.004267 163.999892 C 202.471084 155.839679 201.650475 146.629493 201.895129 131.562915 \" transform=\"matrix(0.76639,0,0,-0.76639,151.640686,500.715221)\"/>\n<path style=\" stroke:none;fill-rule:nonzero;fill:rgb(0%,0%,0%);fill-opacity:1;\" d=\"M 306.414062 402.546875 C 306.617188 401.433594 307.03125 399.429688 308.007812 398.082031 C 306.804688 399.210938 305.917969 399.226562 304.679688 398.136719 C 305.699219 399.453125 306.175781 401.441406 306.414062 402.546875 Z M 306.414062 402.546875 \"/>\n<g style=\"fill:rgb(0%,0%,0%);fill-opacity:1;\">\n  <use xlink:href=\"#glyph0-1\" x=\"313.175005\" y=\"384.327404\"/>\n  <use xlink:href=\"#glyph0-2\" x=\"316.992624\" y=\"384.327404\"/>\n  <use xlink:href=\"#glyph0-3\" x=\"319.113693\" y=\"384.327404\"/>\n  <use xlink:href=\"#glyph0-2\" x=\"322.931311\" y=\"384.327404\"/>\n  <use xlink:href=\"#glyph0-4\" x=\"325.05238\" y=\"384.327404\"/>\n  <use xlink:href=\"#glyph0-1\" x=\"328.869999\" y=\"384.327404\"/>\n</g>\n<path style=\"fill:none;stroke-width:1;stroke-linecap:butt;stroke-linejoin:bevel;stroke:rgb(0%,0%,0%);stroke-opacity:1;stroke-miterlimit:10;\" d=\"M 366.103504 181.609848 C 360.36434 168.999998 352.504846 151.711151 343.192722 131.216323 \" transform=\"matrix(0.76639,0,0,-0.76639,151.640686,500.715221)\"/>\n<path style=\" stroke:none;fill-rule:nonzero;fill:rgb(0%,0%,0%);fill-opacity:1;\" d=\"M 413.558594 402.578125 C 414.21875 401.660156 415.449219 400.027344 416.90625 399.226562 C 415.339844 399.730469 414.53125 399.363281 413.878906 397.851562 C 414.238281 399.476562 413.816406 401.476562 413.558594 402.578125 Z M 413.558594 402.578125 \"/>\n<g style=\"fill:rgb(0%,0%,0%);fill-opacity:1;\">\n  <use xlink:href=\"#glyph0-1\" x=\"429.667818\" y=\"384.327404\"/>\n  <use xlink:href=\"#glyph0-2\" x=\"433.485437\" y=\"384.327404\"/>\n  <use xlink:href=\"#glyph0-3\" x=\"435.606505\" y=\"384.327404\"/>\n  <use xlink:href=\"#glyph0-2\" x=\"439.424124\" y=\"384.327404\"/>\n  <use xlink:href=\"#glyph0-4\" x=\"441.545193\" y=\"384.327404\"/>\n  <use xlink:href=\"#glyph0-5\" x=\"445.362811\" y=\"384.327404\"/>\n</g>\n<path style=\"fill:none;stroke-width:1;stroke-linecap:butt;stroke-linejoin:bevel;stroke:rgb(0%,0%,0%);stroke-opacity:1;stroke-miterlimit:10;\" d=\"M 40.50027 453.766485 C 39.638885 443.124057 39.771406 429.397976 44.001873 418.006297 C 45.245528 414.647409 46.9632 411.385362 53.033665 402.853071 \" transform=\"matrix(0.76639,0,0,-0.76639,151.640686,500.715221)\"/>\n<path style=\" stroke:none;fill-rule:nonzero;fill:rgb(0%,0%,0%);fill-opacity:1;\" d=\"M 193.828125 194.140625 C 193.367188 193.109375 192.570312 191.222656 192.609375 189.558594 C 192.261719 191.171875 191.535156 191.6875 189.898438 191.488281 C 191.484375 191.996094 193.003906 193.363281 193.828125 194.140625 Z M 193.828125 194.140625 \"/>\n<g style=\"fill:rgb(0%,0%,0%);fill-opacity:1;\">\n  <use xlink:href=\"#glyph0-1\" x=\"189.784683\" y=\"175.866258\"/>\n  <use xlink:href=\"#glyph0-2\" x=\"193.602301\" y=\"175.866258\"/>\n  <use xlink:href=\"#glyph0-3\" x=\"195.72337\" y=\"175.866258\"/>\n  <use xlink:href=\"#glyph0-2\" x=\"199.540988\" y=\"175.866258\"/>\n  <use xlink:href=\"#glyph0-4\" x=\"201.662057\" y=\"175.866258\"/>\n  <use xlink:href=\"#glyph0-6\" x=\"205.479676\" y=\"175.866258\"/>\n</g>\n<path style=\"fill:none;stroke-width:1;stroke-linecap:butt;stroke-linejoin:bevel;stroke:rgb(0%,0%,0%);stroke-opacity:1;stroke-miterlimit:10;\" d=\"M 265.744597 271.652532 C 266.723211 260.984619 268.965868 247.243248 274.001653 236.004477 C 276.692841 230.005369 280.663364 224.143879 289.384242 213.746105 \" transform=\"matrix(0.76639,0,0,-0.76639,151.640686,500.715221)\"/>\n<path style=\" stroke:none;fill-rule:nonzero;fill:rgb(0%,0%,0%);fill-opacity:1;\" d=\"M 375.128906 338.945312 C 374.585938 337.949219 373.644531 336.136719 373.554688 334.472656 C 373.332031 336.109375 372.652344 336.679688 371.003906 336.613281 C 372.625 336.992188 374.246094 338.234375 375.128906 338.945312 Z M 375.128906 338.945312 \"/>\n<g style=\"fill:rgb(0%,0%,0%);fill-opacity:1;\">\n  <use xlink:href=\"#glyph0-1\" x=\"366.049018\" y=\"315.351537\"/>\n  <use xlink:href=\"#glyph0-2\" x=\"369.866636\" y=\"315.351537\"/>\n  <use xlink:href=\"#glyph0-4\" x=\"371.987705\" y=\"315.351537\"/>\n  <use xlink:href=\"#glyph0-2\" x=\"375.805324\" y=\"315.351537\"/>\n  <use xlink:href=\"#glyph0-1\" x=\"377.926393\" y=\"315.351537\"/>\n</g>\n<path style=\"fill:none;stroke-width:1;stroke-linecap:butt;stroke-linejoin:bevel;stroke:rgb(0%,0%,0%);stroke-opacity:1;stroke-miterlimit:10;\" d=\"M 301.484396 363.652444 C 308.4927 349.324923 318.482718 328.886161 329.160824 307.055933 \" transform=\"matrix(0.76639,0,0,-0.76639,151.640686,500.715221)\"/>\n<path style=\" stroke:none;fill-rule:nonzero;fill:rgb(0%,0%,0%);fill-opacity:1;\" d=\"M 405.074219 267.785156 C 404.785156 266.6875 404.308594 264.699219 404.621094 263.066406 C 404.011719 264.597656 403.214844 264.988281 401.628906 264.527344 C 403.113281 265.285156 404.386719 266.882812 405.074219 267.785156 Z M 405.074219 267.785156 \"/>\n<g style=\"fill:rgb(0%,0%,0%);fill-opacity:1;\">\n  <use xlink:href=\"#glyph0-7\" x=\"399.816161\" y=\"245.092734\"/>\n  <use xlink:href=\"#glyph0-8\" x=\"403.209261\" y=\"245.092734\"/>\n  <use xlink:href=\"#glyph0-2\" x=\"407.239139\" y=\"245.092734\"/>\n</g>\n<g style=\"fill:rgb(0%,0%,0%);fill-opacity:1;\">\n  <use xlink:href=\"#glyph0-1\" x=\"412.750253\" y=\"245.092734\"/>\n  <use xlink:href=\"#glyph0-2\" x=\"416.567871\" y=\"245.092734\"/>\n  <use xlink:href=\"#glyph0-4\" x=\"418.68894\" y=\"245.092734\"/>\n  <use xlink:href=\"#glyph0-2\" x=\"422.506559\" y=\"245.092734\"/>\n  <use xlink:href=\"#glyph0-1\" x=\"424.627627\" y=\"245.092734\"/>\n</g>\n<path style=\"fill:none;stroke-width:1;stroke-linecap:butt;stroke-linejoin:bevel;stroke:rgb(0%,0%,0%);stroke-opacity:1;stroke-miterlimit:10;\" d=\"M 331.785753 275.235686 C 326.724483 263.482124 318.064768 246.835492 306.005389 236.004477 C 305.893257 235.902538 285.673664 226.835068 259.714907 215.193638 \" transform=\"matrix(0.76639,0,0,-0.76639,151.640686,500.715221)\"/>\n<path style=\" stroke:none;fill-rule:nonzero;fill:rgb(0%,0%,0%);fill-opacity:1;\" d=\"M 348.253906 336.882812 C 349.355469 336.628906 351.359375 336.21875 352.980469 336.585938 C 351.472656 335.925781 351.109375 335.117188 351.621094 333.546875 C 350.816406 335.003906 349.175781 336.226562 348.253906 336.882812 Z M 348.253906 336.882812 \"/>\n<path style=\"fill:none;stroke-width:1;stroke-linecap:butt;stroke-linejoin:bevel;stroke:rgb(0%,0%,0%);stroke-opacity:1;stroke-miterlimit:10;\" d=\"M 342.621864 275.633248 C 347.983853 262.890878 356.195037 243.354276 365.456191 221.325267 \" transform=\"matrix(0.76639,0,0,-0.76639,151.640686,500.715221)\"/>\n<path style=\" stroke:none;fill-rule:nonzero;fill:rgb(0%,0%,0%);fill-opacity:1;\" d=\"M 432.757812 333.546875 C 432.53125 332.441406 432.164062 330.425781 432.570312 328.8125 C 431.875 330.308594 431.058594 330.652344 429.503906 330.101562 C 430.9375 330.941406 432.121094 332.613281 432.757812 333.546875 Z M 432.757812 333.546875 \"/>\n<path style=\"fill:none;stroke-width:1;stroke-linecap:butt;stroke-linejoin:bevel;stroke:rgb(0%,0%,0%);stroke-opacity:1;stroke-miterlimit:10;\" d=\"M 211.151187 453.613576 C 226.620424 440.274863 248.155029 421.696488 270.612182 402.322988 \" transform=\"matrix(0.76639,0,0,-0.76639,151.640686,500.715221)\"/>\n<path style=\" stroke:none;fill-rule:nonzero;fill:rgb(0%,0%,0%);fill-opacity:1;\" d=\"M 361.050781 194.117188 C 360.355469 193.222656 359.132812 191.585938 358.777344 189.960938 C 358.820312 191.609375 358.242188 192.28125 356.605469 192.480469 C 358.265625 192.59375 360.066406 193.558594 361.050781 194.117188 Z M 361.050781 194.117188 \"/>\n<g style=\"fill:rgb(0%,0%,0%);fill-opacity:1;\">\n  <use xlink:href=\"#glyph0-1\" x=\"349.188438\" y=\"175.866258\"/>\n  <use xlink:href=\"#glyph0-2\" x=\"353.006056\" y=\"175.866258\"/>\n  <use xlink:href=\"#glyph0-4\" x=\"355.127125\" y=\"175.866258\"/>\n  <use xlink:href=\"#glyph0-2\" x=\"358.944744\" y=\"175.866258\"/>\n  <use xlink:href=\"#glyph0-5\" x=\"361.065813\" y=\"175.866258\"/>\n</g>\n<path style=\"fill:none;stroke-width:1;stroke-linecap:butt;stroke-linejoin:bevel;stroke:rgb(0%,0%,0%);stroke-opacity:1;stroke-miterlimit:10;\" d=\"M 188.63287 453.705321 C 182.302461 407.54736 165.003419 281.295957 156.63423 220.23452 \" transform=\"matrix(0.76639,0,0,-0.76639,151.640686,500.715221)\"/>\n<path style=\" stroke:none;fill-rule:nonzero;fill:rgb(0%,0%,0%);fill-opacity:1;\" d=\"M 271.320312 334.566406 C 271.691406 333.5 272.402344 331.582031 273.574219 330.398438 C 272.214844 331.332031 271.332031 331.210938 270.277344 329.945312 C 271.085938 331.398438 271.253906 333.4375 271.320312 334.566406 Z M 271.320312 334.566406 \"/>\n<g style=\"fill:rgb(0%,0%,0%);fill-opacity:1;\">\n  <use xlink:href=\"#glyph0-1\" x=\"289.409251\" y=\"245.609281\"/>\n  <use xlink:href=\"#glyph0-2\" x=\"293.22687\" y=\"245.609281\"/>\n  <use xlink:href=\"#glyph0-4\" x=\"295.347939\" y=\"245.609281\"/>\n  <use xlink:href=\"#glyph0-2\" x=\"299.165557\" y=\"245.609281\"/>\n  <use xlink:href=\"#glyph0-6\" x=\"301.286626\" y=\"245.609281\"/>\n</g>\n<path style=\"fill:none;stroke-width:1;stroke-linecap:butt;stroke-linejoin:bevel;stroke:rgb(0%,0%,0%);stroke-opacity:1;stroke-miterlimit:10;\" d=\"M 150.731965 460.958278 C 134.880456 455.514738 117.311276 447.497239 104.003145 436.003621 C 95.649247 428.796536 88.982439 418.755549 81.163721 403.37296 \" transform=\"matrix(0.76639,0,0,-0.76639,151.640686,500.715221)\"/>\n<path style=\" stroke:none;fill-rule:nonzero;fill:rgb(0%,0%,0%);fill-opacity:1;\" d=\"M 212.636719 193.949219 C 213.339844 193.058594 214.636719 191.480469 216.132812 190.746094 C 214.539062 191.183594 213.75 190.78125 213.164062 189.238281 C 213.453125 190.878906 212.941406 192.859375 212.636719 193.949219 Z M 212.636719 193.949219 \"/>\n<g style=\"fill:rgb(0%,0%,0%);fill-opacity:1;\">\n  <use xlink:href=\"#glyph0-1\" x=\"235.96811\" y=\"176.092343\"/>\n  <use xlink:href=\"#glyph0-2\" x=\"239.785729\" y=\"176.092343\"/>\n  <use xlink:href=\"#glyph0-4\" x=\"241.906798\" y=\"176.092343\"/>\n  <use xlink:href=\"#glyph0-2\" x=\"245.724416\" y=\"176.092343\"/>\n  <use xlink:href=\"#glyph0-9\" x=\"247.845485\" y=\"176.092343\"/>\n</g>\n<g style=\"fill:rgb(0%,0%,0%);fill-opacity:1;\">\n  <use xlink:href=\"#glyph0-10\" x=\"254.205637\" y=\"176.092343\"/>\n  <use xlink:href=\"#glyph0-11\" x=\"261.204859\" y=\"176.092343\"/>\n  <use xlink:href=\"#glyph0-12\" x=\"265.022478\" y=\"176.092343\"/>\n  <use xlink:href=\"#glyph0-13\" x=\"268.033815\" y=\"176.092343\"/>\n</g>\n<g style=\"fill:rgb(0%,0%,0%);fill-opacity:1;\">\n  <use xlink:href=\"#glyph0-14\" x=\"271.220763\" y=\"176.092343\"/>\n  <use xlink:href=\"#glyph0-15\" x=\"275.462901\" y=\"176.092343\"/>\n</g>\n<g style=\"fill:rgb(0%,0%,0%);fill-opacity:1;\">\n  <use xlink:href=\"#glyph0-16\" x=\"279.278992\" y=\"176.092343\"/>\n</g>\n<path style=\"fill:none;stroke-width:1;stroke-linecap:butt;stroke-linejoin:bevel;stroke:rgb(0%,0%,0%);stroke-opacity:1;stroke-miterlimit:10;\" d=\"M 168.39289 191.24308 C 174.850723 188.011614 182.664344 184.453945 190.003949 182.002313 C 227.451226 169.484208 241.911268 182.114446 277.003755 163.999892 C 280.933502 161.971307 295.724845 148.194256 314.063664 130.533332 \" transform=\"matrix(0.76639,0,0,-0.76639,151.640686,500.715221)\"/>\n<path style=\" stroke:none;fill-rule:nonzero;fill:rgb(0%,0%,0%);fill-opacity:1;\" d=\"M 394.253906 402.523438 C 393.605469 401.59375 392.476562 399.890625 392.210938 398.246094 C 392.164062 399.894531 391.546875 400.535156 389.902344 400.644531 C 391.554688 400.847656 393.300781 401.914062 394.253906 402.523438 Z M 394.253906 402.523438 \"/>\n<path style=\"fill:none;stroke-width:1;stroke-linecap:butt;stroke-linejoin:bevel;stroke:rgb(0%,0%,0%);stroke-opacity:1;stroke-miterlimit:10;\" d=\"M 161.16032 186.390785 C 168.433665 173.602542 179.901798 153.423725 192.55752 131.139868 \" transform=\"matrix(0.76639,0,0,-0.76639,151.640686,500.715221)\"/>\n<path style=\" stroke:none;fill-rule:nonzero;fill:rgb(0%,0%,0%);fill-opacity:1;\" d=\"M 300.527344 402.523438 C 300.175781 401.449219 299.574219 399.496094 299.785156 397.84375 C 299.273438 399.410156 298.5 399.851562 296.890625 399.488281 C 298.417969 400.152344 299.789062 401.667969 300.527344 402.523438 Z M 300.527344 402.523438 \"/>\n<path style=\"fill:none;stroke-width:1;stroke-linecap:butt;stroke-linejoin:bevel;stroke:rgb(0%,0%,0%);stroke-opacity:1;stroke-miterlimit:10;\" d=\"M 307.004391 185.254166 C 311.591644 172.644316 318.5133 153.612312 326.535896 131.547624 \" transform=\"matrix(0.76639,0,0,-0.76639,151.640686,500.715221)\"/>\n<path style=\" stroke:none;fill-rule:nonzero;fill:rgb(0%,0%,0%);fill-opacity:1;\" d=\"M 402.804688 402.402344 C 402.632812 401.28125 402.371094 399.253906 402.851562 397.664062 C 402.085938 399.121094 401.25 399.425781 399.726562 398.800781 C 401.117188 399.710938 402.21875 401.433594 402.804688 402.402344 Z M 402.804688 402.402344 \"/>\n<path style=\"fill:none;stroke-width:1;stroke-linecap:butt;stroke-linejoin:bevel;stroke:rgb(0%,0%,0%);stroke-opacity:1;stroke-miterlimit:10;\" d=\"M 290.765515 188.913774 C 276.203534 175.829909 250.362008 152.633698 225.75904 130.543525 \" transform=\"matrix(0.76639,0,0,-0.76639,151.640686,500.715221)\"/>\n<path style=\" stroke:none;fill-rule:nonzero;fill:rgb(0%,0%,0%);fill-opacity:1;\" d=\"M 322.679688 402.449219 C 323.652344 401.871094 325.433594 400.867188 327.089844 400.722656 C 325.449219 400.554688 324.859375 399.894531 324.867188 398.246094 C 324.542969 399.878906 323.355469 401.542969 322.679688 402.449219 Z M 322.679688 402.449219 \"/>\n<path style=\"fill:none;stroke-width:1;stroke-linecap:butt;stroke-linejoin:bevel;stroke:rgb(0%,0%,0%);stroke-opacity:1;stroke-miterlimit:10;\" d=\"M 334.002925 91.648715 C 334.002925 78.824794 334.002925 61.107802 334.002925 39.771978 \" transform=\"matrix(0.76639,0,0,-0.76639,151.640686,500.715221)\"/>\n<path style=\" stroke:none;fill-rule:nonzero;fill:rgb(0%,0%,0%);fill-opacity:1;\" d=\"M 407.617188 472.894531 C 407.839844 471.785156 408.285156 469.789062 409.28125 468.457031 C 408.0625 469.566406 407.175781 469.566406 405.953125 468.457031 C 406.953125 469.789062 407.394531 471.785156 407.617188 472.894531 Z M 407.617188 472.894531 \"/>\n<g style=\"fill:rgb(0%,0%,0%);fill-opacity:1;\">\n  <use xlink:href=\"#glyph0-1\" x=\"412.187229\" y=\"453.553113\"/>\n  <use xlink:href=\"#glyph0-2\" x=\"416.004847\" y=\"453.553113\"/>\n  <use xlink:href=\"#glyph0-4\" x=\"418.125916\" y=\"453.553113\"/>\n  <use xlink:href=\"#glyph0-2\" x=\"421.943534\" y=\"453.553113\"/>\n  <use xlink:href=\"#glyph0-17\" x=\"424.064603\" y=\"453.553113\"/>\n</g>\n<g style=\"fill:rgb(0%,0%,0%);fill-opacity:1;\">\n  <use xlink:href=\"#glyph0-18\" x=\"430.424756\" y=\"453.553113\"/>\n  <use xlink:href=\"#glyph0-11\" x=\"434.666893\" y=\"453.553113\"/>\n  <use xlink:href=\"#glyph0-12\" x=\"438.484512\" y=\"453.553113\"/>\n</g>\n<g style=\"fill:rgb(0%,0%,0%);fill-opacity:1;\">\n  <use xlink:href=\"#glyph0-19\" x=\"444.038383\" y=\"453.553113\"/>\n  <use xlink:href=\"#glyph0-11\" x=\"446.159452\" y=\"453.553113\"/>\n</g>\n<g style=\"fill:rgb(0%,0%,0%);fill-opacity:1;\">\n  <use xlink:href=\"#glyph0-20\" x=\"452.52724\" y=\"453.553113\"/>\n  <use xlink:href=\"#glyph0-7\" x=\"455.517962\" y=\"453.553113\"/>\n  <use xlink:href=\"#glyph0-13\" x=\"458.911062\" y=\"453.553113\"/>\n  <use xlink:href=\"#glyph0-21\" x=\"462.304161\" y=\"453.553113\"/>\n  <use xlink:href=\"#glyph0-18\" x=\"464.42523\" y=\"453.553113\"/>\n  <use xlink:href=\"#glyph0-20\" x=\"468.667367\" y=\"453.553113\"/>\n  <use xlink:href=\"#glyph0-22\" x=\"471.65809\" y=\"453.553113\"/>\n</g>\n<g style=\"fill:rgb(0%,0%,0%);fill-opacity:1;\">\n  <use xlink:href=\"#glyph0-8\" x=\"475.68186\" y=\"453.553113\"/>\n  <use xlink:href=\"#glyph0-23\" x=\"479.711738\" y=\"453.553113\"/>\n  <use xlink:href=\"#glyph0-16\" x=\"483.953875\" y=\"453.553113\"/>\n</g>\n<path style=\"fill:none;stroke-width:1;stroke-linecap:butt;stroke-linejoin:bevel;stroke:rgb(0%,0%,0%);stroke-opacity:1;stroke-miterlimit:10;\" d=\"M 256.50383 218.002057 L 199.50466 218.002057 L 199.50466 182.002313 L 256.50383 182.002313 Z M 256.50383 218.002057 \" transform=\"matrix(0.76639,0,0,-0.76639,151.640686,500.715221)\"/>\n<g style=\"fill:rgb(0%,0%,0%);fill-opacity:1;\">\n  <use xlink:href=\"#glyph0-7\" x=\"313.335947\" y=\"349.322541\"/>\n  <use xlink:href=\"#glyph0-8\" x=\"316.729047\" y=\"349.322541\"/>\n  <use xlink:href=\"#glyph0-2\" x=\"320.758925\" y=\"349.322541\"/>\n</g>\n<g style=\"fill:rgb(0%,0%,0%);fill-opacity:1;\">\n  <use xlink:href=\"#glyph0-24\" x=\"326.270039\" y=\"349.322541\"/>\n  <use xlink:href=\"#glyph0-7\" x=\"330.512176\" y=\"349.322541\"/>\n  <use xlink:href=\"#glyph0-13\" x=\"333.905276\" y=\"349.322541\"/>\n  <use xlink:href=\"#glyph0-2\" x=\"337.298375\" y=\"349.322541\"/>\n</g>\n<path style=\"fill:none;stroke-width:1;stroke-linecap:butt;stroke-linejoin:bevel;stroke:rgb(0%,0%,0%);stroke-opacity:1;stroke-miterlimit:10;\" d=\"M 231.003799 128.000148 L 177.001635 128.000148 L 177.001635 92.000404 L 231.003799 92.000404 Z M 231.003799 128.000148 \" transform=\"matrix(0.76639,0,0,-0.76639,151.640686,500.715221)\"/>\n<g style=\"fill:rgb(0%,0%,0%);fill-opacity:1;\">\n  <use xlink:href=\"#glyph0-24\" x=\"301.411685\" y=\"419.041039\"/>\n  <use xlink:href=\"#glyph0-7\" x=\"305.653823\" y=\"419.041039\"/>\n  <use xlink:href=\"#glyph0-13\" x=\"309.046922\" y=\"419.041039\"/>\n  <use xlink:href=\"#glyph0-2\" x=\"312.440022\" y=\"419.041039\"/>\n</g>\n<path style=\"fill:none;stroke-width:1;stroke-linecap:butt;stroke-linejoin:bevel;stroke:rgb(0%,0%,0%);stroke-opacity:1;stroke-miterlimit:10;\" d=\"M 401.007404 218.002057 L 347.005239 218.002057 L 347.005239 182.002313 L 401.007404 182.002313 Z M 401.007404 218.002057 \" transform=\"matrix(0.76639,0,0,-0.76639,151.640686,500.715221)\"/>\n<g style=\"fill:rgb(0%,0%,0%);fill-opacity:1;\">\n  <use xlink:href=\"#glyph0-7\" x=\"426.694225\" y=\"349.322541\"/>\n  <use xlink:href=\"#glyph0-8\" x=\"430.087324\" y=\"349.322541\"/>\n  <use xlink:href=\"#glyph0-2\" x=\"434.117202\" y=\"349.322541\"/>\n</g>\n<g style=\"fill:rgb(0%,0%,0%);fill-opacity:1;\">\n  <use xlink:href=\"#glyph0-21\" x=\"439.628316\" y=\"349.322541\"/>\n  <use xlink:href=\"#glyph0-20\" x=\"441.749385\" y=\"349.322541\"/>\n  <use xlink:href=\"#glyph0-20\" x=\"444.740108\" y=\"349.322541\"/>\n  <use xlink:href=\"#glyph0-2\" x=\"447.73083\" y=\"349.322541\"/>\n</g>\n<path style=\"fill:none;stroke-width:1;stroke-linecap:butt;stroke-linejoin:bevel;stroke:rgb(0%,0%,0%);stroke-opacity:1;stroke-miterlimit:10;\" d=\"M 361.006556 128.000148 L 307.004391 128.000148 L 307.004391 92.000404 L 361.006556 92.000404 Z M 361.006556 128.000148 \" transform=\"matrix(0.76639,0,0,-0.76639,151.640686,500.715221)\"/>\n<g style=\"fill:rgb(0%,0%,0%);fill-opacity:1;\">\n  <use xlink:href=\"#glyph0-21\" x=\"402.506957\" y=\"418.814954\"/>\n  <use xlink:href=\"#glyph0-20\" x=\"404.628025\" y=\"418.814954\"/>\n  <use xlink:href=\"#glyph0-20\" x=\"407.618748\" y=\"418.814954\"/>\n  <use xlink:href=\"#glyph0-2\" x=\"410.60947\" y=\"418.814954\"/>\n</g>\n<path style=\"fill:none;stroke-width:1;stroke-linecap:butt;stroke-linejoin:bevel;stroke:rgb(0%,0%,0%);stroke-opacity:1;stroke-miterlimit:10;\" d=\"M 86.000725 490.005785 L -0.0000794243 490.005785 L -0.0000794243 454.006041 L 86.000725 454.006041 Z M 86.000725 490.005785 \" transform=\"matrix(0.76639,0,0,-0.76639,151.640686,500.715221)\"/>\n<g style=\"fill:rgb(0%,0%,0%);fill-opacity:1;\">\n  <use xlink:href=\"#glyph0-7\" x=\"160.088603\" y=\"140.862161\"/>\n  <use xlink:href=\"#glyph0-8\" x=\"163.481702\" y=\"140.862161\"/>\n  <use xlink:href=\"#glyph0-2\" x=\"167.51158\" y=\"140.862161\"/>\n</g>\n<g style=\"fill:rgb(0%,0%,0%);fill-opacity:1;\">\n  <use xlink:href=\"#glyph0-13\" x=\"173.022694\" y=\"140.862161\"/>\n  <use xlink:href=\"#glyph0-22\" x=\"176.415794\" y=\"140.862161\"/>\n  <use xlink:href=\"#glyph0-25\" x=\"180.233412\" y=\"140.862161\"/>\n  <use xlink:href=\"#glyph0-18\" x=\"186.595855\" y=\"140.862161\"/>\n  <use xlink:href=\"#glyph0-2\" x=\"190.837993\" y=\"140.862161\"/>\n</g>\n<g style=\"fill:rgb(0%,0%,0%);fill-opacity:1;\">\n  <use xlink:href=\"#glyph0-20\" x=\"196.349107\" y=\"140.862161\"/>\n  <use xlink:href=\"#glyph0-7\" x=\"199.339829\" y=\"140.862161\"/>\n  <use xlink:href=\"#glyph0-24\" x=\"202.732929\" y=\"140.862161\"/>\n  <use xlink:href=\"#glyph0-2\" x=\"206.975066\" y=\"140.862161\"/>\n</g>\n<path style=\"fill:none;stroke-width:1;stroke-linecap:butt;stroke-linejoin:bevel;stroke:rgb(0%,0%,0%);stroke-opacity:1;stroke-miterlimit:10;\" d=\"M 107.999152 400.003877 L 38.002765 400.003877 L 38.002765 364.004133 L 107.999152 364.004133 Z M 107.999152 400.003877 \" transform=\"matrix(0.76639,0,0,-0.76639,151.640686,500.715221)\"/>\n<g style=\"fill:rgb(0%,0%,0%);fill-opacity:1;\">\n  <use xlink:href=\"#glyph0-13\" x=\"189.549401\" y=\"209.838028\"/>\n  <use xlink:href=\"#glyph0-22\" x=\"192.9425\" y=\"209.838028\"/>\n  <use xlink:href=\"#glyph0-25\" x=\"196.760119\" y=\"209.838028\"/>\n  <use xlink:href=\"#glyph0-18\" x=\"203.122562\" y=\"209.838028\"/>\n  <use xlink:href=\"#glyph0-2\" x=\"207.364699\" y=\"209.838028\"/>\n</g>\n<g style=\"fill:rgb(0%,0%,0%);fill-opacity:1;\">\n  <use xlink:href=\"#glyph0-20\" x=\"212.875813\" y=\"209.838028\"/>\n  <use xlink:href=\"#glyph0-7\" x=\"215.866536\" y=\"209.838028\"/>\n  <use xlink:href=\"#glyph0-24\" x=\"219.259635\" y=\"209.838028\"/>\n  <use xlink:href=\"#glyph0-2\" x=\"223.501773\" y=\"209.838028\"/>\n</g>\n<path style=\"fill:none;stroke-width:1;stroke-linecap:butt;stroke-linejoin:bevel;stroke:rgb(0%,0%,0%);stroke-opacity:1;stroke-miterlimit:10;\" d=\"M 292.004073 308.003965 L 238.001909 308.003965 L 238.001909 272.004221 L 292.004073 272.004221 Z M 292.004073 308.003965 \" transform=\"matrix(0.76639,0,0,-0.76639,151.640686,500.715221)\"/>\n<g style=\"fill:rgb(0%,0%,0%);fill-opacity:1;\">\n  <use xlink:href=\"#glyph0-23\" x=\"346.889268\" y=\"280.863221\"/>\n  <use xlink:href=\"#glyph0-26\" x=\"351.131406\" y=\"280.863221\"/>\n  <use xlink:href=\"#glyph0-21\" x=\"355.373543\" y=\"280.863221\"/>\n  <use xlink:href=\"#glyph0-27\" x=\"357.494612\" y=\"280.863221\"/>\n  <use xlink:href=\"#glyph0-2\" x=\"360.463956\" y=\"280.863221\"/>\n</g>\n<path style=\"fill:none;stroke-width:1;stroke-linecap:butt;stroke-linejoin:bevel;stroke:rgb(0%,0%,0%);stroke-opacity:1;stroke-miterlimit:10;\" d=\"M 302.004285 218.002057 L 275.005751 200.004733 L 302.004285 182.002313 L 329.002819 200.004733 Z M 302.004285 218.002057 \" transform=\"matrix(0.76639,0,0,-0.76639,151.640686,500.715221)\"/>\n<g style=\"fill:rgb(0%,0%,0%);fill-opacity:1;\">\n  <use xlink:href=\"#glyph1-1\" x=\"379.063853\" y=\"349.078829\"/>\n  <use xlink:href=\"#glyph1-2\" x=\"382.881471\" y=\"349.078829\"/>\n</g>\n<path style=\"fill:none;stroke-width:1;stroke-linecap:butt;stroke-linejoin:bevel;stroke:rgb(0%,0%,0%);stroke-opacity:1;stroke-miterlimit:10;\" d=\"M 323.003711 400.003877 L 263.002439 400.003877 L 263.002439 364.004133 L 323.003711 364.004133 Z M 323.003711 400.003877 \" transform=\"matrix(0.76639,0,0,-0.76639,151.640686,500.715221)\"/>\n<g style=\"fill:rgb(0%,0%,0%);fill-opacity:1;\">\n  <use xlink:href=\"#glyph0-7\" x=\"361.87909\" y=\"209.838028\"/>\n  <use xlink:href=\"#glyph0-8\" x=\"365.272189\" y=\"209.838028\"/>\n  <use xlink:href=\"#glyph0-2\" x=\"369.302067\" y=\"209.838028\"/>\n</g>\n<g style=\"fill:rgb(0%,0%,0%);fill-opacity:1;\">\n  <use xlink:href=\"#glyph0-23\" x=\"374.813181\" y=\"209.838028\"/>\n  <use xlink:href=\"#glyph0-26\" x=\"379.055319\" y=\"209.838028\"/>\n  <use xlink:href=\"#glyph0-21\" x=\"383.297457\" y=\"209.838028\"/>\n  <use xlink:href=\"#glyph0-27\" x=\"385.418526\" y=\"209.838028\"/>\n  <use xlink:href=\"#glyph0-2\" x=\"388.387869\" y=\"209.838028\"/>\n</g>\n<path style=\"fill:none;stroke-width:1;stroke-linecap:butt;stroke-linejoin:bevel;stroke:rgb(0%,0%,0%);stroke-opacity:1;stroke-miterlimit:10;\" d=\"M 337.005027 308.003965 L 310.006494 290.001545 L 337.005027 272.004221 L 364.003561 290.001545 Z M 337.005027 308.003965 \" transform=\"matrix(0.76639,0,0,-0.76639,151.640686,500.715221)\"/>\n<g style=\"fill:rgb(0%,0%,0%);fill-opacity:1;\">\n  <use xlink:href=\"#glyph1-1\" x=\"405.887503\" y=\"280.102962\"/>\n  <use xlink:href=\"#glyph1-2\" x=\"409.705121\" y=\"280.102962\"/>\n</g>\n<path style=\"fill:none;stroke-width:1;stroke-linecap:butt;stroke-linejoin:bevel;stroke:rgb(0%,0%,0%);stroke-opacity:1;stroke-miterlimit:10;\" d=\"M 231.003799 490.005785 L 151.002103 490.005785 L 151.002103 454.006041 L 231.003799 454.006041 Z M 231.003799 490.005785 \" transform=\"matrix(0.76639,0,0,-0.76639,151.640686,500.715221)\"/>\n<g style=\"fill:rgb(0%,0%,0%);fill-opacity:1;\">\n  <use xlink:href=\"#glyph1-3\" x=\"275.92232\" y=\"140.88362\"/>\n  <use xlink:href=\"#glyph1-4\" x=\"279.312365\" y=\"140.88362\"/>\n  <use xlink:href=\"#glyph1-5\" x=\"283.129984\" y=\"140.88362\"/>\n  <use xlink:href=\"#glyph1-6\" x=\"286.115362\" y=\"140.88362\"/>\n  <use xlink:href=\"#glyph1-7\" x=\"290.352918\" y=\"140.88362\"/>\n</g>\n<g style=\"fill:rgb(0%,0%,0%);fill-opacity:1;\">\n  <use xlink:href=\"#glyph2-1\" x=\"293.335467\" y=\"140.88362\"/>\n</g>\n<g style=\"fill:rgb(0%,0%,0%);fill-opacity:1;\">\n  <use xlink:href=\"#glyph1-8\" x=\"299.3386\" y=\"140.88362\"/>\n</g>\n<g style=\"fill:rgb(0%,0%,0%);fill-opacity:1;\">\n  <use xlink:href=\"#glyph2-2\" x=\"304.428196\" y=\"140.88362\"/>\n</g>\n<g style=\"fill:rgb(0%,0%,0%);fill-opacity:1;\">\n  <use xlink:href=\"#glyph3-1\" x=\"312.487554\" y=\"140.88362\"/>\n</g>\n<path style=\"fill:none;stroke-width:1;stroke-linecap:butt;stroke-linejoin:bevel;stroke:rgb(0%,0%,0%);stroke-opacity:1;stroke-miterlimit:10;\" d=\"M 154.004205 218.002057 L 127.000575 200.004733 L 154.004205 182.002313 L 181.002739 200.004733 Z M 154.004205 218.002057 \" transform=\"matrix(0.76639,0,0,-0.76639,151.640686,500.715221)\"/>\n<g style=\"fill:rgb(0%,0%,0%);fill-opacity:1;\">\n  <use xlink:href=\"#glyph1-1\" x=\"265.6366\" y=\"349.078829\"/>\n  <use xlink:href=\"#glyph1-2\" x=\"269.454219\" y=\"349.078829\"/>\n</g>\n<path style=\"fill:none;stroke-width:1;stroke-linecap:butt;stroke-linejoin:bevel;stroke:rgb(0%,0%,0%);stroke-opacity:1;stroke-miterlimit:10;\" d=\"M 361.006556 36.000236 L 307.004391 36.000236 L 307.004391 0.00049253 L 361.006556 0.00049253 Z M 361.006556 36.000236 \" transform=\"matrix(0.76639,0,0,-0.76639,151.640686,500.715221)\"/>\n<g style=\"fill:rgb(0%,0%,0%);fill-opacity:1;\">\n  <use xlink:href=\"#glyph0-21\" x=\"397.861867\" y=\"489.549685\"/>\n  <use xlink:href=\"#glyph0-26\" x=\"399.982936\" y=\"489.549685\"/>\n  <use xlink:href=\"#glyph0-24\" x=\"404.225073\" y=\"489.549685\"/>\n  <use xlink:href=\"#glyph0-7\" x=\"408.467211\" y=\"489.549685\"/>\n  <use xlink:href=\"#glyph0-13\" x=\"411.86031\" y=\"489.549685\"/>\n  <use xlink:href=\"#glyph0-2\" x=\"415.25341\" y=\"489.549685\"/>\n</g>\n</g>\n</svg>"
          },
          "metadata": {}
        }
      ],
      "source": [
        "# Parse the CSV data\n",
        "csv_data = r\"\"\"source,target,label,style\n",
        "éq. déc.,déc.,3.1.23\n",
        "éq. irr.,irr.,3.1.24\n",
        "éq. comp. réd.,comp. réd.,3.1.25\n",
        "unit.,irr. ou déc.2,3.2.3\n",
        "éq. unit.,éq. irr. ou éq. déc.,éq. 3.2.3\n",
        "éq. irr. ou éq. déc.,éq. irr.,\n",
        "éq. irr. ou éq. déc.,éq. déc.,\n",
        "fini,éq. unit.,3.2.4\n",
        "fini,irr. ou déc.1,3.2.5\n",
        "irr. ou déc.1,irr., ,\n",
        "irr. ou déc.1,déc., ,\n",
        "irr. ou déc.2,irr., ,\n",
        "irr. ou déc.2,déc., ,\n",
        "irr.,indéc.,3.2.7 pas la réciproque\n",
        "fini,comp. réd.,3.2.8 Maschke\n",
        "\"\"\"\n",
        "csv_node=r\"\"\"name,texlbl,shape\n",
        "fini,$\\mathrm{card}(G)<\\infty$\n",
        "irr. ou déc.1,$\\mathrm{ou}$,diamond\n",
        "éq. irr. ou éq. déc.,$\\mathrm{ou}$,diamond\n",
        "irr. ou déc.2,$\\mathrm{ou}$,diamond\n",
        "\"\"\"\n",
        "\n",
        "csv_to_svg(csv_data,csv_node,\"testou\")"
      ]
    },
    {
      "cell_type": "markdown",
      "metadata": {
        "id": "xJmDQKG81OZC"
      },
      "source": [
        "## Théorème de représentation des groupes abéliens finis"
      ]
    },
    {
      "cell_type": "markdown",
      "metadata": {
        "id": "1otcm4wUbrgz"
      },
      "source": [
        "## Applications en mathématiques"
      ]
    },
    {
      "cell_type": "markdown",
      "metadata": {
        "id": "AM5TIEeFth8z"
      },
      "source": [
        "Voir exos steinberg et agreg"
      ]
    },
    {
      "cell_type": "markdown",
      "metadata": {
        "id": "IC0vfat0sx-6"
      },
      "source": [
        "## Applications dans d'autres domaines"
      ]
    },
    {
      "cell_type": "markdown",
      "metadata": {
        "id": "7Vt13-LYkfph"
      },
      "source": [
        "### Statistique"
      ]
    },
    {
      "cell_type": "markdown",
      "metadata": {
        "id": "Gnu0UhpUtFiq"
      },
      "source": [
        "### Physique"
      ]
    },
    {
      "cell_type": "markdown",
      "metadata": {
        "id": "UqIgy1uAtLB0"
      },
      "source": [
        "### Économie"
      ]
    },
    {
      "cell_type": "markdown",
      "metadata": {
        "id": "NS6NYafkklbv"
      },
      "source": [
        "### Ingénieurie"
      ]
    },
    {
      "cell_type": "markdown",
      "metadata": {
        "id": "UyhV29TXtPkh"
      },
      "source": [
        "### Cybersécurité"
      ]
    },
    {
      "cell_type": "markdown",
      "metadata": {
        "id": "eKZxqnidtdiS"
      },
      "source": [
        "### Automatique"
      ]
    },
    {
      "cell_type": "code",
      "execution_count": null,
      "metadata": {
        "collapsed": true,
        "id": "2wWhklmMki13"
      },
      "outputs": [],
      "source": []
    }
  ],
  "metadata": {
    "colab": {
      "provenance": [],
      "include_colab_link": true
    },
    "kernelspec": {
      "display_name": "Python 3 (ipykernel)",
      "language": "python",
      "name": "python3"
    },
    "language_info": {
      "codemirror_mode": {
        "name": "ipython",
        "version": 3
      },
      "file_extension": ".py",
      "mimetype": "text/x-python",
      "name": "python",
      "nbconvert_exporter": "python",
      "pygments_lexer": "ipython3",
      "version": "3.10.14"
    }
  },
  "nbformat": 4,
  "nbformat_minor": 0
}